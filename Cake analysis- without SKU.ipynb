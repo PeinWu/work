{
 "cells": [
  {
   "cell_type": "markdown",
   "metadata": {},
   "source": [
    "### Cake Analysis"
   ]
  },
  {
   "cell_type": "code",
   "execution_count": 2,
   "metadata": {
    "collapsed": true
   },
   "outputs": [],
   "source": [
    "import pandas as pd\n",
    "import numpy as np\n",
    "import matplotlib.pyplot as plt\n",
    "import seaborn as sns\n",
    "% matplotlib inline\n",
    "sns.set(style='whitegrid',color_codes=True)\n",
    "sns.set(font_scale=1)"
   ]
  },
  {
   "cell_type": "markdown",
   "metadata": {},
   "source": [
    "### Concat the dataset to one"
   ]
  },
  {
   "cell_type": "code",
   "execution_count": 166,
   "metadata": {
    "collapsed": false
   },
   "outputs": [],
   "source": [
    "cake12=pd.read_csv('/Users/pein/Desktop/12月蛋糕.csv')\n",
    "cake11=pd.read_csv('/Users/pein/Desktop/11月蛋糕.csv')\n",
    "cake10=pd.read_csv('/Users/pein/Desktop/10月蛋糕.csv')\n",
    "cake9=pd.read_csv('/Users/pein/Desktop/9月蛋糕.csv')\n",
    "cake8=pd.read_csv('/Users/pein/Desktop/8月蛋糕.csv')\n",
    "cake7=pd.read_csv('/Users/pein/Desktop/7月数据.csv')\n",
    "cake6=pd.read_csv('/Users/pein/Desktop/6月蛋糕.csv')\n",
    "cake45=pd.read_csv('/Users/pein/Desktop/45蛋糕.csv')\n",
    "cake123=pd.read_csv('/Users/pein/Desktop/123月蛋糕.csv')\n",
    "data=pd.concat([cake12,cake11,cake10,cake9,cake8,cake7,cake6,\n",
    "               cake45,cake123])"
   ]
  },
  {
   "cell_type": "code",
   "execution_count": 167,
   "metadata": {
    "collapsed": false
   },
   "outputs": [],
   "source": [
    "data['Age']=2016-data['birthYear']"
   ]
  },
  {
   "cell_type": "code",
   "execution_count": 169,
   "metadata": {
    "collapsed": false
   },
   "outputs": [
    {
     "name": "stdout",
     "output_type": "stream",
     "text": [
      "<class 'pandas.core.frame.DataFrame'>\n",
      "Int64Index: 203819 entries, 0 to 42107\n",
      "Data columns (total 15 columns):\n",
      "productId           203819 non-null int64\n",
      "uid                 203819 non-null int64\n",
      "orderId             203819 non-null int64\n",
      "totalFee            203819 non-null float64\n",
      "city                203819 non-null int64\n",
      "birthYear           202619 non-null float64\n",
      "brandName           203819 non-null object\n",
      "categoryName        203819 non-null object\n",
      "cityName            203818 non-null object\n",
      "gender              202619 non-null float64\n",
      "provinceId          203818 non-null float64\n",
      "provinceName        203818 non-null object\n",
      "rootCategoryName    203819 non-null object\n",
      "Age                 202619 non-null float64\n",
      "perorder_range      203819 non-null category\n",
      "dtypes: category(1), float64(5), int64(4), object(5)\n",
      "memory usage: 23.5+ MB\n"
     ]
    }
   ],
   "source": [
    "data1=data.copy()\n",
    "data['perorder_range']=pd.qcut(data['totalFee'],q=10)\n",
    "data.info()"
   ]
  },
  {
   "cell_type": "code",
   "execution_count": 170,
   "metadata": {
    "collapsed": true
   },
   "outputs": [],
   "source": [
    "data.to_csv('/Users/pein/Desktop/客单价范围分布.csv')"
   ]
  },
  {
   "cell_type": "code",
   "execution_count": 184,
   "metadata": {
    "collapsed": false
   },
   "outputs": [],
   "source": [
    "# 提取订单中的用户属性字段\n",
    "data_user=data.loc[:,['orderId','uid','cityName','gender',\n",
    "                                'provinceName','Age']]\n",
    "#对uid进行去重\n",
    "data_user1=data_user.drop_duplicates(subset=['uid'],keep='first')"
   ]
  },
  {
   "cell_type": "code",
   "execution_count": 188,
   "metadata": {
    "collapsed": false
   },
   "outputs": [],
   "source": [
    "# remove the incorrect age and gender in the dataset\n",
    "data_user1=data_user1[data_user1.gender!=-1]\n",
    "data_user1=data_user1[data_user1.gender!=2]"
   ]
  },
  {
   "cell_type": "code",
   "execution_count": 190,
   "metadata": {
    "collapsed": false
   },
   "outputs": [
    {
     "name": "stdout",
     "output_type": "stream",
     "text": [
      "<class 'pandas.core.frame.DataFrame'>\n",
      "Int64Index: 84609 entries, 1 to 42105\n",
      "Data columns (total 6 columns):\n",
      "orderId         84609 non-null int64\n",
      "uid             84609 non-null int64\n",
      "cityName        84609 non-null object\n",
      "gender          84609 non-null float64\n",
      "provinceName    84609 non-null object\n",
      "Age             84609 non-null float64\n",
      "dtypes: float64(2), int64(2), object(2)\n",
      "memory usage: 4.5+ MB\n"
     ]
    }
   ],
   "source": [
    "data_user1=data_user1[data_user1.Age>9]\n",
    "data_user1=data_user1[data_user1.Age<91]\n",
    "data_user1.info() # This is the unqiue uid "
   ]
  },
  {
   "cell_type": "code",
   "execution_count": 191,
   "metadata": {
    "collapsed": false
   },
   "outputs": [
    {
     "data": {
      "text/html": [
       "<div>\n",
       "<table border=\"1\" class=\"dataframe\">\n",
       "  <thead>\n",
       "    <tr style=\"text-align: right;\">\n",
       "      <th></th>\n",
       "      <th>orderId</th>\n",
       "      <th>uid</th>\n",
       "      <th>cityName</th>\n",
       "      <th>gender</th>\n",
       "      <th>provinceName</th>\n",
       "      <th>Age</th>\n",
       "    </tr>\n",
       "  </thead>\n",
       "  <tbody>\n",
       "    <tr>\n",
       "      <th>1</th>\n",
       "      <td>22998861</td>\n",
       "      <td>1126219</td>\n",
       "      <td>北京市</td>\n",
       "      <td>0.0</td>\n",
       "      <td>北京市</td>\n",
       "      <td>29.0</td>\n",
       "    </tr>\n",
       "    <tr>\n",
       "      <th>3</th>\n",
       "      <td>22998856</td>\n",
       "      <td>7182067</td>\n",
       "      <td>北京市</td>\n",
       "      <td>1.0</td>\n",
       "      <td>北京市</td>\n",
       "      <td>11.0</td>\n",
       "    </tr>\n",
       "    <tr>\n",
       "      <th>5</th>\n",
       "      <td>22998849</td>\n",
       "      <td>3475166</td>\n",
       "      <td>北京市</td>\n",
       "      <td>1.0</td>\n",
       "      <td>北京市</td>\n",
       "      <td>26.0</td>\n",
       "    </tr>\n",
       "    <tr>\n",
       "      <th>7</th>\n",
       "      <td>22998844</td>\n",
       "      <td>2640724</td>\n",
       "      <td>北京市</td>\n",
       "      <td>0.0</td>\n",
       "      <td>北京市</td>\n",
       "      <td>43.0</td>\n",
       "    </tr>\n",
       "    <tr>\n",
       "      <th>9</th>\n",
       "      <td>22998834</td>\n",
       "      <td>7176795</td>\n",
       "      <td>天津市</td>\n",
       "      <td>0.0</td>\n",
       "      <td>天津市</td>\n",
       "      <td>24.0</td>\n",
       "    </tr>\n",
       "  </tbody>\n",
       "</table>\n",
       "</div>"
      ],
      "text/plain": [
       "    orderId      uid cityName  gender provinceName   Age\n",
       "1  22998861  1126219      北京市     0.0          北京市  29.0\n",
       "3  22998856  7182067      北京市     1.0          北京市  11.0\n",
       "5  22998849  3475166      北京市     1.0          北京市  26.0\n",
       "7  22998844  2640724      北京市     0.0          北京市  43.0\n",
       "9  22998834  7176795      天津市     0.0          天津市  24.0"
      ]
     },
     "execution_count": 191,
     "metadata": {},
     "output_type": "execute_result"
    }
   ],
   "source": [
    "data_user1.head()"
   ]
  },
  {
   "cell_type": "code",
   "execution_count": 193,
   "metadata": {
    "collapsed": false
   },
   "outputs": [],
   "source": [
    "data_user1['Age_range']=pd.cut(data_user1['Age'],bins=[10,18,24,40,90])"
   ]
  },
  {
   "cell_type": "code",
   "execution_count": 197,
   "metadata": {
    "collapsed": false
   },
   "outputs": [],
   "source": [
    "data_user1.to_csv('/Users/pein/Desktop/蛋糕消费用户个人信息.csv')"
   ]
  },
  {
   "cell_type": "markdown",
   "metadata": {},
   "source": [
    "### 蛋糕订单对应的用户"
   ]
  },
  {
   "cell_type": "code",
   "execution_count": 200,
   "metadata": {
    "collapsed": false
   },
   "outputs": [
    {
     "name": "stdout",
     "output_type": "stream",
     "text": [
      "<class 'pandas.core.frame.DataFrame'>\n",
      "Int64Index: 203819 entries, 0 to 42107\n",
      "Data columns (total 6 columns):\n",
      "orderId         203819 non-null int64\n",
      "uid             203819 non-null int64\n",
      "cityName        203818 non-null object\n",
      "gender          202619 non-null float64\n",
      "provinceName    203818 non-null object\n",
      "Age             202619 non-null float64\n",
      "dtypes: float64(2), int64(2), object(2)\n",
      "memory usage: 10.9+ MB\n"
     ]
    }
   ],
   "source": [
    "data_user.info()"
   ]
  },
  {
   "cell_type": "code",
   "execution_count": 201,
   "metadata": {
    "collapsed": true
   },
   "outputs": [],
   "source": [
    "data_user2=data_user[data_user['gender']!=-1]"
   ]
  },
  {
   "cell_type": "code",
   "execution_count": 202,
   "metadata": {
    "collapsed": true
   },
   "outputs": [],
   "source": [
    "data_user2=data_user2[data_user2['gender']!=2]"
   ]
  },
  {
   "cell_type": "code",
   "execution_count": 204,
   "metadata": {
    "collapsed": false
   },
   "outputs": [
    {
     "name": "stdout",
     "output_type": "stream",
     "text": [
      "<class 'pandas.core.frame.DataFrame'>\n",
      "Int64Index: 122704 entries, 1 to 42105\n",
      "Data columns (total 6 columns):\n",
      "orderId         122704 non-null int64\n",
      "uid             122704 non-null int64\n",
      "cityName        122704 non-null object\n",
      "gender          122704 non-null float64\n",
      "provinceName    122704 non-null object\n",
      "Age             122704 non-null float64\n",
      "dtypes: float64(2), int64(2), object(2)\n",
      "memory usage: 6.6+ MB\n"
     ]
    }
   ],
   "source": [
    "data_user2=data_user2[data_user2['Age']>9]\n",
    "data_user2=data_user2[data_user2['Age']<91]\n",
    "data_user2.info()"
   ]
  },
  {
   "cell_type": "code",
   "execution_count": 206,
   "metadata": {
    "collapsed": false
   },
   "outputs": [],
   "source": [
    "# IT menas that there is totally 1227705 orders has the correct personal \n",
    "# information"
   ]
  },
  {
   "cell_type": "code",
   "execution_count": 207,
   "metadata": {
    "collapsed": true
   },
   "outputs": [],
   "source": [
    "data_user['Age_range']=pd.cut(data_user['Age'],bins=[10,18,24,40,90])"
   ]
  },
  {
   "cell_type": "code",
   "execution_count": 208,
   "metadata": {
    "collapsed": false
   },
   "outputs": [
    {
     "name": "stdout",
     "output_type": "stream",
     "text": [
      "<class 'pandas.core.frame.DataFrame'>\n",
      "Int64Index: 203819 entries, 0 to 42107\n",
      "Data columns (total 7 columns):\n",
      "orderId         203819 non-null int64\n",
      "uid             203819 non-null int64\n",
      "cityName        203818 non-null object\n",
      "gender          202619 non-null float64\n",
      "provinceName    203818 non-null object\n",
      "Age             202619 non-null float64\n",
      "Age_range       125993 non-null category\n",
      "dtypes: category(1), float64(2), int64(2), object(2)\n",
      "memory usage: 11.1+ MB\n"
     ]
    }
   ],
   "source": [
    "data_user.info()"
   ]
  },
  {
   "cell_type": "code",
   "execution_count": 211,
   "metadata": {
    "collapsed": true
   },
   "outputs": [],
   "source": [
    "data_user.to_csv('/Users/pein/Desktop/蛋糕消费订单关联用户.csv')"
   ]
  }
 ],
 "metadata": {
  "kernelspec": {
   "display_name": "Python 3",
   "language": "python",
   "name": "python3"
  },
  "language_info": {
   "codemirror_mode": {
    "name": "ipython",
    "version": 3
   },
   "file_extension": ".py",
   "mimetype": "text/x-python",
   "name": "python",
   "nbconvert_exporter": "python",
   "pygments_lexer": "ipython3",
   "version": "3.6.0"
  }
 },
 "nbformat": 4,
 "nbformat_minor": 2
}
