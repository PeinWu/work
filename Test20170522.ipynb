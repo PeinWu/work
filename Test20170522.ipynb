{
 "cells": [
  {
   "cell_type": "code",
   "execution_count": null,
   "metadata": {
    "collapsed": true
   },
   "outputs": [],
   "source": [
    "import requests\n",
    "import pandas as pd\n",
    "import numpy as np\n"
   ]
  },
  {
   "cell_type": "code",
   "execution_count": null,
   "metadata": {
    "collapsed": true
   },
   "outputs": [],
   "source": [
    "data = pd.read_excel('/Users/pein/Desktop/5.24.xlsx')"
   ]
  },
  {
   "cell_type": "code",
   "execution_count": null,
   "metadata": {
    "collapsed": false
   },
   "outputs": [],
   "source": [
    "data.head()"
   ]
  },
  {
   "cell_type": "code",
   "execution_count": null,
   "metadata": {
    "collapsed": false
   },
   "outputs": [],
   "source": [
    "cs_url1 = 'http://portrait.service.octinn.com/user/'\n",
    "data_copy = data.iloc[:100,:]\n",
    "def get_url(uid):\n",
    "    url = cs_url1+'user_id:'+str(uid)\n",
    "    return url\n"
   ]
  },
  {
   "cell_type": "code",
   "execution_count": null,
   "metadata": {
    "collapsed": false
   },
   "outputs": [],
   "source": [
    "for uid in data_copy.uid:\n",
    "    url = get_url(uid)\n",
    "    r = requests.get(url,timeout=10)\n",
    "    try:\n",
    "        test = r.json()['favor_category']\n",
    "        print(test)\n",
    "    except:\n",
    "        print('withoutresult')"
   ]
  },
  {
   "cell_type": "code",
   "execution_count": null,
   "metadata": {
    "collapsed": true
   },
   "outputs": [],
   "source": []
  },
  {
   "cell_type": "code",
   "execution_count": 6,
   "metadata": {
    "collapsed": false
   },
   "outputs": [
    {
     "ename": "NameError",
     "evalue": "name 'r1' is not defined",
     "output_type": "error",
     "traceback": [
      "\u001b[0;31m---------------------------------------------------------------------------\u001b[0m",
      "\u001b[0;31mNameError\u001b[0m                                 Traceback (most recent call last)",
      "\u001b[0;32m<ipython-input-6-18e2247a3713>\u001b[0m in \u001b[0;36m<module>\u001b[0;34m()\u001b[0m\n\u001b[0;32m----> 1\u001b[0;31m \u001b[0mfavor_category\u001b[0m \u001b[0;34m=\u001b[0m \u001b[0mr1\u001b[0m\u001b[0;34m.\u001b[0m\u001b[0mjson\u001b[0m\u001b[0;34m(\u001b[0m\u001b[0;34m)\u001b[0m\u001b[0;34m[\u001b[0m\u001b[0;34m'favor_category'\u001b[0m\u001b[0;34m]\u001b[0m\u001b[0;34m\u001b[0m\u001b[0m\n\u001b[0m\u001b[1;32m      2\u001b[0m \u001b[0mfavor_category\u001b[0m\u001b[0;34m\u001b[0m\u001b[0m\n\u001b[1;32m      3\u001b[0m \u001b[0;32mwith\u001b[0m \u001b[0mopen\u001b[0m\u001b[0;34m(\u001b[0m\u001b[0;34m'/Users/pein/Desktop/test.csv'\u001b[0m\u001b[0;34m,\u001b[0m\u001b[0;34m'w'\u001b[0m\u001b[0;34m,\u001b[0m\u001b[0mnewline\u001b[0m\u001b[0;34m=\u001b[0m\u001b[0;34m''\u001b[0m\u001b[0;34m)\u001b[0m \u001b[0;32mas\u001b[0m \u001b[0mfp\u001b[0m\u001b[0;34m:\u001b[0m\u001b[0;34m\u001b[0m\u001b[0m\n\u001b[1;32m      4\u001b[0m     \u001b[0ma\u001b[0m \u001b[0;34m=\u001b[0m \u001b[0mcsv\u001b[0m\u001b[0;34m.\u001b[0m\u001b[0mwriter\u001b[0m\u001b[0;34m(\u001b[0m\u001b[0mfp\u001b[0m\u001b[0;34m,\u001b[0m\u001b[0mdelimiter\u001b[0m\u001b[0;34m=\u001b[0m\u001b[0;34m' '\u001b[0m\u001b[0;34m)\u001b[0m\u001b[0;34m\u001b[0m\u001b[0m\n\u001b[1;32m      5\u001b[0m     \u001b[0ma\u001b[0m\u001b[0;34m.\u001b[0m\u001b[0mwriterows\u001b[0m\u001b[0;34m(\u001b[0m\u001b[0mfavor_category\u001b[0m\u001b[0;34m)\u001b[0m\u001b[0;34m\u001b[0m\u001b[0m\n",
      "\u001b[0;31mNameError\u001b[0m: name 'r1' is not defined"
     ]
    }
   ],
   "source": [
    "favor_category = r1.json()['favor_category']\n",
    "favor_category\n",
    "with open('/Users/pein/Desktop/test.csv','w',newline='') as fp:\n",
    "    a = csv.writer(fp,delimiter=' ')\n",
    "    a.writerows(favor_category)"
   ]
  },
  {
   "cell_type": "code",
   "execution_count": null,
   "metadata": {
    "collapsed": false
   },
   "outputs": [],
   "source": [
    "favor_category[0]\n",
    "favor_category[0][0]"
   ]
  },
  {
   "cell_type": "code",
   "execution_count": null,
   "metadata": {
    "collapsed": false
   },
   "outputs": [],
   "source": [
    "with open('/Users/pein/Desktop/new.txt') as f:\n",
    "    content = f.readlines()\n",
    "content"
   ]
  },
  {
   "cell_type": "code",
   "execution_count": null,
   "metadata": {
    "collapsed": false
   },
   "outputs": [],
   "source": [
    "import pandas as pd\n",
    "data = pd.read_excel('/Users/pein/Desktop/5.24.xlsx')\n",
    "data.head()"
   ]
  },
  {
   "cell_type": "code",
   "execution_count": null,
   "metadata": {
    "collapsed": false
   },
   "outputs": [],
   "source": [
    "data.info()"
   ]
  },
  {
   "cell_type": "code",
   "execution_count": null,
   "metadata": {
    "collapsed": false
   },
   "outputs": [],
   "source": [
    "data_copy = data.iloc[:5,:]"
   ]
  },
  {
   "cell_type": "code",
   "execution_count": null,
   "metadata": {
    "collapsed": true
   },
   "outputs": [],
   "source": [
    "def get_user_url(uid):\n",
    "    url = cs_url + 'user_id:'+str(uid)\n",
    "    return url"
   ]
  },
  {
   "cell_type": "code",
   "execution_count": null,
   "metadata": {
    "collapsed": true
   },
   "outputs": [],
   "source": []
  },
  {
   "cell_type": "code",
   "execution_count": null,
   "metadata": {
    "collapsed": false
   },
   "outputs": [],
   "source": [
    "cs_url = 'http://portrait.service.octinn.com/user/'\n",
    "import requests \n",
    "for uid in data_copy.uid:\n",
    "    url = get_user_url(uid)\n",
    "    r = requests.get(url, timeout=10)\n",
    "    try:\n",
    "        result = r.json()['favor_category'][0]\n",
    "        print(result)\n",
    "    except :\n",
    "        print('error')"
   ]
  },
  {
   "cell_type": "code",
   "execution_count": null,
   "metadata": {
    "collapsed": false
   },
   "outputs": [],
   "source": [
    "categoryList0 = []\n",
    "proList0 = []\n",
    "impluse_buyingList = []\n",
    "price_sensitiveList = []\n",
    "i = 0\n",
    "j = 0\n",
    "for uid in data_copy.uid:\n",
    "    url = get_user_url(uid)\n",
    "    r = requests.get(url)\n",
    "    try:\n",
    "        try:\n",
    "        category0 = r.json()['favor_category'][0][0]\n",
    "        print(category0)\n",
    "        pro0 = r.json()['favor_category'][0][1]\n",
    "        categoryList0.append(category0)\n",
    "        proList0.append(pro0)\n",
    "        impluse_buying = r.json()['impluse_buyingList']\n",
    "        impluse_buyingList.append(impluse_buying)\n",
    "        price_sensitive = r.json()['price_sensitive']\n",
    "        price_sensitiveList.append(price_sensitive)\n",
    "        i +=1\n",
    "    except keyError:\n",
    "        j +=1\n",
    "print(i)\n",
    "print(j)"
   ]
  },
  {
   "cell_type": "code",
   "execution_count": null,
   "metadata": {
    "collapsed": false
   },
   "outputs": [],
   "source": [
    "categoryList0 = []\n",
    "proList0 = []\n",
    "categoryList1 = []\n",
    "proList1 = []\n",
    "categoryList2 = []\n",
    "proList2 = []\n",
    "categoryList3 = []\n",
    "proList3 = []\n",
    "categoryList4 = []\n",
    "proList4 = []\n",
    "impluse_buyingList = []\n",
    "price_sensitiveList = []\n",
    "i = 0\n",
    "j = 0\n",
    "for uid in data_copy.uid:\n",
    "    url = get_user_url(uid)\n",
    "    r = requests.get(url)\n",
    "    try:\n",
    "        category0 = r.json()['favor_category'][0][0]\n",
    "        pro0 = r.json()['favor_category'][0][1]\n",
    "        category1 = r.json()['favor_category'][1][0]\n",
    "        pro1 = r.json()['favor_category'][1][1]\n",
    "        category2 = r.json()['favor_category'][2][0]\n",
    "        pro2 = r.json()['favor_category'][2][1]\n",
    "        category3 = r.json()['favor_category'][3][0]\n",
    "        pro3 = r.json()['favor_category'][3][1]\n",
    "        category4 = r.json()['favor_category'][4][0]\n",
    "        pro4 = r.json()['favor_category'][4][1]\n",
    "        categoryList0.append(category0)\n",
    "        proList0.append(pro0)\n",
    "        categoryList1.append(category1)\n",
    "        proList1.append(pro1)\n",
    "        categoryList2.append(category2)\n",
    "        proList2.append(pro2)\n",
    "        categoryList3.append(category3)\n",
    "        proList3.append(pro3)\n",
    "        categoryList4.append(category4)\n",
    "        proList4.append(pro4)\n",
    "        impluse_buying = r.json()['impluse_buyingList']\n",
    "        impluse_buyingList.append(impluse_buying)\n",
    "        price_sensitive = r.json()['price_sensitive']\n",
    "        price_sensitiveList.append(price_sensitive)\n",
    "        i +=1\n",
    "    except KeyError:\n",
    "        category0 = ['null']\n",
    "        pro0 = ['null']\n",
    "        category1 = ['null']\n",
    "        pro1 = ['null']\n",
    "        category2 = ['null']\n",
    "        pro2 = ['null']\n",
    "        category3 = ['null']\n",
    "        pro3 = ['null']\n",
    "        category4 = ['null']\n",
    "        pro4 = ['null']\n",
    "        categoryList0.append(category0)\n",
    "        proList0.append(pro0)\n",
    "        categoryList1.append(category1)\n",
    "        proList1.append(pro1)\n",
    "        categoryList2.append(category2)\n",
    "        proList2.append(pro2)\n",
    "        categoryList3.append(category3)\n",
    "        proList3.append(pro3)\n",
    "        categoryList4.append(category4)\n",
    "        proList4.append(pro4)\n",
    "        impluse_buying = ['null']\n",
    "        impluse_buyingList.append(impluse_buying)\n",
    "        price_sensitive = ['null']\n",
    "        price_sensitiveList.append(price_sensitive)\n",
    "        j +=1\n",
    "print(i)\n",
    "print(j)\n"
   ]
  },
  {
   "cell_type": "code",
   "execution_count": null,
   "metadata": {
    "collapsed": true
   },
   "outputs": [],
   "source": [
    "def get_user_url(uid):\n",
    "    url = cs_url + 'user_id:'+str(uid)\n",
    "    return url\n"
   ]
  },
  {
   "cell_type": "code",
   "execution_count": null,
   "metadata": {
    "collapsed": false
   },
   "outputs": [],
   "source": [
    "import time\n",
    "print(time.ctime())\n",
    "time.sleep(2)\n",
    "print(time.ctime())"
   ]
  },
  {
   "cell_type": "code",
   "execution_count": null,
   "metadata": {
    "collapsed": true
   },
   "outputs": [],
   "source": []
  }
 ],
 "metadata": {
  "kernelspec": {
   "display_name": "Python 3",
   "language": "python",
   "name": "python3"
  },
  "language_info": {
   "codemirror_mode": {
    "name": "ipython",
    "version": 3
   },
   "file_extension": ".py",
   "mimetype": "text/x-python",
   "name": "python",
   "nbconvert_exporter": "python",
   "pygments_lexer": "ipython3",
   "version": "3.6.0"
  }
 },
 "nbformat": 4,
 "nbformat_minor": 2
}
