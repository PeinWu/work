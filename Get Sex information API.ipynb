{
 "cells": [
  {
   "cell_type": "code",
   "execution_count": 1,
   "metadata": {
    "collapsed": true
   },
   "outputs": [],
   "source": [
    "import pandas as pd\n",
    "import numpy as np\n",
    "import csv\n",
    "import requests\n",
    "import json"
   ]
  },
  {
   "cell_type": "code",
   "execution_count": 2,
   "metadata": {
    "collapsed": true
   },
   "outputs": [],
   "source": [
    "cs_url = 'http://portrait.service.octinn.com/user/'\n",
    "def get_url(name):\n",
    "    url = cs_url+'name:'+str(name)\n",
    "    return url"
   ]
  },
  {
   "cell_type": "code",
   "execution_count": 15,
   "metadata": {
    "collapsed": false
   },
   "outputs": [],
   "source": [
    "def get_sex_list(nameList):\n",
    "    \n",
    "    gender = []\n",
    "    import time\n",
    "    i = 1\n",
    "    for name in nameList:\n",
    "        url = get_url(name)\n",
    "        r = requests.get(url, timeout=100)\n",
    "        i += 1\n",
    "        try:\n",
    "            Sex = r.json()['sex']\n",
    "            print(Sex)\n",
    "            if Sex['0']>=0.5:\n",
    "                gender.append(0)\n",
    "                print(gender)\n",
    "            else:\n",
    "                gender.append(1)\n",
    "                print(gender)\n",
    "        except :\n",
    "            gender.append(-1)\n",
    "        time.sleep(1)\n",
    "    return gender\n",
    "\n",
    "    "
   ]
  },
  {
   "cell_type": "code",
   "execution_count": 17,
   "metadata": {
    "collapsed": false
   },
   "outputs": [
    {
     "name": "stdout",
     "output_type": "stream",
     "text": [
      "{'0': 0.01, '1': 0.99}\n",
      "[1]\n",
      "{'0': 0.5887711872287517, '1': 0.41122881277124834}\n",
      "[1, 0]\n"
     ]
    },
    {
     "data": {
      "text/plain": [
       "[1, 0]"
      ]
     },
     "execution_count": 17,
     "metadata": {},
     "output_type": "execute_result"
    }
   ],
   "source": [
    "nameList=['李老师好','吴烨']\n",
    "get_sex_list(nameList)"
   ]
  },
  {
   "cell_type": "code",
   "execution_count": null,
   "metadata": {
    "collapsed": true
   },
   "outputs": [],
   "source": [
    "\n",
    "\n",
    "\n"
   ]
  }
 ],
 "metadata": {
  "kernelspec": {
   "display_name": "Python 3",
   "language": "python",
   "name": "python3"
  },
  "language_info": {
   "codemirror_mode": {
    "name": "ipython",
    "version": 3
   },
   "file_extension": ".py",
   "mimetype": "text/x-python",
   "name": "python",
   "nbconvert_exporter": "python",
   "pygments_lexer": "ipython3",
   "version": "3.6.0"
  }
 },
 "nbformat": 4,
 "nbformat_minor": 2
}
