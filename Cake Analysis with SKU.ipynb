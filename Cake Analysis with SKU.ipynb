{
 "cells": [
  {
   "cell_type": "markdown",
   "metadata": {},
   "source": [
    "### combine the csv profile "
   ]
  },
  {
   "cell_type": "code",
   "execution_count": null,
   "metadata": {
    "collapsed": true
   },
   "outputs": [],
   "source": [
    "import pandas as pd\n",
    "import numpy as np\n",
    "import matplotlib.pyplot as plt\n",
    "import seaborn as sns\n",
    "% matplotlib inline\n",
    "sns.set(style='whitegrid',color_codes=True)\n",
    "sns.set(font_scale=1)"
   ]
  },
  {
   "cell_type": "code",
   "execution_count": 28,
   "metadata": {
    "collapsed": true
   },
   "outputs": [],
   "source": [
    "cake_detail=pd.read_excel('/Users/pein/Desktop/16年蛋糕订单1.xlsx')"
   ]
  },
  {
   "cell_type": "code",
   "execution_count": 29,
   "metadata": {
    "collapsed": false
   },
   "outputs": [
    {
     "name": "stdout",
     "output_type": "stream",
     "text": [
      "<class 'pandas.core.frame.DataFrame'>\n",
      "RangeIndex: 196120 entries, 0 to 196119\n",
      "Data columns (total 23 columns):\n",
      "订单编号       196120 non-null int64\n",
      "用户注册日期     194270 non-null float64\n",
      "订单日期       196120 non-null int64\n",
      "品牌名称       196120 non-null object\n",
      "商品名称       196120 non-null object\n",
      "订单地域(省)    196120 non-null object\n",
      "订单地域(市)    196120 non-null object\n",
      "订单状态       196120 non-null object\n",
      "商品金额       196120 non-null float64\n",
      "运费         196120 non-null float64\n",
      "优惠类型       84847 non-null object\n",
      "优惠金额       196120 non-null float64\n",
      "优惠券类型      56208 non-null object\n",
      "优惠券金额      196120 non-null int64\n",
      "积分减免金额     196120 non-null int64\n",
      "成交金额       196120 non-null float64\n",
      "订单来源       196085 non-null object\n",
      "下单应用       196120 non-null object\n",
      "下载渠道       196120 non-null object\n",
      "商品数量       196120 non-null int64\n",
      "退款金额       196120 non-null float64\n",
      "支付方式       194363 non-null object\n",
      "SKU        195600 non-null object\n",
      "dtypes: float64(6), int64(5), object(12)\n",
      "memory usage: 34.4+ MB\n"
     ]
    }
   ],
   "source": [
    "cake_detail.info()"
   ]
  },
  {
   "cell_type": "code",
   "execution_count": 37,
   "metadata": {
    "collapsed": false
   },
   "outputs": [],
   "source": [
    "user_detail=pd.read_csv('/Users/pein/Desktop/蛋糕消费订单关联用户.csv')"
   ]
  },
  {
   "cell_type": "code",
   "execution_count": 38,
   "metadata": {
    "collapsed": false
   },
   "outputs": [
    {
     "name": "stdout",
     "output_type": "stream",
     "text": [
      "<class 'pandas.core.frame.DataFrame'>\n",
      "RangeIndex: 203819 entries, 0 to 203818\n",
      "Data columns (total 8 columns):\n",
      "Unnamed: 0      203819 non-null int64\n",
      "orderId         203819 non-null int64\n",
      "uid             203819 non-null int64\n",
      "cityName        203818 non-null object\n",
      "gender          202619 non-null float64\n",
      "provinceName    203818 non-null object\n",
      "Age             202619 non-null float64\n",
      "Age_range       125993 non-null object\n",
      "dtypes: float64(2), int64(3), object(3)\n",
      "memory usage: 12.4+ MB\n"
     ]
    }
   ],
   "source": [
    "user_detail.info()"
   ]
  },
  {
   "cell_type": "code",
   "execution_count": 39,
   "metadata": {
    "collapsed": true
   },
   "outputs": [],
   "source": [
    "# combine these data together\n",
    "data=cake_detail.merge(user_detail,how='left',left_on='订单编号',\n",
    "                       right_on='orderId')"
   ]
  },
  {
   "cell_type": "code",
   "execution_count": 40,
   "metadata": {
    "collapsed": false
   },
   "outputs": [
    {
     "name": "stdout",
     "output_type": "stream",
     "text": [
      "<class 'pandas.core.frame.DataFrame'>\n",
      "Int64Index: 198014 entries, 0 to 198013\n",
      "Data columns (total 31 columns):\n",
      "订单编号            198014 non-null int64\n",
      "用户注册日期          196164 non-null float64\n",
      "订单日期            198014 non-null int64\n",
      "品牌名称            198014 non-null object\n",
      "商品名称            198014 non-null object\n",
      "订单地域(省)         198014 non-null object\n",
      "订单地域(市)         198014 non-null object\n",
      "订单状态            198014 non-null object\n",
      "商品金额            198014 non-null float64\n",
      "运费              198014 non-null float64\n",
      "优惠类型            85596 non-null object\n",
      "优惠金额            198014 non-null float64\n",
      "优惠券类型           56686 non-null object\n",
      "优惠券金额           198014 non-null int64\n",
      "积分减免金额          198014 non-null int64\n",
      "成交金额            198014 non-null float64\n",
      "订单来源            197979 non-null object\n",
      "下单应用            198014 non-null object\n",
      "下载渠道            198014 non-null object\n",
      "商品数量            198014 non-null int64\n",
      "退款金额            198014 non-null float64\n",
      "支付方式            196257 non-null object\n",
      "SKU             197469 non-null object\n",
      "Unnamed: 0      196345 non-null float64\n",
      "orderId         196345 non-null float64\n",
      "uid             196345 non-null float64\n",
      "cityName        196345 non-null object\n",
      "gender          195145 non-null float64\n",
      "provinceName    196345 non-null object\n",
      "Age             195145 non-null float64\n",
      "Age_range       120510 non-null object\n",
      "dtypes: float64(11), int64(5), object(15)\n",
      "memory usage: 48.3+ MB\n"
     ]
    }
   ],
   "source": [
    "data.info()"
   ]
  },
  {
   "cell_type": "code",
   "execution_count": 41,
   "metadata": {
    "collapsed": false
   },
   "outputs": [
    {
     "data": {
      "text/plain": [
       "0          [商店主页, , , 蛋糕首页_推荐位, , , 商品详情, , , 普通下单界面, , , ]\n",
       "1                        [未知页面, , , 商品详情, , , 普通下单界面, , , ]\n",
       "2                    [蛋糕首页_推荐位, , , 商品详情, , , 普通下单界面, , , ]\n",
       "3          [商店主页, , , 蛋糕首页_推荐位, , , 商品详情, , , 普通下单界面, , , ]\n",
       "4         [蛋糕首页, , , 商品列表页_旧_列表, , , 商品详情, , , 普通下单界面, ,...\n",
       "5         [蛋糕首页, , , 商品列表页_旧_列表, , , 商品详情, , , 普通下单界面, ,...\n",
       "6                        [未知页面, , , 商品详情, , , 普通下单界面, , , ]\n",
       "7         [蛋糕首页, , , 商品列表页_旧_列表, , , 商品详情, , , 普通下单界面, ,...\n",
       "8         [商店主页, , , 蛋糕首页, , , 蛋糕品牌_品牌街, , , 品牌专页_列表, , ...\n",
       "9          [商店主页, , , 蛋糕首页_推荐位, , , 商品详情, , , 普通下单界面, , , ]\n",
       "10                    [搜索界面_列表, , , 商品详情, , , 普通下单界面, , , ]\n",
       "11        [未知页面, , , 蛋糕首页, , , 商品列表页_旧_列表, , , 商品详情, , ,...\n",
       "12        [蛋糕首页, , , shremen活动, , , 商品详情, , , 普通下单界面, , , ]\n",
       "13         [商店主页, , , 蛋糕首页_推荐位, , , 商品详情, , , 普通下单界面, , , ]\n",
       "14                       [未知页面, , , 商品详情, , , 普通下单界面, , , ]\n",
       "15                       [未知页面, , , 商品详情, , , 普通下单界面, , , ]\n",
       "16         [商店主页, , , 蛋糕首页_推荐位, , , 商品详情, , , 普通下单界面, , , ]\n",
       "17                       [未知页面, , , 商品详情, , , 普通下单界面, , , ]\n",
       "18                                                      NaN\n",
       "19         [商店主页, , , 蛋糕首页_推荐位, , , 商品详情, , , 普通下单界面, , , ]\n",
       "20                   [蛋糕首页_推荐位, , , 商品详情, , , 普通下单界面, , , ]\n",
       "21        [蛋糕首页, , , 商品列表页_旧_列表, , , 商品详情, , , 普通下单界面, ,...\n",
       "22                       [订单列表, , , 商品详情, , , 普通下单界面, , , ]\n",
       "23        [优惠卷界面_优惠卷列表, , , 商品列表页_旧_列表, , , 商品详情, , , 普通...\n",
       "24                    [搜索界面_列表, , , 商品详情, , , 普通下单界面, , , ]\n",
       "25                       [未知页面, , , 商品详情, , , 普通下单界面, , , ]\n",
       "26        [提醒响应, , , 蛋糕首页, , , shremen活动, , , 商品详情, , , ...\n",
       "27                   [蛋糕首页_推荐位, , , 商品详情, , , 普通下单界面, , , ]\n",
       "28           [蛋糕首页, , , 原生筛选界面, , , 商品详情, , , 普通下单界面, , , ]\n",
       "29         [商店主页, , , 蛋糕首页_推荐位, , , 商品详情, , , 普通下单界面, , , ]\n",
       "                                ...                        \n",
       "197984    [商店主页, , , 蛋糕首页, , , 蛋糕品牌_品牌街, , , 原生筛选界面, , ,...\n",
       "197985    [蛋糕首页, , , 蛋糕品牌_品牌街, , , 原生筛选界面, , , 商品详情, , ,...\n",
       "197986                   [订单列表, , , 商品详情, , , 普通下单界面, , , ]\n",
       "197987                   [订单列表, , , 商品详情, , , 普通下单界面, , , ]\n",
       "197988    [商店主页, , , 蛋糕首页, , , 蛋糕品牌_品牌街, , , 原生筛选界面, , ,...\n",
       "197989    [商店主页, , , 蛋糕首页, , , 蛋糕品牌_品牌街, , , 原生筛选界面, , ,...\n",
       "197990                   [我的收藏, , , 商品详情, , , 普通下单界面, , , ]\n",
       "197991         [搜索界面, , , 搜索界面, , , 商品详情, , , 普通下单界面, , , ]\n",
       "197992    [蛋糕首页, , , 蛋糕品牌_品牌街, , , 原生筛选界面, , , 商品详情, , ,...\n",
       "197993    [蛋糕首页, , , 蛋糕品牌_品牌街, , , 原生筛选界面, , , 商品详情, , ,...\n",
       "197994    [商店主页, , , 蛋糕首页, , , 蛋糕品牌_品牌街, , , 原生筛选界面, , ,...\n",
       "197995    [蛋糕首页, , , 蛋糕品牌_品牌街, , , 原生筛选界面, , , 商品详情, , ,...\n",
       "197996         [搜索界面, , , 搜索界面, , , 商品详情, , , 普通下单界面, , , ]\n",
       "197997    [商店主页, , , 蛋糕首页, , , 蛋糕品牌_品牌街, , , 原生筛选界面, , ,...\n",
       "197998    [商店主页, , , 蛋糕首页, , , 蛋糕品牌_品牌街, , , 原生筛选界面, , ,...\n",
       "197999    [蛋糕首页, , , 蛋糕品牌_品牌街, , , 原生筛选界面, , , 商品详情, , ,...\n",
       "198000    [商店主页, , , 搜索界面, , , 搜索界面, , , 商品详情, , , 普通下单界...\n",
       "198001    [蛋糕首页, , , 蛋糕品牌_品牌街, , , 原生筛选界面, , , 商品详情, , ,...\n",
       "198002    [首页新, , , 搜索界面, , , 搜索界面, , , 商品详情, , , 未知页面, ...\n",
       "198003    [未知页面, , , 蛋糕首页, , , 原生筛选界面, , , 搜索界面, , , 搜索界...\n",
       "198004    [商店主页, , , 蛋糕首页, , , 蛋糕品牌_品牌街, , , 原生筛选界面, , ,...\n",
       "198005    [蛋糕首页, , , 蛋糕品牌_品牌街, , , 原生筛选界面, , , 商品详情, , ,...\n",
       "198006    [全部商品tab, , , 商品列表页_旧, , , _列表, , , 商品详情, , , ...\n",
       "198007    [蛋糕首页, , , 蛋糕品牌_品牌街, , , 原生筛选界面, , , 商品详情, , ,...\n",
       "198008    [未知页面, , , 蛋糕首页, , , 原生筛选界面, , , 商品详情, , , 未知页...\n",
       "198009    [全部商品tab, , , 商品列表页_旧_列表, , , 商品详情, , , 普通下单界面...\n",
       "198010    [商店主页, , , 搜索界面, , , 搜索界面, , , 商品详情, , , 普通下单界...\n",
       "198011          [首页新, , , 搜索界面, , , 商品详情, , , 普通下单界面, , , ]\n",
       "198012    [蛋糕首页, , , 蛋糕首页_推荐位, , , 商品详情, , , 商品列表页_旧_列表,...\n",
       "198013         [我的收藏, , , 我的收藏, , , 商品详情, , , 普通下单界面, , , ]\n",
       "Name: 订单来源, dtype: object"
      ]
     },
     "execution_count": 41,
     "metadata": {},
     "output_type": "execute_result"
    }
   ],
   "source": [
    "data['订单来源'].str.split(' ')"
   ]
  },
  {
   "cell_type": "code",
   "execution_count": 54,
   "metadata": {
    "collapsed": false
   },
   "outputs": [],
   "source": [
    "data['order_from1']=data['订单来源'].str.split('   ').str.get(0)"
   ]
  },
  {
   "cell_type": "code",
   "execution_count": 55,
   "metadata": {
    "collapsed": false
   },
   "outputs": [],
   "source": [
    "data['order_from2']=data['订单来源'].str.split('   ').str.get(1)"
   ]
  },
  {
   "cell_type": "code",
   "execution_count": 56,
   "metadata": {
    "collapsed": true
   },
   "outputs": [],
   "source": [
    "data['order_from3']=data['订单来源'].str.split('   ').str.get(2)"
   ]
  },
  {
   "cell_type": "code",
   "execution_count": 61,
   "metadata": {
    "collapsed": true
   },
   "outputs": [],
   "source": [
    "data['order_from4']=data['订单来源'].str.split('   ').str.get(3)\n",
    "data['order_from5']=data['订单来源'].str.split('   ').str.get(4)\n",
    "data['order_from6']=data['订单来源'].str.split('   ').str.get(5)\n",
    "data['order_from7']=data['订单来源'].str.split('   ').str.get(6)\n",
    "data['order_from8']=data['订单来源'].str.split('   ').str.get(7)\n",
    "data['order_from9']=data['订单来源'].str.split('   ').str.get(8)\n",
    "data['order_from10']=data['订单来源'].str.split('   ').str.get(9)\n",
    "data['order_from11']=data['订单来源'].str.split('   ').str.get(10)\n",
    "data['order_from12']=data['订单来源'].str.split('   ').str.get(11)"
   ]
  },
  {
   "cell_type": "code",
   "execution_count": 62,
   "metadata": {
    "collapsed": false
   },
   "outputs": [
    {
     "name": "stdout",
     "output_type": "stream",
     "text": [
      "<class 'pandas.core.frame.DataFrame'>\n",
      "Int64Index: 198014 entries, 0 to 198013\n",
      "Data columns (total 43 columns):\n",
      "订单编号            198014 non-null int64\n",
      "用户注册日期          196164 non-null float64\n",
      "订单日期            198014 non-null int64\n",
      "品牌名称            198014 non-null object\n",
      "商品名称            198014 non-null object\n",
      "订单地域(省)         198014 non-null object\n",
      "订单地域(市)         198014 non-null object\n",
      "订单状态            198014 non-null object\n",
      "商品金额            198014 non-null float64\n",
      "运费              198014 non-null float64\n",
      "优惠类型            85596 non-null object\n",
      "优惠金额            198014 non-null float64\n",
      "优惠券类型           56686 non-null object\n",
      "优惠券金额           198014 non-null int64\n",
      "积分减免金额          198014 non-null int64\n",
      "成交金额            198014 non-null float64\n",
      "订单来源            197979 non-null object\n",
      "下单应用            198014 non-null object\n",
      "下载渠道            198014 non-null object\n",
      "商品数量            198014 non-null int64\n",
      "退款金额            198014 non-null float64\n",
      "支付方式            196257 non-null object\n",
      "SKU             197469 non-null object\n",
      "Unnamed: 0      196345 non-null float64\n",
      "orderId         196345 non-null float64\n",
      "uid             196345 non-null float64\n",
      "cityName        196345 non-null object\n",
      "gender          195145 non-null float64\n",
      "provinceName    196345 non-null object\n",
      "Age             195145 non-null float64\n",
      "Age_range       120510 non-null object\n",
      "order_from1     197979 non-null object\n",
      "order_from2     196058 non-null object\n",
      "order_from3     196058 non-null object\n",
      "order_from4     195796 non-null object\n",
      "order_from5     179196 non-null object\n",
      "order_from6     129861 non-null object\n",
      "order_from7     43329 non-null object\n",
      "order_from8     14486 non-null object\n",
      "order_from9     5262 non-null object\n",
      "order_from10    3156 non-null object\n",
      "order_from11    698 non-null object\n",
      "order_from12    291 non-null object\n",
      "dtypes: float64(11), int64(5), object(27)\n",
      "memory usage: 66.5+ MB\n"
     ]
    }
   ],
   "source": [
    "data.info()"
   ]
  },
  {
   "cell_type": "code",
   "execution_count": 64,
   "metadata": {
    "collapsed": true
   },
   "outputs": [],
   "source": [
    "data.to_csv('/Users/pein/Desktop/16年蛋糕消费综合数据.csv')"
   ]
  },
  {
   "cell_type": "code",
   "execution_count": null,
   "metadata": {
    "collapsed": true
   },
   "outputs": [],
   "source": []
  }
 ],
 "metadata": {
  "kernelspec": {
   "display_name": "Python 3",
   "language": "python",
   "name": "python3"
  },
  "language_info": {
   "codemirror_mode": {
    "name": "ipython",
    "version": 3
   },
   "file_extension": ".py",
   "mimetype": "text/x-python",
   "name": "python",
   "nbconvert_exporter": "python",
   "pygments_lexer": "ipython3",
   "version": "3.6.0"
  }
 },
 "nbformat": 4,
 "nbformat_minor": 2
}
