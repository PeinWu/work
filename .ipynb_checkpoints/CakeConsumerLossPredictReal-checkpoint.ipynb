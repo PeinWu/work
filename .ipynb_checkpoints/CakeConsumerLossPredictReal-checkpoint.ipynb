{
 "cells": [
  {
   "cell_type": "code",
   "execution_count": 3,
   "metadata": {
    "collapsed": true
   },
   "outputs": [],
   "source": [
    "import numpy as np\n",
    "import pandas as pd\n",
    "import matplotlib.pyplot as plt\n",
    "import matplotlib\n",
    "% matplotlib inline"
   ]
  },
  {
   "cell_type": "code",
   "execution_count": 4,
   "metadata": {
    "collapsed": true
   },
   "outputs": [],
   "source": [
    "data = pd.read_excel('/Users/pein/Desktop/12月份和部分11月份的蛋糕消费用户信息.xlsx')"
   ]
  },
  {
   "cell_type": "code",
   "execution_count": 5,
   "metadata": {
    "collapsed": false
   },
   "outputs": [
    {
     "name": "stdout",
     "output_type": "stream",
     "text": [
      "<class 'pandas.core.frame.DataFrame'>\n",
      "RangeIndex: 26968 entries, 0 to 26967\n",
      "Data columns (total 17 columns):\n",
      "uid                   26968 non-null int64\n",
      "provinceId            26968 non-null int64\n",
      "gender                26968 non-null int64\n",
      "birthYear             26968 non-null int64\n",
      "createOn              26968 non-null int64\n",
      "orderNum              26968 non-null int64\n",
      "Finaltime             26968 non-null int64\n",
      "totalFee              26968 non-null float64\n",
      "SingtotalFee          26968 non-null float64\n",
      "jude_value            26968 non-null float64\n",
      "register_channelId    26968 non-null int64\n",
      "cunpon_use            26968 non-null int64\n",
      "jifen_use             26968 non-null int64\n",
      "cancel_order          26968 non-null int64\n",
      "GoodsView             26968 non-null int64\n",
      "ActiveDays            26968 non-null int64\n",
      "Loss_or_not           26968 non-null int64\n",
      "dtypes: float64(3), int64(14)\n",
      "memory usage: 3.5 MB\n"
     ]
    }
   ],
   "source": [
    "data.info()"
   ]
  },
  {
   "cell_type": "code",
   "execution_count": 6,
   "metadata": {
    "collapsed": false
   },
   "outputs": [],
   "source": [
    "train_data = data.iloc[:,:-1]\n",
    "train_target = data.iloc[:,-1:]"
   ]
  },
  {
   "cell_type": "code",
   "execution_count": 7,
   "metadata": {
    "collapsed": false
   },
   "outputs": [],
   "source": [
    "train_data = train_data.drop(['uid'],1)\n",
    "train_data['jude_value'] = train_data.jude_value.astype(float)\n",
    "train_data['provinceId'] = train_data.provinceId.astype('category')"
   ]
  },
  {
   "cell_type": "code",
   "execution_count": 8,
   "metadata": {
    "collapsed": false
   },
   "outputs": [
    {
     "name": "stderr",
     "output_type": "stream",
     "text": [
      "/anaconda/lib/python3.6/site-packages/ipykernel/__main__.py:6: SettingWithCopyWarning: \n",
      "A value is trying to be set on a copy of a slice from a DataFrame\n",
      "\n",
      "See the caveats in the documentation: http://pandas.pydata.org/pandas-docs/stable/indexing.html#indexing-view-versus-copy\n",
      "/anaconda/lib/python3.6/site-packages/ipykernel/__main__.py:7: SettingWithCopyWarning: \n",
      "A value is trying to be set on a copy of a slice from a DataFrame\n",
      "\n",
      "See the caveats in the documentation: http://pandas.pydata.org/pandas-docs/stable/indexing.html#indexing-view-versus-copy\n",
      "/anaconda/lib/python3.6/site-packages/ipykernel/__main__.py:8: SettingWithCopyWarning: \n",
      "A value is trying to be set on a copy of a slice from a DataFrame\n",
      "\n",
      "See the caveats in the documentation: http://pandas.pydata.org/pandas-docs/stable/indexing.html#indexing-view-versus-copy\n",
      "/anaconda/lib/python3.6/site-packages/ipykernel/__main__.py:9: SettingWithCopyWarning: \n",
      "A value is trying to be set on a copy of a slice from a DataFrame\n",
      "\n",
      "See the caveats in the documentation: http://pandas.pydata.org/pandas-docs/stable/indexing.html#indexing-view-versus-copy\n"
     ]
    }
   ],
   "source": [
    "# 数据的预处理 age\n",
    "train_data['Age'] = 2017-train_data.birthYear\n",
    "mask_age_lower = train_data['Age']<10\n",
    "mask_age_high = train_data['Age']>10\n",
    "train_data['Age_right'] = 1\n",
    "train_data['Age_right'][mask_age_lower] = 0\n",
    "train_data['Age_right'][mask_age_high] = 0\n",
    "train_data['Age'][mask_age_lower] = 0\n",
    "train_data['Age'][mask_age_lower] = 0\n"
   ]
  },
  {
   "cell_type": "code",
   "execution_count": 9,
   "metadata": {
    "collapsed": false
   },
   "outputs": [
    {
     "name": "stderr",
     "output_type": "stream",
     "text": [
      "/anaconda/lib/python3.6/site-packages/ipykernel/__main__.py:4: SettingWithCopyWarning: \n",
      "A value is trying to be set on a copy of a slice from a DataFrame\n",
      "\n",
      "See the caveats in the documentation: http://pandas.pydata.org/pandas-docs/stable/indexing.html#indexing-view-versus-copy\n"
     ]
    }
   ],
   "source": [
    "# 性别数据的处理\n",
    "mask_gender_error = train_data['gender'] == -1\n",
    "train_data['gender_right'] = 1\n",
    "train_data['gender_right'][mask_gender_error] = 0\n"
   ]
  },
  {
   "cell_type": "code",
   "execution_count": 10,
   "metadata": {
    "collapsed": false
   },
   "outputs": [
    {
     "data": {
      "text/html": [
       "<div>\n",
       "<table border=\"1\" class=\"dataframe\">\n",
       "  <thead>\n",
       "    <tr style=\"text-align: right;\">\n",
       "      <th></th>\n",
       "      <th>provinceId</th>\n",
       "      <th>gender</th>\n",
       "      <th>createOn</th>\n",
       "      <th>orderNum</th>\n",
       "      <th>Finaltime</th>\n",
       "      <th>totalFee</th>\n",
       "      <th>SingtotalFee</th>\n",
       "      <th>jude_value</th>\n",
       "      <th>register_channelId</th>\n",
       "      <th>cunpon_use</th>\n",
       "      <th>jifen_use</th>\n",
       "      <th>cancel_order</th>\n",
       "      <th>GoodsView</th>\n",
       "      <th>ActiveDays</th>\n",
       "      <th>Age</th>\n",
       "      <th>Age_right</th>\n",
       "      <th>gender_right</th>\n",
       "    </tr>\n",
       "  </thead>\n",
       "  <tbody>\n",
       "    <tr>\n",
       "      <th>0</th>\n",
       "      <td>440000</td>\n",
       "      <td>-0.037167</td>\n",
       "      <td>2.633113</td>\n",
       "      <td>-0.309701</td>\n",
       "      <td>0.634956</td>\n",
       "      <td>-0.571023</td>\n",
       "      <td>-0.550796</td>\n",
       "      <td>2.070250</td>\n",
       "      <td>-0.65001</td>\n",
       "      <td>1.709066</td>\n",
       "      <td>-0.125627</td>\n",
       "      <td>-0.27957</td>\n",
       "      <td>-0.584646</td>\n",
       "      <td>0.118167</td>\n",
       "      <td>-0.608825</td>\n",
       "      <td>-0.038541</td>\n",
       "      <td>0.491782</td>\n",
       "    </tr>\n",
       "    <tr>\n",
       "      <th>1</th>\n",
       "      <td>110000</td>\n",
       "      <td>-0.037167</td>\n",
       "      <td>2.633113</td>\n",
       "      <td>-0.309701</td>\n",
       "      <td>-1.195356</td>\n",
       "      <td>-0.129499</td>\n",
       "      <td>0.045804</td>\n",
       "      <td>-0.494323</td>\n",
       "      <td>-0.65001</td>\n",
       "      <td>-0.585115</td>\n",
       "      <td>-0.125627</td>\n",
       "      <td>-0.27957</td>\n",
       "      <td>2.854778</td>\n",
       "      <td>0.337170</td>\n",
       "      <td>-0.611086</td>\n",
       "      <td>-0.038541</td>\n",
       "      <td>0.491782</td>\n",
       "    </tr>\n",
       "    <tr>\n",
       "      <th>2</th>\n",
       "      <td>230000</td>\n",
       "      <td>-0.037167</td>\n",
       "      <td>2.633113</td>\n",
       "      <td>-0.309701</td>\n",
       "      <td>0.978139</td>\n",
       "      <td>-0.767702</td>\n",
       "      <td>-0.816554</td>\n",
       "      <td>2.070250</td>\n",
       "      <td>-0.65001</td>\n",
       "      <td>-0.585115</td>\n",
       "      <td>-0.125627</td>\n",
       "      <td>-0.27957</td>\n",
       "      <td>-0.001693</td>\n",
       "      <td>2.527202</td>\n",
       "      <td>-0.624648</td>\n",
       "      <td>-0.038541</td>\n",
       "      <td>0.491782</td>\n",
       "    </tr>\n",
       "    <tr>\n",
       "      <th>3</th>\n",
       "      <td>210000</td>\n",
       "      <td>1.519248</td>\n",
       "      <td>2.633113</td>\n",
       "      <td>-0.309701</td>\n",
       "      <td>-1.309751</td>\n",
       "      <td>-0.691438</td>\n",
       "      <td>-0.713505</td>\n",
       "      <td>0.018592</td>\n",
       "      <td>-0.65001</td>\n",
       "      <td>1.709066</td>\n",
       "      <td>-0.125627</td>\n",
       "      <td>-0.27957</td>\n",
       "      <td>-0.526350</td>\n",
       "      <td>0.556173</td>\n",
       "      <td>-0.616737</td>\n",
       "      <td>-0.038541</td>\n",
       "      <td>0.491782</td>\n",
       "    </tr>\n",
       "    <tr>\n",
       "      <th>4</th>\n",
       "      <td>110000</td>\n",
       "      <td>-0.037167</td>\n",
       "      <td>2.627638</td>\n",
       "      <td>-0.309701</td>\n",
       "      <td>0.978139</td>\n",
       "      <td>0.436454</td>\n",
       "      <td>0.810537</td>\n",
       "      <td>-0.494323</td>\n",
       "      <td>-0.65001</td>\n",
       "      <td>-0.585115</td>\n",
       "      <td>-0.125627</td>\n",
       "      <td>-0.27957</td>\n",
       "      <td>0.231489</td>\n",
       "      <td>0.337170</td>\n",
       "      <td>-0.612216</td>\n",
       "      <td>-0.038541</td>\n",
       "      <td>0.491782</td>\n",
       "    </tr>\n",
       "  </tbody>\n",
       "</table>\n",
       "</div>"
      ],
      "text/plain": [
       "  provinceId    gender  createOn  orderNum  Finaltime  totalFee  SingtotalFee  \\\n",
       "0     440000 -0.037167  2.633113 -0.309701   0.634956 -0.571023     -0.550796   \n",
       "1     110000 -0.037167  2.633113 -0.309701  -1.195356 -0.129499      0.045804   \n",
       "2     230000 -0.037167  2.633113 -0.309701   0.978139 -0.767702     -0.816554   \n",
       "3     210000  1.519248  2.633113 -0.309701  -1.309751 -0.691438     -0.713505   \n",
       "4     110000 -0.037167  2.627638 -0.309701   0.978139  0.436454      0.810537   \n",
       "\n",
       "   jude_value  register_channelId  cunpon_use  jifen_use  cancel_order  \\\n",
       "0    2.070250            -0.65001    1.709066  -0.125627      -0.27957   \n",
       "1   -0.494323            -0.65001   -0.585115  -0.125627      -0.27957   \n",
       "2    2.070250            -0.65001   -0.585115  -0.125627      -0.27957   \n",
       "3    0.018592            -0.65001    1.709066  -0.125627      -0.27957   \n",
       "4   -0.494323            -0.65001   -0.585115  -0.125627      -0.27957   \n",
       "\n",
       "   GoodsView  ActiveDays       Age  Age_right  gender_right  \n",
       "0  -0.584646    0.118167 -0.608825  -0.038541      0.491782  \n",
       "1   2.854778    0.337170 -0.611086  -0.038541      0.491782  \n",
       "2  -0.001693    2.527202 -0.624648  -0.038541      0.491782  \n",
       "3  -0.526350    0.556173 -0.616737  -0.038541      0.491782  \n",
       "4   0.231489    0.337170 -0.612216  -0.038541      0.491782  "
      ]
     },
     "execution_count": 10,
     "metadata": {},
     "output_type": "execute_result"
    }
   ],
   "source": [
    "# 去除birthYear列，然后去数据进行标准化\n",
    "train_data = train_data.drop(['birthYear'],1)\n",
    "train_data.iloc[:,1:] = train_data.iloc[:,1:].apply(lambda x:(x-np.mean(x))/np.std(x))\n",
    "train_data.head()"
   ]
  },
  {
   "cell_type": "code",
   "execution_count": 11,
   "metadata": {
    "collapsed": true
   },
   "outputs": [],
   "source": [
    "# 采用随机森林算法\n",
    "#调用准确率 召回率 精确率 3个指标来综合评价模型的效果 \n",
    "from sklearn.ensemble import RandomForestClassifier\n",
    "from sklearn.metrics import accuracy_score\n",
    "from sklearn.metrics import recall_score\n",
    "from sklearn.metrics import precision_score\n"
   ]
  },
  {
   "cell_type": "code",
   "execution_count": 14,
   "metadata": {
    "collapsed": false
   },
   "outputs": [
    {
     "name": "stderr",
     "output_type": "stream",
     "text": [
      "/anaconda/lib/python3.6/site-packages/ipykernel/__main__.py:2: DataConversionWarning: A column-vector y was passed when a 1d array was expected. Please change the shape of y to (n_samples,), for example using ravel().\n",
      "  from ipykernel import kernelapp as app\n"
     ]
    },
    {
     "data": {
      "text/plain": [
       "0.9968110353010976"
      ]
     },
     "execution_count": 14,
     "metadata": {},
     "output_type": "execute_result"
    }
   ],
   "source": [
    "RFC = RandomForestClassifier(n_estimators=20)\n",
    "RFC.fit(train_data, train_target)\n",
    "score = RFC.score(train_data, train_target)\n",
    "score\n",
    "# 模型的拟合效果"
   ]
  },
  {
   "cell_type": "code",
   "execution_count": 15,
   "metadata": {
    "collapsed": false
   },
   "outputs": [
    {
     "data": {
      "text/plain": [
       "0.9968110353010976"
      ]
     },
     "execution_count": 15,
     "metadata": {},
     "output_type": "execute_result"
    }
   ],
   "source": [
    "#测试准确程度\n",
    "predict = RFC.predict(train_data)\n",
    "accuracy_score(train_target, predict)"
   ]
  },
  {
   "cell_type": "code",
   "execution_count": 19,
   "metadata": {
    "collapsed": false
   },
   "outputs": [
    {
     "data": {
      "text/plain": [
       "0.99787296898079769"
      ]
     },
     "execution_count": 19,
     "metadata": {},
     "output_type": "execute_result"
    }
   ],
   "source": [
    "# 测试召回率和精确度\n",
    "recall_score(train_target, predict,average='binary')"
   ]
  },
  {
   "cell_type": "code",
   "execution_count": 20,
   "metadata": {
    "collapsed": false
   },
   "outputs": [
    {
     "data": {
      "text/plain": [
       "0.99704823189090264"
      ]
     },
     "execution_count": 20,
     "metadata": {},
     "output_type": "execute_result"
    }
   ],
   "source": [
    "precision_score(train_target, predict,average='binary')"
   ]
  },
  {
   "cell_type": "code",
   "execution_count": 12,
   "metadata": {
    "collapsed": false
   },
   "outputs": [],
   "source": [
    "# 为了防止过分拟合，将数据集划分成测试集和训练集\n",
    "# 将train_data train_target 划分成7:3的比例\n",
    "# 测试模型的一个泛化效果\n",
    "# 将训练数据集随机打乱\n",
    "data1 = train_data.iloc[:,:]\n",
    "data1['Loss_or_not'] = train_target\n",
    "data2 = data1.sample(frac=1)\n",
    "train_data0= data2.iloc[:,:-1]\n",
    "train_target0 = data2.iloc[:,-1:]"
   ]
  },
  {
   "cell_type": "code",
   "execution_count": 13,
   "metadata": {
    "collapsed": true
   },
   "outputs": [],
   "source": [
    "train_data1 = train_data0.iloc[:18000,:]\n",
    "train_data2 = train_data0.iloc[18000:,:]\n",
    "train_target1 = train_target0.iloc[:18000]\n",
    "train_target2 = train_target0.iloc[18000:]"
   ]
  },
  {
   "cell_type": "code",
   "execution_count": 15,
   "metadata": {
    "collapsed": false
   },
   "outputs": [
    {
     "name": "stderr",
     "output_type": "stream",
     "text": [
      "/anaconda/lib/python3.6/site-packages/ipykernel/__main__.py:3: DataConversionWarning: A column-vector y was passed when a 1d array was expected. Please change the shape of y to (n_samples,), for example using ravel().\n",
      "  app.launch_new_instance()\n"
     ]
    },
    {
     "name": "stdout",
     "output_type": "stream",
     "text": [
      "0.996222222222\n",
      "0.744536128457\n",
      "0.864325191656\n",
      "0.760112888053\n"
     ]
    }
   ],
   "source": [
    "# 建立新的随机森林训练模型\n",
    "#RFC2 = RandomForestClassifier(n_estimators=20)\n",
    "#RFC2.fit(train_data1, train_target1)\n",
    "#score = RFC2.score(train_data1, train_target1)\n",
    "#print(score)\n",
    "#predict2 = RFC2.predict(train_data2)\n",
    "#accuracy_result = accuracy_score(train_target2, predict2)\n",
    "#print(accuracy_result)\n",
    "#recall_result = recall_score(train_target2, predict2,average='binary')\n",
    "#print(recall_result)\n",
    "#precision_result = precision_score(train_target2, predict2,average='binary')\n",
    "#print(precision_result)"
   ]
  },
  {
   "cell_type": "code",
   "execution_count": 28,
   "metadata": {
    "collapsed": false
   },
   "outputs": [],
   "source": [
    "#np.savetxt('/Users/pein/Desktop/predcit2.csv', predict2, delimiter=',')"
   ]
  },
  {
   "cell_type": "code",
   "execution_count": 9,
   "metadata": {
    "collapsed": false
   },
   "outputs": [
    {
     "name": "stderr",
     "output_type": "stream",
     "text": [
      "/anaconda/lib/python3.6/site-packages/sklearn/utils/validation.py:526: DataConversionWarning: A column-vector y was passed when a 1d array was expected. Please change the shape of y to (n_samples, ), for example using ravel().\n",
      "  y = column_or_1d(y, warn=True)\n"
     ]
    },
    {
     "data": {
      "text/plain": [
       "0.79178367605761391"
      ]
     },
     "execution_count": 9,
     "metadata": {},
     "output_type": "execute_result"
    }
   ],
   "source": [
    "# 采用LR模型进行建模预测\n",
    "#from sklearn.linear_model import LogisticRegression\n",
    "#from sklearn.metrics import accuracy_score\n",
    "#from sklearn import svm\n",
    "# LR模型的效果\n",
    "#LR = LogisticRegression()\n",
    "#LR.fit(train_data,train_target)\n",
    "#score = LR.score(train_data,train_target)\n",
    "#score"
   ]
  },
  {
   "cell_type": "code",
   "execution_count": 15,
   "metadata": {
    "collapsed": true
   },
   "outputs": [],
   "source": [
    "# 接下来导入我们需要的测试数据集\n",
    "data1 = pd.read_excel('/Users/pein/Desktop/415515蛋糕用户测试集(1).xlsx')"
   ]
  },
  {
   "cell_type": "code",
   "execution_count": 16,
   "metadata": {
    "collapsed": true
   },
   "outputs": [],
   "source": [
    "test_data = data1.iloc[:,:]"
   ]
  },
  {
   "cell_type": "code",
   "execution_count": 17,
   "metadata": {
    "collapsed": false
   },
   "outputs": [
    {
     "data": {
      "text/html": [
       "<div>\n",
       "<table border=\"1\" class=\"dataframe\">\n",
       "  <thead>\n",
       "    <tr style=\"text-align: right;\">\n",
       "      <th></th>\n",
       "      <th>uid</th>\n",
       "      <th>provinceId</th>\n",
       "      <th>gender</th>\n",
       "      <th>birthYear</th>\n",
       "      <th>createOn</th>\n",
       "      <th>orderNum</th>\n",
       "      <th>Finaltime</th>\n",
       "      <th>totalFee</th>\n",
       "      <th>SingtotalFee</th>\n",
       "      <th>register_channelId</th>\n",
       "      <th>jude_value</th>\n",
       "      <th>GoodsView</th>\n",
       "      <th>ActiveDays</th>\n",
       "      <th>cunpon_use</th>\n",
       "      <th>jifen_use</th>\n",
       "      <th>cancel_order</th>\n",
       "    </tr>\n",
       "  </thead>\n",
       "  <tbody>\n",
       "    <tr>\n",
       "      <th>0</th>\n",
       "      <td>1000</td>\n",
       "      <td>110000</td>\n",
       "      <td>1</td>\n",
       "      <td>1987</td>\n",
       "      <td>1800</td>\n",
       "      <td>1</td>\n",
       "      <td>4</td>\n",
       "      <td>19.0</td>\n",
       "      <td>19.0</td>\n",
       "      <td>0</td>\n",
       "      <td>4.0</td>\n",
       "      <td>191</td>\n",
       "      <td>25</td>\n",
       "      <td>0</td>\n",
       "      <td>0</td>\n",
       "      <td>0</td>\n",
       "    </tr>\n",
       "    <tr>\n",
       "      <th>1</th>\n",
       "      <td>1002387</td>\n",
       "      <td>110000</td>\n",
       "      <td>1</td>\n",
       "      <td>1984</td>\n",
       "      <td>1344</td>\n",
       "      <td>1</td>\n",
       "      <td>28</td>\n",
       "      <td>303.0</td>\n",
       "      <td>303.0</td>\n",
       "      <td>1</td>\n",
       "      <td>2.5</td>\n",
       "      <td>4</td>\n",
       "      <td>5</td>\n",
       "      <td>0</td>\n",
       "      <td>0</td>\n",
       "      <td>0</td>\n",
       "    </tr>\n",
       "    <tr>\n",
       "      <th>2</th>\n",
       "      <td>100391</td>\n",
       "      <td>440000</td>\n",
       "      <td>1</td>\n",
       "      <td>1972</td>\n",
       "      <td>1707</td>\n",
       "      <td>1</td>\n",
       "      <td>18</td>\n",
       "      <td>233.0</td>\n",
       "      <td>233.0</td>\n",
       "      <td>1</td>\n",
       "      <td>2.5</td>\n",
       "      <td>11</td>\n",
       "      <td>2</td>\n",
       "      <td>0</td>\n",
       "      <td>0</td>\n",
       "      <td>0</td>\n",
       "    </tr>\n",
       "    <tr>\n",
       "      <th>3</th>\n",
       "      <td>1003936</td>\n",
       "      <td>420000</td>\n",
       "      <td>0</td>\n",
       "      <td>1996</td>\n",
       "      <td>1343</td>\n",
       "      <td>1</td>\n",
       "      <td>13</td>\n",
       "      <td>134.0</td>\n",
       "      <td>134.0</td>\n",
       "      <td>1</td>\n",
       "      <td>2.5</td>\n",
       "      <td>1</td>\n",
       "      <td>1</td>\n",
       "      <td>0</td>\n",
       "      <td>0</td>\n",
       "      <td>0</td>\n",
       "    </tr>\n",
       "    <tr>\n",
       "      <th>4</th>\n",
       "      <td>1005051</td>\n",
       "      <td>310000</td>\n",
       "      <td>0</td>\n",
       "      <td>1987</td>\n",
       "      <td>1343</td>\n",
       "      <td>1</td>\n",
       "      <td>16</td>\n",
       "      <td>248.0</td>\n",
       "      <td>248.0</td>\n",
       "      <td>1</td>\n",
       "      <td>5.0</td>\n",
       "      <td>76</td>\n",
       "      <td>2</td>\n",
       "      <td>0</td>\n",
       "      <td>0</td>\n",
       "      <td>0</td>\n",
       "    </tr>\n",
       "  </tbody>\n",
       "</table>\n",
       "</div>"
      ],
      "text/plain": [
       "       uid  provinceId  gender  birthYear  createOn  orderNum  Finaltime  \\\n",
       "0     1000      110000       1       1987      1800         1          4   \n",
       "1  1002387      110000       1       1984      1344         1         28   \n",
       "2   100391      440000       1       1972      1707         1         18   \n",
       "3  1003936      420000       0       1996      1343         1         13   \n",
       "4  1005051      310000       0       1987      1343         1         16   \n",
       "\n",
       "   totalFee  SingtotalFee  register_channelId  jude_value  GoodsView  \\\n",
       "0      19.0          19.0                   0         4.0        191   \n",
       "1     303.0         303.0                   1         2.5          4   \n",
       "2     233.0         233.0                   1         2.5         11   \n",
       "3     134.0         134.0                   1         2.5          1   \n",
       "4     248.0         248.0                   1         5.0         76   \n",
       "\n",
       "   ActiveDays  cunpon_use  jifen_use  cancel_order  \n",
       "0          25           0          0             0  \n",
       "1           5           0          0             0  \n",
       "2           2           0          0             0  \n",
       "3           1           0          0             0  \n",
       "4           2           0          0             0  "
      ]
     },
     "execution_count": 17,
     "metadata": {},
     "output_type": "execute_result"
    }
   ],
   "source": [
    "test_data.head()"
   ]
  },
  {
   "cell_type": "code",
   "execution_count": 18,
   "metadata": {
    "collapsed": false
   },
   "outputs": [],
   "source": [
    "test_data['provinceId'] = test_data.provinceId.astype('category')\n",
    "test_data['jude_value'] = test_data.jude_value.astype(float)\n",
    "test_data = test_data.drop(['uid'],1)"
   ]
  },
  {
   "cell_type": "code",
   "execution_count": 19,
   "metadata": {
    "collapsed": false
   },
   "outputs": [
    {
     "name": "stderr",
     "output_type": "stream",
     "text": [
      "/anaconda/lib/python3.6/site-packages/ipykernel/__main__.py:6: SettingWithCopyWarning: \n",
      "A value is trying to be set on a copy of a slice from a DataFrame\n",
      "\n",
      "See the caveats in the documentation: http://pandas.pydata.org/pandas-docs/stable/indexing.html#indexing-view-versus-copy\n",
      "/anaconda/lib/python3.6/site-packages/ipykernel/__main__.py:7: SettingWithCopyWarning: \n",
      "A value is trying to be set on a copy of a slice from a DataFrame\n",
      "\n",
      "See the caveats in the documentation: http://pandas.pydata.org/pandas-docs/stable/indexing.html#indexing-view-versus-copy\n",
      "/anaconda/lib/python3.6/site-packages/ipykernel/__main__.py:8: SettingWithCopyWarning: \n",
      "A value is trying to be set on a copy of a slice from a DataFrame\n",
      "\n",
      "See the caveats in the documentation: http://pandas.pydata.org/pandas-docs/stable/indexing.html#indexing-view-versus-copy\n",
      "/anaconda/lib/python3.6/site-packages/ipykernel/__main__.py:9: SettingWithCopyWarning: \n",
      "A value is trying to be set on a copy of a slice from a DataFrame\n",
      "\n",
      "See the caveats in the documentation: http://pandas.pydata.org/pandas-docs/stable/indexing.html#indexing-view-versus-copy\n",
      "/anaconda/lib/python3.6/site-packages/ipykernel/__main__.py:12: SettingWithCopyWarning: \n",
      "A value is trying to be set on a copy of a slice from a DataFrame\n",
      "\n",
      "See the caveats in the documentation: http://pandas.pydata.org/pandas-docs/stable/indexing.html#indexing-view-versus-copy\n"
     ]
    }
   ],
   "source": [
    "# 测试数据集处理年龄和性别\n",
    "test_data['Age'] = 2017 - test_data.birthYear\n",
    "mask_age_lower1 = test_data['Age']<10\n",
    "mask_age_high1 = test_data['Age']>90\n",
    "test_data['Age_right'] = 1\n",
    "test_data['Age_right'][mask_age_lower1] = 0\n",
    "test_data['Age_right'][mask_age_high1] = 0\n",
    "test_data['Age'][mask_age_lower1] = 0\n",
    "test_data['Age'][mask_age_high1] = 0\n",
    "mask_gender_error1 = test_data['gender'] ==-1\n",
    "test_data['gender_right'] = 1\n",
    "test_data['gender_right'][mask_gender_error1] = 0"
   ]
  },
  {
   "cell_type": "code",
   "execution_count": 21,
   "metadata": {
    "collapsed": false
   },
   "outputs": [
    {
     "name": "stdout",
     "output_type": "stream",
     "text": [
      "<class 'pandas.core.frame.DataFrame'>\n",
      "RangeIndex: 18398 entries, 0 to 18397\n",
      "Data columns (total 18 columns):\n",
      "provinceId            18398 non-null category\n",
      "gender                18398 non-null int64\n",
      "birthYear             18398 non-null int64\n",
      "createOn              18398 non-null int64\n",
      "orderNum              18398 non-null int64\n",
      "Finaltime             18398 non-null int64\n",
      "totalFee              18398 non-null float64\n",
      "SingtotalFee          18398 non-null float64\n",
      "register_channelId    18398 non-null int64\n",
      "jude_value            18398 non-null float64\n",
      "GoodsView             18398 non-null int64\n",
      "ActiveDays            18398 non-null int64\n",
      "cunpon_use            18398 non-null int64\n",
      "jifen_use             18398 non-null int64\n",
      "cancel_order          18398 non-null int64\n",
      "Age                   18398 non-null int64\n",
      "Age_right             18398 non-null int64\n",
      "gender_right          18398 non-null int64\n",
      "dtypes: category(1), float64(3), int64(14)\n",
      "memory usage: 2.4 MB\n"
     ]
    }
   ],
   "source": [
    "test_data.info()"
   ]
  },
  {
   "cell_type": "code",
   "execution_count": 23,
   "metadata": {
    "collapsed": false
   },
   "outputs": [],
   "source": [
    "test_data = test_data.drop(['birthYear'],1)\n",
    "test_data.iloc[:,1:] = test_data.iloc[:,1:].apply(lambda x: (x-np.mean(x))/np.std(x))"
   ]
  },
  {
   "cell_type": "code",
   "execution_count": 24,
   "metadata": {
    "collapsed": false
   },
   "outputs": [
    {
     "data": {
      "text/html": [
       "<div>\n",
       "<table border=\"1\" class=\"dataframe\">\n",
       "  <thead>\n",
       "    <tr style=\"text-align: right;\">\n",
       "      <th></th>\n",
       "      <th>provinceId</th>\n",
       "      <th>gender</th>\n",
       "      <th>createOn</th>\n",
       "      <th>orderNum</th>\n",
       "      <th>Finaltime</th>\n",
       "      <th>totalFee</th>\n",
       "      <th>SingtotalFee</th>\n",
       "      <th>register_channelId</th>\n",
       "      <th>jude_value</th>\n",
       "      <th>GoodsView</th>\n",
       "      <th>ActiveDays</th>\n",
       "      <th>cunpon_use</th>\n",
       "      <th>jifen_use</th>\n",
       "      <th>cancel_order</th>\n",
       "      <th>Age</th>\n",
       "      <th>Age_right</th>\n",
       "      <th>gender_right</th>\n",
       "    </tr>\n",
       "  </thead>\n",
       "  <tbody>\n",
       "    <tr>\n",
       "      <th>0</th>\n",
       "      <td>110000</td>\n",
       "      <td>1.547959</td>\n",
       "      <td>3.834760</td>\n",
       "      <td>-0.228219</td>\n",
       "      <td>-1.019285</td>\n",
       "      <td>-1.116291</td>\n",
       "      <td>-1.258061</td>\n",
       "      <td>-1.785238</td>\n",
       "      <td>1.449629</td>\n",
       "      <td>9.404941</td>\n",
       "      <td>5.474314</td>\n",
       "      <td>-0.379958</td>\n",
       "      <td>-0.095419</td>\n",
       "      <td>-0.273795</td>\n",
       "      <td>0.649538</td>\n",
       "      <td>0.70437</td>\n",
       "      <td>0.521438</td>\n",
       "    </tr>\n",
       "    <tr>\n",
       "      <th>1</th>\n",
       "      <td>110000</td>\n",
       "      <td>1.547959</td>\n",
       "      <td>2.676557</td>\n",
       "      <td>-0.228219</td>\n",
       "      <td>1.589558</td>\n",
       "      <td>0.113248</td>\n",
       "      <td>0.286274</td>\n",
       "      <td>0.560150</td>\n",
       "      <td>-0.385340</td>\n",
       "      <td>-0.553542</td>\n",
       "      <td>0.473200</td>\n",
       "      <td>-0.379958</td>\n",
       "      <td>-0.095419</td>\n",
       "      <td>-0.273795</td>\n",
       "      <td>0.844056</td>\n",
       "      <td>0.70437</td>\n",
       "      <td>0.521438</td>\n",
       "    </tr>\n",
       "    <tr>\n",
       "      <th>2</th>\n",
       "      <td>440000</td>\n",
       "      <td>1.547959</td>\n",
       "      <td>3.598547</td>\n",
       "      <td>-0.228219</td>\n",
       "      <td>0.502540</td>\n",
       "      <td>-0.189808</td>\n",
       "      <td>-0.094372</td>\n",
       "      <td>0.560150</td>\n",
       "      <td>-0.385340</td>\n",
       "      <td>-0.180765</td>\n",
       "      <td>-0.276967</td>\n",
       "      <td>-0.379958</td>\n",
       "      <td>-0.095419</td>\n",
       "      <td>-0.273795</td>\n",
       "      <td>1.622127</td>\n",
       "      <td>0.70437</td>\n",
       "      <td>0.521438</td>\n",
       "    </tr>\n",
       "    <tr>\n",
       "      <th>3</th>\n",
       "      <td>420000</td>\n",
       "      <td>0.008535</td>\n",
       "      <td>2.674017</td>\n",
       "      <td>-0.228219</td>\n",
       "      <td>-0.040968</td>\n",
       "      <td>-0.618414</td>\n",
       "      <td>-0.632714</td>\n",
       "      <td>0.560150</td>\n",
       "      <td>-0.385340</td>\n",
       "      <td>-0.713304</td>\n",
       "      <td>-0.527022</td>\n",
       "      <td>-0.379958</td>\n",
       "      <td>-0.095419</td>\n",
       "      <td>-0.273795</td>\n",
       "      <td>0.065985</td>\n",
       "      <td>0.70437</td>\n",
       "      <td>0.521438</td>\n",
       "    </tr>\n",
       "    <tr>\n",
       "      <th>4</th>\n",
       "      <td>310000</td>\n",
       "      <td>0.008535</td>\n",
       "      <td>2.674017</td>\n",
       "      <td>-0.228219</td>\n",
       "      <td>0.285137</td>\n",
       "      <td>-0.124867</td>\n",
       "      <td>-0.012805</td>\n",
       "      <td>0.560150</td>\n",
       "      <td>2.672941</td>\n",
       "      <td>3.280740</td>\n",
       "      <td>-0.276967</td>\n",
       "      <td>-0.379958</td>\n",
       "      <td>-0.095419</td>\n",
       "      <td>-0.273795</td>\n",
       "      <td>0.649538</td>\n",
       "      <td>0.70437</td>\n",
       "      <td>0.521438</td>\n",
       "    </tr>\n",
       "  </tbody>\n",
       "</table>\n",
       "</div>"
      ],
      "text/plain": [
       "  provinceId    gender  createOn  orderNum  Finaltime  totalFee  SingtotalFee  \\\n",
       "0     110000  1.547959  3.834760 -0.228219  -1.019285 -1.116291     -1.258061   \n",
       "1     110000  1.547959  2.676557 -0.228219   1.589558  0.113248      0.286274   \n",
       "2     440000  1.547959  3.598547 -0.228219   0.502540 -0.189808     -0.094372   \n",
       "3     420000  0.008535  2.674017 -0.228219  -0.040968 -0.618414     -0.632714   \n",
       "4     310000  0.008535  2.674017 -0.228219   0.285137 -0.124867     -0.012805   \n",
       "\n",
       "   register_channelId  jude_value  GoodsView  ActiveDays  cunpon_use  \\\n",
       "0           -1.785238    1.449629   9.404941    5.474314   -0.379958   \n",
       "1            0.560150   -0.385340  -0.553542    0.473200   -0.379958   \n",
       "2            0.560150   -0.385340  -0.180765   -0.276967   -0.379958   \n",
       "3            0.560150   -0.385340  -0.713304   -0.527022   -0.379958   \n",
       "4            0.560150    2.672941   3.280740   -0.276967   -0.379958   \n",
       "\n",
       "   jifen_use  cancel_order       Age  Age_right  gender_right  \n",
       "0  -0.095419     -0.273795  0.649538    0.70437      0.521438  \n",
       "1  -0.095419     -0.273795  0.844056    0.70437      0.521438  \n",
       "2  -0.095419     -0.273795  1.622127    0.70437      0.521438  \n",
       "3  -0.095419     -0.273795  0.065985    0.70437      0.521438  \n",
       "4  -0.095419     -0.273795  0.649538    0.70437      0.521438  "
      ]
     },
     "execution_count": 24,
     "metadata": {},
     "output_type": "execute_result"
    }
   ],
   "source": [
    "test_data.head()"
   ]
  },
  {
   "cell_type": "code",
   "execution_count": 25,
   "metadata": {
    "collapsed": true
   },
   "outputs": [],
   "source": [
    "predict = LR.predict(test_data)"
   ]
  },
  {
   "cell_type": "code",
   "execution_count": 26,
   "metadata": {
    "collapsed": true
   },
   "outputs": [],
   "source": [
    "data1['result'] = predict"
   ]
  },
  {
   "cell_type": "code",
   "execution_count": 28,
   "metadata": {
    "collapsed": false
   },
   "outputs": [
    {
     "data": {
      "text/html": [
       "<div>\n",
       "<table border=\"1\" class=\"dataframe\">\n",
       "  <thead>\n",
       "    <tr style=\"text-align: right;\">\n",
       "      <th></th>\n",
       "      <th>uid</th>\n",
       "      <th>gender</th>\n",
       "      <th>birthYear</th>\n",
       "      <th>createOn</th>\n",
       "      <th>orderNum</th>\n",
       "      <th>Finaltime</th>\n",
       "      <th>totalFee</th>\n",
       "      <th>SingtotalFee</th>\n",
       "      <th>register_channelId</th>\n",
       "      <th>jude_value</th>\n",
       "      <th>GoodsView</th>\n",
       "      <th>ActiveDays</th>\n",
       "      <th>cunpon_use</th>\n",
       "      <th>jifen_use</th>\n",
       "      <th>cancel_order</th>\n",
       "      <th>result</th>\n",
       "    </tr>\n",
       "  </thead>\n",
       "  <tbody>\n",
       "    <tr>\n",
       "      <th>count</th>\n",
       "      <td>1.839800e+04</td>\n",
       "      <td>18398.000000</td>\n",
       "      <td>18398.000000</td>\n",
       "      <td>18398.000000</td>\n",
       "      <td>18398.000000</td>\n",
       "      <td>18398.000000</td>\n",
       "      <td>18398.000000</td>\n",
       "      <td>18398.000000</td>\n",
       "      <td>18398.00000</td>\n",
       "      <td>18398.000000</td>\n",
       "      <td>18398.000000</td>\n",
       "      <td>18398.000000</td>\n",
       "      <td>18398.000000</td>\n",
       "      <td>18398.000000</td>\n",
       "      <td>18398.000000</td>\n",
       "      <td>18398.0</td>\n",
       "    </tr>\n",
       "    <tr>\n",
       "      <th>mean</th>\n",
       "      <td>7.318777e+06</td>\n",
       "      <td>-0.005544</td>\n",
       "      <td>1374.318839</td>\n",
       "      <td>290.203663</td>\n",
       "      <td>1.117513</td>\n",
       "      <td>13.376889</td>\n",
       "      <td>276.841942</td>\n",
       "      <td>250.354764</td>\n",
       "      <td>0.76117</td>\n",
       "      <td>2.814997</td>\n",
       "      <td>14.394391</td>\n",
       "      <td>3.107620</td>\n",
       "      <td>0.126155</td>\n",
       "      <td>0.009023</td>\n",
       "      <td>0.069736</td>\n",
       "      <td>1.0</td>\n",
       "    </tr>\n",
       "    <tr>\n",
       "      <th>std</th>\n",
       "      <td>4.576301e+06</td>\n",
       "      <td>0.649611</td>\n",
       "      <td>919.524991</td>\n",
       "      <td>393.724115</td>\n",
       "      <td>0.514926</td>\n",
       "      <td>9.199730</td>\n",
       "      <td>230.987279</td>\n",
       "      <td>183.902904</td>\n",
       "      <td>0.42638</td>\n",
       "      <td>0.817475</td>\n",
       "      <td>18.778471</td>\n",
       "      <td>3.999218</td>\n",
       "      <td>0.332033</td>\n",
       "      <td>0.094561</td>\n",
       "      <td>0.254708</td>\n",
       "      <td>0.0</td>\n",
       "    </tr>\n",
       "    <tr>\n",
       "      <th>min</th>\n",
       "      <td>1.000000e+03</td>\n",
       "      <td>-1.000000</td>\n",
       "      <td>0.000000</td>\n",
       "      <td>0.000000</td>\n",
       "      <td>1.000000</td>\n",
       "      <td>0.000000</td>\n",
       "      <td>8.000000</td>\n",
       "      <td>8.000000</td>\n",
       "      <td>0.00000</td>\n",
       "      <td>0.000000</td>\n",
       "      <td>1.000000</td>\n",
       "      <td>1.000000</td>\n",
       "      <td>0.000000</td>\n",
       "      <td>0.000000</td>\n",
       "      <td>0.000000</td>\n",
       "      <td>1.0</td>\n",
       "    </tr>\n",
       "    <tr>\n",
       "      <th>25%</th>\n",
       "      <td>5.066758e+06</td>\n",
       "      <td>0.000000</td>\n",
       "      <td>0.000000</td>\n",
       "      <td>18.000000</td>\n",
       "      <td>1.000000</td>\n",
       "      <td>4.000000</td>\n",
       "      <td>161.000000</td>\n",
       "      <td>161.000000</td>\n",
       "      <td>1.00000</td>\n",
       "      <td>2.500000</td>\n",
       "      <td>3.000000</td>\n",
       "      <td>1.000000</td>\n",
       "      <td>0.000000</td>\n",
       "      <td>0.000000</td>\n",
       "      <td>0.000000</td>\n",
       "      <td>1.0</td>\n",
       "    </tr>\n",
       "    <tr>\n",
       "      <th>50%</th>\n",
       "      <td>7.589843e+06</td>\n",
       "      <td>0.000000</td>\n",
       "      <td>1984.000000</td>\n",
       "      <td>98.000000</td>\n",
       "      <td>1.000000</td>\n",
       "      <td>13.000000</td>\n",
       "      <td>205.500000</td>\n",
       "      <td>198.000000</td>\n",
       "      <td>1.00000</td>\n",
       "      <td>2.500000</td>\n",
       "      <td>8.000000</td>\n",
       "      <td>2.000000</td>\n",
       "      <td>0.000000</td>\n",
       "      <td>0.000000</td>\n",
       "      <td>0.000000</td>\n",
       "      <td>1.0</td>\n",
       "    </tr>\n",
       "    <tr>\n",
       "      <th>75%</th>\n",
       "      <td>8.164760e+06</td>\n",
       "      <td>0.000000</td>\n",
       "      <td>1991.000000</td>\n",
       "      <td>416.000000</td>\n",
       "      <td>1.000000</td>\n",
       "      <td>21.000000</td>\n",
       "      <td>298.875000</td>\n",
       "      <td>288.000000</td>\n",
       "      <td>1.00000</td>\n",
       "      <td>2.500000</td>\n",
       "      <td>18.000000</td>\n",
       "      <td>3.000000</td>\n",
       "      <td>0.000000</td>\n",
       "      <td>0.000000</td>\n",
       "      <td>0.000000</td>\n",
       "      <td>1.0</td>\n",
       "    </tr>\n",
       "    <tr>\n",
       "      <th>max</th>\n",
       "      <td>2.153836e+07</td>\n",
       "      <td>1.000000</td>\n",
       "      <td>3333.000000</td>\n",
       "      <td>1863.000000</td>\n",
       "      <td>41.000000</td>\n",
       "      <td>30.000000</td>\n",
       "      <td>6727.000000</td>\n",
       "      <td>4999.000000</td>\n",
       "      <td>1.00000</td>\n",
       "      <td>5.000000</td>\n",
       "      <td>302.000000</td>\n",
       "      <td>31.000000</td>\n",
       "      <td>1.000000</td>\n",
       "      <td>1.000000</td>\n",
       "      <td>1.000000</td>\n",
       "      <td>1.0</td>\n",
       "    </tr>\n",
       "  </tbody>\n",
       "</table>\n",
       "</div>"
      ],
      "text/plain": [
       "                uid        gender     birthYear      createOn      orderNum  \\\n",
       "count  1.839800e+04  18398.000000  18398.000000  18398.000000  18398.000000   \n",
       "mean   7.318777e+06     -0.005544   1374.318839    290.203663      1.117513   \n",
       "std    4.576301e+06      0.649611    919.524991    393.724115      0.514926   \n",
       "min    1.000000e+03     -1.000000      0.000000      0.000000      1.000000   \n",
       "25%    5.066758e+06      0.000000      0.000000     18.000000      1.000000   \n",
       "50%    7.589843e+06      0.000000   1984.000000     98.000000      1.000000   \n",
       "75%    8.164760e+06      0.000000   1991.000000    416.000000      1.000000   \n",
       "max    2.153836e+07      1.000000   3333.000000   1863.000000     41.000000   \n",
       "\n",
       "          Finaltime      totalFee  SingtotalFee  register_channelId  \\\n",
       "count  18398.000000  18398.000000  18398.000000         18398.00000   \n",
       "mean      13.376889    276.841942    250.354764             0.76117   \n",
       "std        9.199730    230.987279    183.902904             0.42638   \n",
       "min        0.000000      8.000000      8.000000             0.00000   \n",
       "25%        4.000000    161.000000    161.000000             1.00000   \n",
       "50%       13.000000    205.500000    198.000000             1.00000   \n",
       "75%       21.000000    298.875000    288.000000             1.00000   \n",
       "max       30.000000   6727.000000   4999.000000             1.00000   \n",
       "\n",
       "         jude_value     GoodsView    ActiveDays    cunpon_use     jifen_use  \\\n",
       "count  18398.000000  18398.000000  18398.000000  18398.000000  18398.000000   \n",
       "mean       2.814997     14.394391      3.107620      0.126155      0.009023   \n",
       "std        0.817475     18.778471      3.999218      0.332033      0.094561   \n",
       "min        0.000000      1.000000      1.000000      0.000000      0.000000   \n",
       "25%        2.500000      3.000000      1.000000      0.000000      0.000000   \n",
       "50%        2.500000      8.000000      2.000000      0.000000      0.000000   \n",
       "75%        2.500000     18.000000      3.000000      0.000000      0.000000   \n",
       "max        5.000000    302.000000     31.000000      1.000000      1.000000   \n",
       "\n",
       "       cancel_order   result  \n",
       "count  18398.000000  18398.0  \n",
       "mean       0.069736      1.0  \n",
       "std        0.254708      0.0  \n",
       "min        0.000000      1.0  \n",
       "25%        0.000000      1.0  \n",
       "50%        0.000000      1.0  \n",
       "75%        0.000000      1.0  \n",
       "max        1.000000      1.0  "
      ]
     },
     "execution_count": 28,
     "metadata": {},
     "output_type": "execute_result"
    }
   ],
   "source": [
    "data1.describe()"
   ]
  },
  {
   "cell_type": "code",
   "execution_count": 29,
   "metadata": {
    "collapsed": true
   },
   "outputs": [],
   "source": [
    "data1.to_csv('/Users/pein/Desktop/415515蛋糕用户测试集预测结果.csv')"
   ]
  },
  {
   "cell_type": "code",
   "execution_count": null,
   "metadata": {
    "collapsed": true
   },
   "outputs": [],
   "source": []
  }
 ],
 "metadata": {
  "kernelspec": {
   "display_name": "Python 3",
   "language": "python",
   "name": "python3"
  },
  "language_info": {
   "codemirror_mode": {
    "name": "ipython",
    "version": 3
   },
   "file_extension": ".py",
   "mimetype": "text/x-python",
   "name": "python",
   "nbconvert_exporter": "python",
   "pygments_lexer": "ipython3",
   "version": "3.6.0"
  }
 },
 "nbformat": 4,
 "nbformat_minor": 2
}
