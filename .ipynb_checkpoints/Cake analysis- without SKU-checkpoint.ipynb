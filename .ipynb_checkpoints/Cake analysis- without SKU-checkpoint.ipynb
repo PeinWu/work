{
 "cells": [
  {
   "cell_type": "markdown",
   "metadata": {},
   "source": [
    "### Cake Analysis"
   ]
  },
  {
   "cell_type": "code",
   "execution_count": 2,
   "metadata": {
    "collapsed": true
   },
   "outputs": [],
   "source": [
    "import pandas as pd\n",
    "import numpy as np\n",
    "import matplotlib.pyplot as plt\n",
    "import seaborn as sns\n",
    "% matplotlib inline\n",
    "sns.set(style='whitegrid',color_codes=True)\n",
    "sns.set(font_scale=1)"
   ]
  },
  {
   "cell_type": "markdown",
   "metadata": {},
   "source": [
    "### Concat the dataset to one"
   ]
  },
  {
   "cell_type": "code",
   "execution_count": 166,
   "metadata": {
    "collapsed": false
   },
   "outputs": [],
   "source": [
    "cake12=pd.read_csv('/Users/pein/Desktop/12月蛋糕.csv')\n",
    "cake11=pd.read_csv('/Users/pein/Desktop/11月蛋糕.csv')\n",
    "cake10=pd.read_csv('/Users/pein/Desktop/10月蛋糕.csv')\n",
    "cake9=pd.read_csv('/Users/pein/Desktop/9月蛋糕.csv')\n",
    "cake8=pd.read_csv('/Users/pein/Desktop/8月蛋糕.csv')\n",
    "cake7=pd.read_csv('/Users/pein/Desktop/7月数据.csv')\n",
    "cake6=pd.read_csv('/Users/pein/Desktop/6月蛋糕.csv')\n",
    "cake45=pd.read_csv('/Users/pein/Desktop/45蛋糕.csv')\n",
    "cake123=pd.read_csv('/Users/pein/Desktop/123月蛋糕.csv')\n",
    "data=pd.concat([cake12,cake11,cake10,cake9,cake8,cake7,cake6,\n",
    "               cake45,cake123])"
   ]
  },
  {
   "cell_type": "code",
   "execution_count": 167,
   "metadata": {
    "collapsed": false
   },
   "outputs": [],
   "source": [
    "data['Age']=2016-data['birthYear']"
   ]
  },
  {
   "cell_type": "code",
   "execution_count": 168,
   "metadata": {
    "collapsed": false
   },
   "outputs": [
    {
     "name": "stdout",
     "output_type": "stream",
     "text": [
      "<class 'pandas.core.frame.DataFrame'>\n",
      "Int64Index: 203819 entries, 0 to 42107\n",
      "Data columns (total 14 columns):\n",
      "productId           203819 non-null int64\n",
      "uid                 203819 non-null int64\n",
      "orderId             203819 non-null int64\n",
      "totalFee            203819 non-null float64\n",
      "city                203819 non-null int64\n",
      "birthYear           202619 non-null float64\n",
      "brandName           203819 non-null object\n",
      "categoryName        203819 non-null object\n",
      "cityName            203818 non-null object\n",
      "gender              202619 non-null float64\n",
      "provinceId          203818 non-null float64\n",
      "provinceName        203818 non-null object\n",
      "rootCategoryName    203819 non-null object\n",
      "Age                 202619 non-null float64\n",
      "dtypes: float64(5), int64(4), object(5)\n",
      "memory usage: 23.3+ MB\n"
     ]
    }
   ],
   "source": [
    "data.info()"
   ]
  },
  {
   "cell_type": "code",
   "execution_count": 169,
   "metadata": {
    "collapsed": false
   },
   "outputs": [
    {
     "name": "stdout",
     "output_type": "stream",
     "text": [
      "<class 'pandas.core.frame.DataFrame'>\n",
      "Int64Index: 203819 entries, 0 to 42107\n",
      "Data columns (total 15 columns):\n",
      "productId           203819 non-null int64\n",
      "uid                 203819 non-null int64\n",
      "orderId             203819 non-null int64\n",
      "totalFee            203819 non-null float64\n",
      "city                203819 non-null int64\n",
      "birthYear           202619 non-null float64\n",
      "brandName           203819 non-null object\n",
      "categoryName        203819 non-null object\n",
      "cityName            203818 non-null object\n",
      "gender              202619 non-null float64\n",
      "provinceId          203818 non-null float64\n",
      "provinceName        203818 non-null object\n",
      "rootCategoryName    203819 non-null object\n",
      "Age                 202619 non-null float64\n",
      "perorder_range      203819 non-null category\n",
      "dtypes: category(1), float64(5), int64(4), object(5)\n",
      "memory usage: 23.5+ MB\n"
     ]
    }
   ],
   "source": [
    "data1=data.copy()\n",
    "data['perorder_range']=pd.qcut(data['totalFee'],q=10)\n",
    "data.info()"
   ]
  },
  {
   "cell_type": "code",
   "execution_count": 170,
   "metadata": {
    "collapsed": true
   },
   "outputs": [],
   "source": [
    "data.to_csv('/Users/pein/Desktop/客单价范围分布.csv')"
   ]
  },
  {
   "cell_type": "code",
   "execution_count": 173,
   "metadata": {
    "collapsed": false
   },
   "outputs": [
    {
     "data": {
      "text/html": [
       "<div>\n",
       "<table border=\"1\" class=\"dataframe\">\n",
       "  <thead>\n",
       "    <tr style=\"text-align: right;\">\n",
       "      <th></th>\n",
       "      <th>orderId</th>\n",
       "      <th>uid</th>\n",
       "      <th>cityName</th>\n",
       "      <th>gender</th>\n",
       "      <th>provinceName</th>\n",
       "      <th>Age</th>\n",
       "    </tr>\n",
       "  </thead>\n",
       "  <tbody>\n",
       "    <tr>\n",
       "      <th>0</th>\n",
       "      <td>22998860</td>\n",
       "      <td>5544625</td>\n",
       "      <td>上海市</td>\n",
       "      <td>0.0</td>\n",
       "      <td>上海市</td>\n",
       "      <td>2016.0</td>\n",
       "    </tr>\n",
       "    <tr>\n",
       "      <th>1</th>\n",
       "      <td>22998861</td>\n",
       "      <td>1126219</td>\n",
       "      <td>北京市</td>\n",
       "      <td>0.0</td>\n",
       "      <td>北京市</td>\n",
       "      <td>29.0</td>\n",
       "    </tr>\n",
       "    <tr>\n",
       "      <th>2</th>\n",
       "      <td>22998858</td>\n",
       "      <td>7014080</td>\n",
       "      <td>北京市</td>\n",
       "      <td>-1.0</td>\n",
       "      <td>北京市</td>\n",
       "      <td>2016.0</td>\n",
       "    </tr>\n",
       "    <tr>\n",
       "      <th>3</th>\n",
       "      <td>22998856</td>\n",
       "      <td>7182067</td>\n",
       "      <td>北京市</td>\n",
       "      <td>1.0</td>\n",
       "      <td>北京市</td>\n",
       "      <td>11.0</td>\n",
       "    </tr>\n",
       "    <tr>\n",
       "      <th>4</th>\n",
       "      <td>22998851</td>\n",
       "      <td>4000419</td>\n",
       "      <td>北京市</td>\n",
       "      <td>-1.0</td>\n",
       "      <td>北京市</td>\n",
       "      <td>2016.0</td>\n",
       "    </tr>\n",
       "  </tbody>\n",
       "</table>\n",
       "</div>"
      ],
      "text/plain": [
       "    orderId      uid cityName  gender provinceName     Age\n",
       "0  22998860  5544625      上海市     0.0          上海市  2016.0\n",
       "1  22998861  1126219      北京市     0.0          北京市    29.0\n",
       "2  22998858  7014080      北京市    -1.0          北京市  2016.0\n",
       "3  22998856  7182067      北京市     1.0          北京市    11.0\n",
       "4  22998851  4000419      北京市    -1.0          北京市  2016.0"
      ]
     },
     "execution_count": 173,
     "metadata": {},
     "output_type": "execute_result"
    }
   ],
   "source": [
    "# 提取订单中的用户属性字段\n",
    "data_user_attribute=data.loc[:,['orderId','uid','cityName','gender',\n",
    "                                'provinceName','Age']]\n",
    "data_user_attribute.head()"
   ]
  },
  {
   "cell_type": "code",
   "execution_count": 174,
   "metadata": {
    "collapsed": true
   },
   "outputs": [],
   "source": [
    "data_user_attribute.to_csv('/Users/pein/Desktop/蛋糕消费用户属性字段.csv')"
   ]
  },
  {
   "cell_type": "markdown",
   "metadata": {},
   "source": [
    "### Duplicate the wrong number in Age and gender"
   ]
  },
  {
   "cell_type": "code",
   "execution_count": 93,
   "metadata": {
    "collapsed": false
   },
   "outputs": [
    {
     "data": {
      "text/html": [
       "<div>\n",
       "<table border=\"1\" class=\"dataframe\">\n",
       "  <thead>\n",
       "    <tr style=\"text-align: right;\">\n",
       "      <th></th>\n",
       "      <th>productId</th>\n",
       "      <th>uid</th>\n",
       "      <th>orderId</th>\n",
       "      <th>totalFee</th>\n",
       "      <th>city</th>\n",
       "      <th>birthYear</th>\n",
       "      <th>gender</th>\n",
       "      <th>provinceId</th>\n",
       "      <th>Year</th>\n",
       "      <th>Age</th>\n",
       "    </tr>\n",
       "  </thead>\n",
       "  <tbody>\n",
       "    <tr>\n",
       "      <th>count</th>\n",
       "      <td>15491.000000</td>\n",
       "      <td>1.549100e+04</td>\n",
       "      <td>1.549100e+04</td>\n",
       "      <td>15491.000000</td>\n",
       "      <td>15491.000000</td>\n",
       "      <td>15491.000000</td>\n",
       "      <td>15491.000000</td>\n",
       "      <td>15491.000000</td>\n",
       "      <td>15491.000000</td>\n",
       "      <td>15491.000000</td>\n",
       "    </tr>\n",
       "    <tr>\n",
       "      <th>mean</th>\n",
       "      <td>15413.938674</td>\n",
       "      <td>3.917556e+06</td>\n",
       "      <td>2.201438e+07</td>\n",
       "      <td>228.670321</td>\n",
       "      <td>277495.198438</td>\n",
       "      <td>1987.218256</td>\n",
       "      <td>0.275450</td>\n",
       "      <td>277257.762572</td>\n",
       "      <td>28.781744</td>\n",
       "      <td>28.781744</td>\n",
       "    </tr>\n",
       "    <tr>\n",
       "      <th>std</th>\n",
       "      <td>13877.708422</td>\n",
       "      <td>1.899754e+06</td>\n",
       "      <td>5.295458e+05</td>\n",
       "      <td>188.150549</td>\n",
       "      <td>145156.015037</td>\n",
       "      <td>7.501853</td>\n",
       "      <td>0.446755</td>\n",
       "      <td>145041.324392</td>\n",
       "      <td>7.501853</td>\n",
       "      <td>7.501853</td>\n",
       "    </tr>\n",
       "    <tr>\n",
       "      <th>min</th>\n",
       "      <td>1.000000</td>\n",
       "      <td>1.001000e+03</td>\n",
       "      <td>2.129840e+07</td>\n",
       "      <td>0.000000</td>\n",
       "      <td>110100.000000</td>\n",
       "      <td>1937.000000</td>\n",
       "      <td>0.000000</td>\n",
       "      <td>110000.000000</td>\n",
       "      <td>9.000000</td>\n",
       "      <td>9.000000</td>\n",
       "    </tr>\n",
       "    <tr>\n",
       "      <th>25%</th>\n",
       "      <td>7398.000000</td>\n",
       "      <td>2.374900e+06</td>\n",
       "      <td>2.158268e+07</td>\n",
       "      <td>138.000000</td>\n",
       "      <td>110100.000000</td>\n",
       "      <td>1983.000000</td>\n",
       "      <td>0.000000</td>\n",
       "      <td>110000.000000</td>\n",
       "      <td>24.000000</td>\n",
       "      <td>24.000000</td>\n",
       "    </tr>\n",
       "    <tr>\n",
       "      <th>50%</th>\n",
       "      <td>10040.000000</td>\n",
       "      <td>4.616827e+06</td>\n",
       "      <td>2.183897e+07</td>\n",
       "      <td>178.000000</td>\n",
       "      <td>310100.000000</td>\n",
       "      <td>1988.000000</td>\n",
       "      <td>0.000000</td>\n",
       "      <td>310000.000000</td>\n",
       "      <td>28.000000</td>\n",
       "      <td>28.000000</td>\n",
       "    </tr>\n",
       "    <tr>\n",
       "      <th>75%</th>\n",
       "      <td>21068.000000</td>\n",
       "      <td>5.102687e+06</td>\n",
       "      <td>2.257113e+07</td>\n",
       "      <td>258.700000</td>\n",
       "      <td>410100.000000</td>\n",
       "      <td>1992.000000</td>\n",
       "      <td>1.000000</td>\n",
       "      <td>410000.000000</td>\n",
       "      <td>33.000000</td>\n",
       "      <td>33.000000</td>\n",
       "    </tr>\n",
       "    <tr>\n",
       "      <th>max</th>\n",
       "      <td>82010.000000</td>\n",
       "      <td>7.180971e+06</td>\n",
       "      <td>2.299818e+07</td>\n",
       "      <td>4999.000000</td>\n",
       "      <td>659004.000000</td>\n",
       "      <td>2007.000000</td>\n",
       "      <td>1.000000</td>\n",
       "      <td>650000.000000</td>\n",
       "      <td>79.000000</td>\n",
       "      <td>79.000000</td>\n",
       "    </tr>\n",
       "  </tbody>\n",
       "</table>\n",
       "</div>"
      ],
      "text/plain": [
       "          productId           uid       orderId      totalFee           city  \\\n",
       "count  15491.000000  1.549100e+04  1.549100e+04  15491.000000   15491.000000   \n",
       "mean   15413.938674  3.917556e+06  2.201438e+07    228.670321  277495.198438   \n",
       "std    13877.708422  1.899754e+06  5.295458e+05    188.150549  145156.015037   \n",
       "min        1.000000  1.001000e+03  2.129840e+07      0.000000  110100.000000   \n",
       "25%     7398.000000  2.374900e+06  2.158268e+07    138.000000  110100.000000   \n",
       "50%    10040.000000  4.616827e+06  2.183897e+07    178.000000  310100.000000   \n",
       "75%    21068.000000  5.102687e+06  2.257113e+07    258.700000  410100.000000   \n",
       "max    82010.000000  7.180971e+06  2.299818e+07   4999.000000  659004.000000   \n",
       "\n",
       "          birthYear        gender     provinceId          Year           Age  \n",
       "count  15491.000000  15491.000000   15491.000000  15491.000000  15491.000000  \n",
       "mean    1987.218256      0.275450  277257.762572     28.781744     28.781744  \n",
       "std        7.501853      0.446755  145041.324392      7.501853      7.501853  \n",
       "min     1937.000000      0.000000  110000.000000      9.000000      9.000000  \n",
       "25%     1983.000000      0.000000  110000.000000     24.000000     24.000000  \n",
       "50%     1988.000000      0.000000  310000.000000     28.000000     28.000000  \n",
       "75%     1992.000000      1.000000  410000.000000     33.000000     33.000000  \n",
       "max     2007.000000      1.000000  650000.000000     79.000000     79.000000  "
      ]
     },
     "execution_count": 93,
     "metadata": {},
     "output_type": "execute_result"
    }
   ],
   "source": [
    "data1=data1.drop(data1[data1.Age<9].index)\n",
    "data1=data1.drop(data1[data1.Age>90].index)\n",
    "data1=data1.drop(data1[data1.gender==-1].index)\n",
    "data1=data1.drop(data1[data1.gender==2].index)\n",
    "data1.describe()"
   ]
  },
  {
   "cell_type": "markdown",
   "metadata": {},
   "source": [
    "### duplicate the NAN value in the gender and Age"
   ]
  },
  {
   "cell_type": "code",
   "execution_count": 94,
   "metadata": {
    "collapsed": false
   },
   "outputs": [
    {
     "name": "stdout",
     "output_type": "stream",
     "text": [
      "<class 'pandas.core.frame.DataFrame'>\n",
      "Int64Index: 15491 entries, 199 to 42105\n",
      "Data columns (total 15 columns):\n",
      "productId           15491 non-null int64\n",
      "uid                 15491 non-null int64\n",
      "orderId             15491 non-null int64\n",
      "totalFee            15491 non-null float64\n",
      "city                15491 non-null int64\n",
      "birthYear           15491 non-null float64\n",
      "brandName           15491 non-null object\n",
      "categoryName        15491 non-null object\n",
      "cityName            15491 non-null object\n",
      "gender              15491 non-null float64\n",
      "provinceId          15491 non-null float64\n",
      "provinceName        15491 non-null object\n",
      "rootCategoryName    15491 non-null object\n",
      "Year                15491 non-null float64\n",
      "Age                 15491 non-null float64\n",
      "dtypes: float64(6), int64(4), object(5)\n",
      "memory usage: 1.9+ MB\n"
     ]
    }
   ],
   "source": [
    "data1.dropna(subset=['Age'],inplace=True)\n",
    "data1.info()"
   ]
  },
  {
   "cell_type": "markdown",
   "metadata": {},
   "source": [
    "### Analysis based on the user"
   ]
  },
  {
   "cell_type": "code",
   "execution_count": 27,
   "metadata": {
    "collapsed": true
   },
   "outputs": [],
   "source": [
    "#first duplicated by uid\n",
    "#copy the data1 and then focus on the user and user's attribute"
   ]
  },
  {
   "cell_type": "code",
   "execution_count": 158,
   "metadata": {
    "collapsed": false
   },
   "outputs": [
    {
     "name": "stdout",
     "output_type": "stream",
     "text": [
      "<class 'pandas.core.frame.DataFrame'>\n",
      "Int64Index: 14102 entries, 199 to 42105\n",
      "Data columns (total 17 columns):\n",
      "productId           14102 non-null int64\n",
      "uid                 14102 non-null int64\n",
      "orderId             14102 non-null int64\n",
      "totalFee            14102 non-null float64\n",
      "city                14102 non-null int64\n",
      "birthYear           14102 non-null float64\n",
      "brandName           14102 non-null object\n",
      "categoryName        14102 non-null object\n",
      "cityName            14102 non-null object\n",
      "gender              14102 non-null float64\n",
      "provinceId          14102 non-null float64\n",
      "provinceName        14102 non-null object\n",
      "rootCategoryName    14102 non-null object\n",
      "Year                14102 non-null float64\n",
      "Age                 14102 non-null float64\n",
      "perorder            14102 non-null float64\n",
      "perorder_range      14102 non-null category\n",
      "dtypes: category(1), float64(7), int64(4), object(5)\n",
      "memory usage: 1.8+ MB\n"
     ]
    }
   ],
   "source": [
    "data_user=data1.copy()\n",
    "data_user=data_user.drop_duplicates('uid',keep='first')\n",
    "data_user.info()"
   ]
  },
  {
   "cell_type": "code",
   "execution_count": 96,
   "metadata": {
    "collapsed": false
   },
   "outputs": [
    {
     "data": {
      "text/plain": [
       "<matplotlib.text.Text at 0x11197b588>"
      ]
     },
     "execution_count": 96,
     "metadata": {},
     "output_type": "execute_result"
    },
    {
     "data": {
      "image/png": "[encoded data removed]",
      "text/plain": [
       "<matplotlib.figure.Figure at 0x1117d0588>"
      ]
     },
     "metadata": {},
     "output_type": "display_data"
    }
   ],
   "source": [
    "x=pd.Series(data_user['Age'], name='Age distribution').astype(int)\n",
    "plt.hist(x,bins=40)\n",
    "plt.xlabel('Age ditribution')\n",
    "plt.ylabel('The number of customer')\n",
    "plt.title('The Age distrbution')\n",
    "# the age distribution "
   ]
  },
  {
   "cell_type": "code",
   "execution_count": 97,
   "metadata": {
    "collapsed": false
   },
   "outputs": [
    {
     "data": {
      "text/plain": [
       "<seaborn.axisgrid.JointGrid at 0x10e1c6be0>"
      ]
     },
     "execution_count": 97,
     "metadata": {},
     "output_type": "execute_result"
    },
    {
     "data": {
      "image/png": "[encoded data removed]",
      "text/plain": [
       "<matplotlib.figure.Figure at 0x1112cfef0>"
      ]
     },
     "metadata": {},
     "output_type": "display_data"
    }
   ],
   "source": [
    "sns.jointplot(x='Age',y='gender',data=data_user)"
   ]
  },
  {
   "cell_type": "markdown",
   "metadata": {},
   "source": [
    "### Find the percentage for age and gender\n",
    "### 具体的年龄和性别占比"
   ]
  },
  {
   "cell_type": "code",
   "execution_count": 118,
   "metadata": {
    "collapsed": false
   },
   "outputs": [
    {
     "data": {
      "text/plain": [
       "0.0    0.719189\n",
       "1.0    0.280811\n",
       "Name: gender, dtype: float64"
      ]
     },
     "execution_count": 118,
     "metadata": {},
     "output_type": "execute_result"
    }
   ],
   "source": [
    "data_user['gender'].value_counts()/14102\n",
    "#性别占比"
   ]
  },
  {
   "cell_type": "code",
   "execution_count": 121,
   "metadata": {
    "collapsed": false
   },
   "outputs": [
    {
     "data": {
      "text/plain": [
       "26.0    0.071196\n",
       "27.0    0.064246\n",
       "24.0    0.063679\n",
       "25.0    0.061339\n",
       "28.0    0.061197\n",
       "21.0    0.059282\n",
       "29.0    0.056871\n",
       "23.0    0.056871\n",
       "30.0    0.047724\n",
       "22.0    0.046305\n",
       "31.0    0.041058\n",
       "34.0    0.035172\n",
       "33.0    0.034463\n",
       "32.0    0.034109\n",
       "20.0    0.032052\n",
       "35.0    0.027797\n",
       "19.0    0.022479\n",
       "36.0    0.022337\n",
       "37.0    0.017303\n",
       "38.0    0.016664\n",
       "18.0    0.012906\n",
       "40.0    0.012055\n",
       "39.0    0.011700\n",
       "41.0    0.008580\n",
       "42.0    0.008226\n",
       "43.0    0.007729\n",
       "45.0    0.007588\n",
       "44.0    0.007375\n",
       "17.0    0.006453\n",
       "16.0    0.005815\n",
       "          ...   \n",
       "51.0    0.001773\n",
       "14.0    0.001773\n",
       "15.0    0.001560\n",
       "53.0    0.001560\n",
       "52.0    0.001489\n",
       "13.0    0.001135\n",
       "12.0    0.001064\n",
       "56.0    0.001064\n",
       "11.0    0.000851\n",
       "10.0    0.000780\n",
       "55.0    0.000780\n",
       "57.0    0.000709\n",
       "60.0    0.000709\n",
       "61.0    0.000496\n",
       "59.0    0.000496\n",
       "58.0    0.000355\n",
       "69.0    0.000213\n",
       "62.0    0.000213\n",
       "68.0    0.000213\n",
       "65.0    0.000213\n",
       "73.0    0.000142\n",
       "64.0    0.000142\n",
       "79.0    0.000142\n",
       "66.0    0.000071\n",
       "74.0    0.000071\n",
       "70.0    0.000071\n",
       "77.0    0.000071\n",
       "78.0    0.000071\n",
       "63.0    0.000071\n",
       "71.0    0.000071\n",
       "Name: Age, dtype: float64"
      ]
     },
     "execution_count": 121,
     "metadata": {},
     "output_type": "execute_result"
    }
   ],
   "source": [
    "data_user['Age'].value_counts()/14102\n",
    "#年龄占比"
   ]
  },
  {
   "cell_type": "code",
   "execution_count": 161,
   "metadata": {
    "collapsed": true
   },
   "outputs": [],
   "source": [
    "data_user.to_csv('/Users/pein/Desktop/性别和年龄段分布.csv')"
   ]
  },
  {
   "cell_type": "markdown",
   "metadata": {},
   "source": [
    "### 客单价范围的成交订单量和成交用户数"
   ]
  },
  {
   "cell_type": "code",
   "execution_count": 125,
   "metadata": {
    "collapsed": false
   },
   "outputs": [],
   "source": [
    "# 1.客单价范围内的成交订单量\n",
    "# 将客单价切割成10各区间\n",
    "data1['perorder_range']=pd.qcut(data1['totalFee'],q=10)"
   ]
  },
  {
   "cell_type": "code",
   "execution_count": 128,
   "metadata": {
    "collapsed": false
   },
   "outputs": [
    {
     "name": "stdout",
     "output_type": "stream",
     "text": [
      "<class 'pandas.core.frame.DataFrame'>\n",
      "Int64Index: 15491 entries, 199 to 42105\n",
      "Data columns (total 17 columns):\n",
      "productId           15491 non-null int64\n",
      "uid                 15491 non-null int64\n",
      "orderId             15491 non-null int64\n",
      "totalFee            15491 non-null float64\n",
      "city                15491 non-null int64\n",
      "birthYear           15491 non-null float64\n",
      "brandName           15491 non-null object\n",
      "categoryName        15491 non-null object\n",
      "cityName            15491 non-null object\n",
      "gender              15491 non-null float64\n",
      "provinceId          15491 non-null float64\n",
      "provinceName        15491 non-null object\n",
      "rootCategoryName    15491 non-null object\n",
      "Year                15491 non-null float64\n",
      "Age                 15491 non-null float64\n",
      "perorder            15491 non-null float64\n",
      "perorder_range      15491 non-null category\n",
      "dtypes: category(1), float64(7), int64(4), object(5)\n",
      "memory usage: 2.0+ MB\n"
     ]
    }
   ],
   "source": [
    "data1.info()"
   ]
  },
  {
   "cell_type": "code",
   "execution_count": 139,
   "metadata": {
    "collapsed": false
   },
   "outputs": [],
   "source": [
    "grouped_orderId=data1.loc[:,['orderId','perorder_range']]\n",
    "# 选取客单价区间，订单编号和用户ID这3个字段"
   ]
  },
  {
   "cell_type": "code",
   "execution_count": 141,
   "metadata": {
    "collapsed": false
   },
   "outputs": [
    {
     "data": {
      "text/html": [
       "<div>\n",
       "<table border=\"1\" class=\"dataframe\">\n",
       "  <thead>\n",
       "    <tr style=\"text-align: right;\">\n",
       "      <th></th>\n",
       "      <th>orderId</th>\n",
       "      <th>perorder_range</th>\n",
       "    </tr>\n",
       "  </thead>\n",
       "  <tbody>\n",
       "    <tr>\n",
       "      <th>199</th>\n",
       "      <td>22998176</td>\n",
       "      <td>(228, 287]</td>\n",
       "    </tr>\n",
       "    <tr>\n",
       "      <th>207</th>\n",
       "      <td>22998146</td>\n",
       "      <td>(146.6, 160]</td>\n",
       "    </tr>\n",
       "    <tr>\n",
       "      <th>454</th>\n",
       "      <td>22997470</td>\n",
       "      <td>(228, 287]</td>\n",
       "    </tr>\n",
       "    <tr>\n",
       "      <th>497</th>\n",
       "      <td>22997356</td>\n",
       "      <td>(128, 146.6]</td>\n",
       "    </tr>\n",
       "    <tr>\n",
       "      <th>687</th>\n",
       "      <td>22996856</td>\n",
       "      <td>(287, 379]</td>\n",
       "    </tr>\n",
       "  </tbody>\n",
       "</table>\n",
       "</div>"
      ],
      "text/plain": [
       "      orderId perorder_range\n",
       "199  22998176     (228, 287]\n",
       "207  22998146   (146.6, 160]\n",
       "454  22997470     (228, 287]\n",
       "497  22997356   (128, 146.6]\n",
       "687  22996856     (287, 379]"
      ]
     },
     "execution_count": 141,
     "metadata": {},
     "output_type": "execute_result"
    }
   ],
   "source": [
    "grouped_orderId.head()"
   ]
  },
  {
   "cell_type": "code",
   "execution_count": 142,
   "metadata": {
    "collapsed": false
   },
   "outputs": [
    {
     "data": {
      "text/html": [
       "<div>\n",
       "<table border=\"1\" class=\"dataframe\">\n",
       "  <thead>\n",
       "    <tr style=\"text-align: right;\">\n",
       "      <th></th>\n",
       "      <th>orderId</th>\n",
       "    </tr>\n",
       "    <tr>\n",
       "      <th>perorder_range</th>\n",
       "      <th></th>\n",
       "    </tr>\n",
       "  </thead>\n",
       "  <tbody>\n",
       "    <tr>\n",
       "      <th>[0, 116]</th>\n",
       "      <td>1692</td>\n",
       "    </tr>\n",
       "    <tr>\n",
       "      <th>(116, 128]</th>\n",
       "      <td>1501</td>\n",
       "    </tr>\n",
       "    <tr>\n",
       "      <th>(128, 146.6]</th>\n",
       "      <td>1461</td>\n",
       "    </tr>\n",
       "    <tr>\n",
       "      <th>(146.6, 160]</th>\n",
       "      <td>1553</td>\n",
       "    </tr>\n",
       "    <tr>\n",
       "      <th>(160, 178]</th>\n",
       "      <td>1574</td>\n",
       "    </tr>\n",
       "    <tr>\n",
       "      <th>(178, 198]</th>\n",
       "      <td>1983</td>\n",
       "    </tr>\n",
       "    <tr>\n",
       "      <th>(198, 228]</th>\n",
       "      <td>1173</td>\n",
       "    </tr>\n",
       "    <tr>\n",
       "      <th>(228, 287]</th>\n",
       "      <td>1465</td>\n",
       "    </tr>\n",
       "    <tr>\n",
       "      <th>(287, 379]</th>\n",
       "      <td>1573</td>\n",
       "    </tr>\n",
       "    <tr>\n",
       "      <th>(379, 4999]</th>\n",
       "      <td>1516</td>\n",
       "    </tr>\n",
       "  </tbody>\n",
       "</table>\n",
       "</div>"
      ],
      "text/plain": [
       "                orderId\n",
       "perorder_range         \n",
       "[0, 116]           1692\n",
       "(116, 128]         1501\n",
       "(128, 146.6]       1461\n",
       "(146.6, 160]       1553\n",
       "(160, 178]         1574\n",
       "(178, 198]         1983\n",
       "(198, 228]         1173\n",
       "(228, 287]         1465\n",
       "(287, 379]         1573\n",
       "(379, 4999]        1516"
      ]
     },
     "execution_count": 142,
     "metadata": {},
     "output_type": "execute_result"
    }
   ],
   "source": [
    "grouped_orderId.groupby('perorder_range').count()\n",
    "# 忽略uid这个字段，下图表示各个价格区间段内的订单量"
   ]
  },
  {
   "cell_type": "code",
   "execution_count": 156,
   "metadata": {
    "collapsed": false
   },
   "outputs": [],
   "source": [
    "# 2.客单价范围内的成交用户数\n",
    "# 用户存在重复，需要进行去重 \n",
    "grouped_uid=data1.loc[:,['uid','perorder_range']]\n",
    "grouped_uid=grouped_uid.drop_duplicates()"
   ]
  },
  {
   "cell_type": "code",
   "execution_count": 157,
   "metadata": {
    "collapsed": false
   },
   "outputs": [
    {
     "name": "stdout",
     "output_type": "stream",
     "text": [
      "<class 'pandas.core.frame.DataFrame'>\n",
      "Int64Index: 15045 entries, 199 to 42105\n",
      "Data columns (total 2 columns):\n",
      "uid               15045 non-null int64\n",
      "perorder_range    15045 non-null category\n",
      "dtypes: category(1), int64(1)\n",
      "memory usage: 249.8 KB\n"
     ]
    }
   ],
   "source": [
    "grouped_uid.info()\n",
    "#  存在部分用户会在多个价格区间段内进行消费"
   ]
  },
  {
   "cell_type": "code",
   "execution_count": 159,
   "metadata": {
    "collapsed": false
   },
   "outputs": [
    {
     "data": {
      "text/html": [
       "<div>\n",
       "<table border=\"1\" class=\"dataframe\">\n",
       "  <thead>\n",
       "    <tr style=\"text-align: right;\">\n",
       "      <th></th>\n",
       "      <th>uid</th>\n",
       "    </tr>\n",
       "    <tr>\n",
       "      <th>perorder_range</th>\n",
       "      <th></th>\n",
       "    </tr>\n",
       "  </thead>\n",
       "  <tbody>\n",
       "    <tr>\n",
       "      <th>[0, 116]</th>\n",
       "      <td>1624</td>\n",
       "    </tr>\n",
       "    <tr>\n",
       "      <th>(116, 128]</th>\n",
       "      <td>1474</td>\n",
       "    </tr>\n",
       "    <tr>\n",
       "      <th>(128, 146.6]</th>\n",
       "      <td>1432</td>\n",
       "    </tr>\n",
       "    <tr>\n",
       "      <th>(146.6, 160]</th>\n",
       "      <td>1519</td>\n",
       "    </tr>\n",
       "    <tr>\n",
       "      <th>(160, 178]</th>\n",
       "      <td>1544</td>\n",
       "    </tr>\n",
       "    <tr>\n",
       "      <th>(178, 198]</th>\n",
       "      <td>1936</td>\n",
       "    </tr>\n",
       "    <tr>\n",
       "      <th>(198, 228]</th>\n",
       "      <td>1146</td>\n",
       "    </tr>\n",
       "    <tr>\n",
       "      <th>(228, 287]</th>\n",
       "      <td>1425</td>\n",
       "    </tr>\n",
       "    <tr>\n",
       "      <th>(287, 379]</th>\n",
       "      <td>1516</td>\n",
       "    </tr>\n",
       "    <tr>\n",
       "      <th>(379, 4999]</th>\n",
       "      <td>1429</td>\n",
       "    </tr>\n",
       "  </tbody>\n",
       "</table>\n",
       "</div>"
      ],
      "text/plain": [
       "                 uid\n",
       "perorder_range      \n",
       "[0, 116]        1624\n",
       "(116, 128]      1474\n",
       "(128, 146.6]    1432\n",
       "(146.6, 160]    1519\n",
       "(160, 178]      1544\n",
       "(178, 198]      1936\n",
       "(198, 228]      1146\n",
       "(228, 287]      1425\n",
       "(287, 379]      1516\n",
       "(379, 4999]     1429"
      ]
     },
     "execution_count": 159,
     "metadata": {},
     "output_type": "execute_result"
    }
   ],
   "source": [
    "grouped_uid.groupby('perorder_range').count()\n",
    "# 各个价格区间段的消费用户数"
   ]
  }
 ],
 "metadata": {
  "kernelspec": {
   "display_name": "Python 3",
   "language": "python",
   "name": "python3"
  },
  "language_info": {
   "codemirror_mode": {
    "name": "ipython",
    "version": 3
   },
   "file_extension": ".py",
   "mimetype": "text/x-python",
   "name": "python",
   "nbconvert_exporter": "python",
   "pygments_lexer": "ipython3",
   "version": "3.6.0"
  }
 },
 "nbformat": 4,
 "nbformat_minor": 2
}
