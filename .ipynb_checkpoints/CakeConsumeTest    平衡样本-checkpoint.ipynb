{
 "cells": [
  {
   "cell_type": "code",
   "execution_count": 1,
   "metadata": {
    "collapsed": true
   },
   "outputs": [],
   "source": [
    "import numpy as np\n",
    "import pandas as pd\n",
    "import matplotlib.pyplot as plt\n",
    "import matplotlib\n",
    "% matplotlib inline"
   ]
  },
  {
   "cell_type": "code",
   "execution_count": 2,
   "metadata": {
    "collapsed": true
   },
   "outputs": [],
   "source": [
    "data = pd.read_excel('/Users/pein/Desktop/12月份和1月份部分平衡样本.xlsx')"
   ]
  },
  {
   "cell_type": "code",
   "execution_count": 3,
   "metadata": {
    "collapsed": false
   },
   "outputs": [
    {
     "name": "stdout",
     "output_type": "stream",
     "text": [
      "<class 'pandas.core.frame.DataFrame'>\n",
      "RangeIndex: 20723 entries, 0 to 20722\n",
      "Data columns (total 17 columns):\n",
      "uid                   20723 non-null int64\n",
      "provinceId            20723 non-null int64\n",
      "gender                20723 non-null int64\n",
      "birthYear             20723 non-null int64\n",
      "createOn              20723 non-null int64\n",
      "orderNum              20723 non-null int64\n",
      "Finaltime             20723 non-null int64\n",
      "totalFee              20723 non-null float64\n",
      "SingtotalFee          20723 non-null float64\n",
      "jude_value            20723 non-null float64\n",
      "register_channelId    20723 non-null int64\n",
      "cunpon_use            20723 non-null int64\n",
      "jifen_use             20723 non-null int64\n",
      "cancel_order          20723 non-null int64\n",
      "GoodsView             20723 non-null int64\n",
      "ActiveDays            20723 non-null int64\n",
      "Loss_or_not           20723 non-null int64\n",
      "dtypes: float64(3), int64(14)\n",
      "memory usage: 2.7 MB\n"
     ]
    }
   ],
   "source": [
    "data.info()"
   ]
  },
  {
   "cell_type": "code",
   "execution_count": 4,
   "metadata": {
    "collapsed": true
   },
   "outputs": [],
   "source": [
    "data1 = data.sample(frac=1) # 数据的随机化"
   ]
  },
  {
   "cell_type": "code",
   "execution_count": 6,
   "metadata": {
    "collapsed": false
   },
   "outputs": [],
   "source": [
    "# 基本的数据处理，转化格式。去除uid列\n",
    "data1['provinceId'] = data1.provinceId.astype('category')\n",
    "data1['jude_value'] = data1.jude_value.astype(float)\n",
    "data1 = data1.drop(['uid'],1)"
   ]
  },
  {
   "cell_type": "code",
   "execution_count": 7,
   "metadata": {
    "collapsed": false
   },
   "outputs": [
    {
     "name": "stderr",
     "output_type": "stream",
     "text": [
      "/anaconda/lib/python3.6/site-packages/ipykernel/__main__.py:6: SettingWithCopyWarning: \n",
      "A value is trying to be set on a copy of a slice from a DataFrame\n",
      "\n",
      "See the caveats in the documentation: http://pandas.pydata.org/pandas-docs/stable/indexing.html#indexing-view-versus-copy\n",
      "/anaconda/lib/python3.6/site-packages/ipykernel/__main__.py:7: SettingWithCopyWarning: \n",
      "A value is trying to be set on a copy of a slice from a DataFrame\n",
      "\n",
      "See the caveats in the documentation: http://pandas.pydata.org/pandas-docs/stable/indexing.html#indexing-view-versus-copy\n",
      "/anaconda/lib/python3.6/site-packages/ipykernel/__main__.py:8: SettingWithCopyWarning: \n",
      "A value is trying to be set on a copy of a slice from a DataFrame\n",
      "\n",
      "See the caveats in the documentation: http://pandas.pydata.org/pandas-docs/stable/indexing.html#indexing-view-versus-copy\n",
      "/anaconda/lib/python3.6/site-packages/ipykernel/__main__.py:9: SettingWithCopyWarning: \n",
      "A value is trying to be set on a copy of a slice from a DataFrame\n",
      "\n",
      "See the caveats in the documentation: http://pandas.pydata.org/pandas-docs/stable/indexing.html#indexing-view-versus-copy\n",
      "/anaconda/lib/python3.6/site-packages/ipykernel/__main__.py:13: SettingWithCopyWarning: \n",
      "A value is trying to be set on a copy of a slice from a DataFrame\n",
      "\n",
      "See the caveats in the documentation: http://pandas.pydata.org/pandas-docs/stable/indexing.html#indexing-view-versus-copy\n"
     ]
    }
   ],
   "source": [
    "#处理出生年龄\n",
    "data1['Age'] = 2017-data1.birthYear\n",
    "mask_age_lower = data1['Age']<10\n",
    "mask_age_high = data1['Age']>90\n",
    "data1['Age_right'] =1\n",
    "data1['Age_right'][mask_age_lower] = 0\n",
    "data1['Age_right'][mask_age_high] = 0\n",
    "data1['Age'][mask_age_lower] = 0\n",
    "data1['Age'][mask_age_high] = 0\n",
    "# 处理性别数据\n",
    "mask_gender_error = data1['gender']==-1\n",
    "data1['gender_right'] = 1\n",
    "data1['gender_right'][mask_gender_error] =0"
   ]
  },
  {
   "cell_type": "code",
   "execution_count": 8,
   "metadata": {
    "collapsed": false
   },
   "outputs": [
    {
     "data": {
      "text/html": [
       "<div>\n",
       "<table border=\"1\" class=\"dataframe\">\n",
       "  <thead>\n",
       "    <tr style=\"text-align: right;\">\n",
       "      <th></th>\n",
       "      <th>provinceId</th>\n",
       "      <th>gender</th>\n",
       "      <th>birthYear</th>\n",
       "      <th>createOn</th>\n",
       "      <th>orderNum</th>\n",
       "      <th>Finaltime</th>\n",
       "      <th>totalFee</th>\n",
       "      <th>SingtotalFee</th>\n",
       "      <th>jude_value</th>\n",
       "      <th>register_channelId</th>\n",
       "      <th>cunpon_use</th>\n",
       "      <th>jifen_use</th>\n",
       "      <th>cancel_order</th>\n",
       "      <th>GoodsView</th>\n",
       "      <th>ActiveDays</th>\n",
       "      <th>Loss_or_not</th>\n",
       "      <th>Age</th>\n",
       "      <th>Age_right</th>\n",
       "      <th>gender_right</th>\n",
       "    </tr>\n",
       "  </thead>\n",
       "  <tbody>\n",
       "    <tr>\n",
       "      <th>4005</th>\n",
       "      <td>310000</td>\n",
       "      <td>0</td>\n",
       "      <td>1993</td>\n",
       "      <td>18</td>\n",
       "      <td>1</td>\n",
       "      <td>18</td>\n",
       "      <td>158.0</td>\n",
       "      <td>158.0</td>\n",
       "      <td>2.5</td>\n",
       "      <td>1</td>\n",
       "      <td>0</td>\n",
       "      <td>0</td>\n",
       "      <td>1</td>\n",
       "      <td>3</td>\n",
       "      <td>3</td>\n",
       "      <td>0</td>\n",
       "      <td>24</td>\n",
       "      <td>1</td>\n",
       "      <td>1</td>\n",
       "    </tr>\n",
       "    <tr>\n",
       "      <th>16738</th>\n",
       "      <td>130000</td>\n",
       "      <td>0</td>\n",
       "      <td>1991</td>\n",
       "      <td>46</td>\n",
       "      <td>1</td>\n",
       "      <td>30</td>\n",
       "      <td>178.0</td>\n",
       "      <td>178.0</td>\n",
       "      <td>2.5</td>\n",
       "      <td>0</td>\n",
       "      <td>0</td>\n",
       "      <td>0</td>\n",
       "      <td>0</td>\n",
       "      <td>1</td>\n",
       "      <td>1</td>\n",
       "      <td>1</td>\n",
       "      <td>26</td>\n",
       "      <td>1</td>\n",
       "      <td>1</td>\n",
       "    </tr>\n",
       "    <tr>\n",
       "      <th>5793</th>\n",
       "      <td>420000</td>\n",
       "      <td>1</td>\n",
       "      <td>1989</td>\n",
       "      <td>642</td>\n",
       "      <td>1</td>\n",
       "      <td>21</td>\n",
       "      <td>268.0</td>\n",
       "      <td>268.0</td>\n",
       "      <td>5.0</td>\n",
       "      <td>1</td>\n",
       "      <td>1</td>\n",
       "      <td>0</td>\n",
       "      <td>0</td>\n",
       "      <td>1</td>\n",
       "      <td>1</td>\n",
       "      <td>0</td>\n",
       "      <td>28</td>\n",
       "      <td>1</td>\n",
       "      <td>1</td>\n",
       "    </tr>\n",
       "    <tr>\n",
       "      <th>16275</th>\n",
       "      <td>310000</td>\n",
       "      <td>0</td>\n",
       "      <td>1991</td>\n",
       "      <td>65</td>\n",
       "      <td>1</td>\n",
       "      <td>2</td>\n",
       "      <td>143.0</td>\n",
       "      <td>143.0</td>\n",
       "      <td>2.5</td>\n",
       "      <td>0</td>\n",
       "      <td>1</td>\n",
       "      <td>0</td>\n",
       "      <td>0</td>\n",
       "      <td>16</td>\n",
       "      <td>3</td>\n",
       "      <td>1</td>\n",
       "      <td>26</td>\n",
       "      <td>1</td>\n",
       "      <td>1</td>\n",
       "    </tr>\n",
       "    <tr>\n",
       "      <th>4423</th>\n",
       "      <td>110000</td>\n",
       "      <td>0</td>\n",
       "      <td>1990</td>\n",
       "      <td>11</td>\n",
       "      <td>1</td>\n",
       "      <td>0</td>\n",
       "      <td>219.0</td>\n",
       "      <td>219.0</td>\n",
       "      <td>2.5</td>\n",
       "      <td>1</td>\n",
       "      <td>0</td>\n",
       "      <td>0</td>\n",
       "      <td>0</td>\n",
       "      <td>75</td>\n",
       "      <td>8</td>\n",
       "      <td>0</td>\n",
       "      <td>27</td>\n",
       "      <td>1</td>\n",
       "      <td>1</td>\n",
       "    </tr>\n",
       "  </tbody>\n",
       "</table>\n",
       "</div>"
      ],
      "text/plain": [
       "      provinceId  gender  birthYear  createOn  orderNum  Finaltime  totalFee  \\\n",
       "4005      310000       0       1993        18         1         18     158.0   \n",
       "16738     130000       0       1991        46         1         30     178.0   \n",
       "5793      420000       1       1989       642         1         21     268.0   \n",
       "16275     310000       0       1991        65         1          2     143.0   \n",
       "4423      110000       0       1990        11         1          0     219.0   \n",
       "\n",
       "       SingtotalFee  jude_value  register_channelId  cunpon_use  jifen_use  \\\n",
       "4005          158.0         2.5                   1           0          0   \n",
       "16738         178.0         2.5                   0           0          0   \n",
       "5793          268.0         5.0                   1           1          0   \n",
       "16275         143.0         2.5                   0           1          0   \n",
       "4423          219.0         2.5                   1           0          0   \n",
       "\n",
       "       cancel_order  GoodsView  ActiveDays  Loss_or_not  Age  Age_right  \\\n",
       "4005              1          3           3            0   24          1   \n",
       "16738             0          1           1            1   26          1   \n",
       "5793              0          1           1            0   28          1   \n",
       "16275             0         16           3            1   26          1   \n",
       "4423              0         75           8            0   27          1   \n",
       "\n",
       "       gender_right  \n",
       "4005              1  \n",
       "16738             1  \n",
       "5793              1  \n",
       "16275             1  \n",
       "4423              1  "
      ]
     },
     "execution_count": 8,
     "metadata": {},
     "output_type": "execute_result"
    }
   ],
   "source": [
    "data1.head()"
   ]
  },
  {
   "cell_type": "code",
   "execution_count": 9,
   "metadata": {
    "collapsed": true
   },
   "outputs": [],
   "source": [
    "data1 = data1.drop(['birthYear'], 1)"
   ]
  },
  {
   "cell_type": "code",
   "execution_count": 15,
   "metadata": {
    "collapsed": false
   },
   "outputs": [
    {
     "name": "stdout",
     "output_type": "stream",
     "text": [
      "<class 'pandas.core.frame.DataFrame'>\n",
      "Int64Index: 20723 entries, 4005 to 17014\n",
      "Data columns (total 19 columns):\n",
      "provinceId            20723 non-null category\n",
      "gender                20723 non-null int64\n",
      "createOn              20723 non-null int64\n",
      "orderNum              20723 non-null int64\n",
      "Finaltime             20723 non-null int64\n",
      "totalFee              20723 non-null float64\n",
      "SingtotalFee          20723 non-null float64\n",
      "jude_value            20723 non-null float64\n",
      "register_channelId    20723 non-null int64\n",
      "cunpon_use            20723 non-null int64\n",
      "jifen_use             20723 non-null int64\n",
      "cancel_order          20723 non-null int64\n",
      "GoodsView             20723 non-null int64\n",
      "ActiveDays            20723 non-null int64\n",
      "Loss_or_not           20723 non-null int64\n",
      "Age                   20723 non-null int64\n",
      "Age_right             20723 non-null int64\n",
      "gender_right          20723 non-null int64\n",
      "Loss_or_not1          20723 non-null int64\n",
      "dtypes: category(1), float64(3), int64(15)\n",
      "memory usage: 3.0 MB\n"
     ]
    }
   ],
   "source": [
    "# 将数据切分成两分\n",
    "data1['Loss_or_not1'] = data1.Loss_or_not\n",
    "data1.drop(['Loss_or_not'],1)\n",
    "data1.info()"
   ]
  },
  {
   "cell_type": "code",
   "execution_count": 16,
   "metadata": {
    "collapsed": false
   },
   "outputs": [
    {
     "data": {
      "text/html": [
       "<div>\n",
       "<table border=\"1\" class=\"dataframe\">\n",
       "  <thead>\n",
       "    <tr style=\"text-align: right;\">\n",
       "      <th></th>\n",
       "      <th>provinceId</th>\n",
       "      <th>gender</th>\n",
       "      <th>createOn</th>\n",
       "      <th>orderNum</th>\n",
       "      <th>Finaltime</th>\n",
       "      <th>totalFee</th>\n",
       "      <th>SingtotalFee</th>\n",
       "      <th>jude_value</th>\n",
       "      <th>register_channelId</th>\n",
       "      <th>cunpon_use</th>\n",
       "      <th>jifen_use</th>\n",
       "      <th>cancel_order</th>\n",
       "      <th>GoodsView</th>\n",
       "      <th>ActiveDays</th>\n",
       "      <th>Loss_or_not</th>\n",
       "      <th>Age</th>\n",
       "      <th>Age_right</th>\n",
       "      <th>gender_right</th>\n",
       "    </tr>\n",
       "  </thead>\n",
       "  <tbody>\n",
       "    <tr>\n",
       "      <th>4005</th>\n",
       "      <td>310000</td>\n",
       "      <td>0</td>\n",
       "      <td>18</td>\n",
       "      <td>1</td>\n",
       "      <td>18</td>\n",
       "      <td>158.0</td>\n",
       "      <td>158.0</td>\n",
       "      <td>2.5</td>\n",
       "      <td>1</td>\n",
       "      <td>0</td>\n",
       "      <td>0</td>\n",
       "      <td>1</td>\n",
       "      <td>3</td>\n",
       "      <td>3</td>\n",
       "      <td>0</td>\n",
       "      <td>24</td>\n",
       "      <td>1</td>\n",
       "      <td>1</td>\n",
       "    </tr>\n",
       "    <tr>\n",
       "      <th>16738</th>\n",
       "      <td>130000</td>\n",
       "      <td>0</td>\n",
       "      <td>46</td>\n",
       "      <td>1</td>\n",
       "      <td>30</td>\n",
       "      <td>178.0</td>\n",
       "      <td>178.0</td>\n",
       "      <td>2.5</td>\n",
       "      <td>0</td>\n",
       "      <td>0</td>\n",
       "      <td>0</td>\n",
       "      <td>0</td>\n",
       "      <td>1</td>\n",
       "      <td>1</td>\n",
       "      <td>1</td>\n",
       "      <td>26</td>\n",
       "      <td>1</td>\n",
       "      <td>1</td>\n",
       "    </tr>\n",
       "    <tr>\n",
       "      <th>5793</th>\n",
       "      <td>420000</td>\n",
       "      <td>1</td>\n",
       "      <td>642</td>\n",
       "      <td>1</td>\n",
       "      <td>21</td>\n",
       "      <td>268.0</td>\n",
       "      <td>268.0</td>\n",
       "      <td>5.0</td>\n",
       "      <td>1</td>\n",
       "      <td>1</td>\n",
       "      <td>0</td>\n",
       "      <td>0</td>\n",
       "      <td>1</td>\n",
       "      <td>1</td>\n",
       "      <td>0</td>\n",
       "      <td>28</td>\n",
       "      <td>1</td>\n",
       "      <td>1</td>\n",
       "    </tr>\n",
       "    <tr>\n",
       "      <th>16275</th>\n",
       "      <td>310000</td>\n",
       "      <td>0</td>\n",
       "      <td>65</td>\n",
       "      <td>1</td>\n",
       "      <td>2</td>\n",
       "      <td>143.0</td>\n",
       "      <td>143.0</td>\n",
       "      <td>2.5</td>\n",
       "      <td>0</td>\n",
       "      <td>1</td>\n",
       "      <td>0</td>\n",
       "      <td>0</td>\n",
       "      <td>16</td>\n",
       "      <td>3</td>\n",
       "      <td>1</td>\n",
       "      <td>26</td>\n",
       "      <td>1</td>\n",
       "      <td>1</td>\n",
       "    </tr>\n",
       "    <tr>\n",
       "      <th>4423</th>\n",
       "      <td>110000</td>\n",
       "      <td>0</td>\n",
       "      <td>11</td>\n",
       "      <td>1</td>\n",
       "      <td>0</td>\n",
       "      <td>219.0</td>\n",
       "      <td>219.0</td>\n",
       "      <td>2.5</td>\n",
       "      <td>1</td>\n",
       "      <td>0</td>\n",
       "      <td>0</td>\n",
       "      <td>0</td>\n",
       "      <td>75</td>\n",
       "      <td>8</td>\n",
       "      <td>0</td>\n",
       "      <td>27</td>\n",
       "      <td>1</td>\n",
       "      <td>1</td>\n",
       "    </tr>\n",
       "  </tbody>\n",
       "</table>\n",
       "</div>"
      ],
      "text/plain": [
       "      provinceId  gender  createOn  orderNum  Finaltime  totalFee  \\\n",
       "4005      310000       0        18         1         18     158.0   \n",
       "16738     130000       0        46         1         30     178.0   \n",
       "5793      420000       1       642         1         21     268.0   \n",
       "16275     310000       0        65         1          2     143.0   \n",
       "4423      110000       0        11         1          0     219.0   \n",
       "\n",
       "       SingtotalFee  jude_value  register_channelId  cunpon_use  jifen_use  \\\n",
       "4005          158.0         2.5                   1           0          0   \n",
       "16738         178.0         2.5                   0           0          0   \n",
       "5793          268.0         5.0                   1           1          0   \n",
       "16275         143.0         2.5                   0           1          0   \n",
       "4423          219.0         2.5                   1           0          0   \n",
       "\n",
       "       cancel_order  GoodsView  ActiveDays  Loss_or_not  Age  Age_right  \\\n",
       "4005              1          3           3            0   24          1   \n",
       "16738             0          1           1            1   26          1   \n",
       "5793              0          1           1            0   28          1   \n",
       "16275             0         16           3            1   26          1   \n",
       "4423              0         75           8            0   27          1   \n",
       "\n",
       "       gender_right  \n",
       "4005              1  \n",
       "16738             1  \n",
       "5793              1  \n",
       "16275             1  \n",
       "4423              1  "
      ]
     },
     "execution_count": 16,
     "metadata": {},
     "output_type": "execute_result"
    }
   ],
   "source": [
    "df = data1.iloc[:,:-1]\n",
    "target = data1.iloc[:,-1:]\n",
    "df.head()\n"
   ]
  },
  {
   "cell_type": "code",
   "execution_count": 17,
   "metadata": {
    "collapsed": false
   },
   "outputs": [
    {
     "data": {
      "text/html": [
       "<div>\n",
       "<table border=\"1\" class=\"dataframe\">\n",
       "  <thead>\n",
       "    <tr style=\"text-align: right;\">\n",
       "      <th></th>\n",
       "      <th>Loss_or_not1</th>\n",
       "    </tr>\n",
       "  </thead>\n",
       "  <tbody>\n",
       "    <tr>\n",
       "      <th>4005</th>\n",
       "      <td>0</td>\n",
       "    </tr>\n",
       "    <tr>\n",
       "      <th>16738</th>\n",
       "      <td>1</td>\n",
       "    </tr>\n",
       "    <tr>\n",
       "      <th>5793</th>\n",
       "      <td>0</td>\n",
       "    </tr>\n",
       "    <tr>\n",
       "      <th>16275</th>\n",
       "      <td>1</td>\n",
       "    </tr>\n",
       "    <tr>\n",
       "      <th>4423</th>\n",
       "      <td>0</td>\n",
       "    </tr>\n",
       "  </tbody>\n",
       "</table>\n",
       "</div>"
      ],
      "text/plain": [
       "       Loss_or_not1\n",
       "4005              0\n",
       "16738             1\n",
       "5793              0\n",
       "16275             1\n",
       "4423              0"
      ]
     },
     "execution_count": 17,
     "metadata": {},
     "output_type": "execute_result"
    }
   ],
   "source": [
    "target.head()"
   ]
  },
  {
   "cell_type": "code",
   "execution_count": 18,
   "metadata": {
    "collapsed": true
   },
   "outputs": [],
   "source": [
    "# 将数据划分成训练集和测试集\n",
    "df_train = df.iloc[:14000,:]\n",
    "df_test = df.iloc[14000:,:]\n",
    "target_train = target.iloc[:14000]\n",
    "target_test = target.iloc[14000:]\n"
   ]
  },
  {
   "cell_type": "code",
   "execution_count": 20,
   "metadata": {
    "collapsed": false
   },
   "outputs": [
    {
     "name": "stdout",
     "output_type": "stream",
     "text": [
      "0.594714285714\n",
      "0.589320243939\n",
      "0.73616398243\n",
      "0.57475994513\n"
     ]
    },
    {
     "name": "stderr",
     "output_type": "stream",
     "text": [
      "/anaconda/lib/python3.6/site-packages/sklearn/utils/validation.py:526: DataConversionWarning: A column-vector y was passed when a 1d array was expected. Please change the shape of y to (n_samples, ), for example using ravel().\n",
      "  y = column_or_1d(y, warn=True)\n"
     ]
    }
   ],
   "source": [
    "# LR模型\n",
    "from sklearn.linear_model import LogisticRegression\n",
    "from sklearn.metrics import accuracy_score\n",
    "from sklearn.metrics import recall_score\n",
    "from sklearn.metrics import precision_score\n",
    "# LR 模型的训练\n",
    "LR = LogisticRegression()\n",
    "LR.fit(df_train, target_train)\n",
    "score = LR.score(df_train, target_train)\n",
    "print(score)\n",
    "predict_LR = LR.predict(df_test)\n",
    "accuracy_LR = accuracy_score(target_test, predict_LR)\n",
    "print(accuracy_LR)\n",
    "print(recall_score(target_test, predict_LR, average='binary'))\n",
    "print(precision_score(target_test, predict_LR, average='binary'))"
   ]
  },
  {
   "cell_type": "code",
   "execution_count": null,
   "metadata": {
    "collapsed": false
   },
   "outputs": [
    {
     "name": "stderr",
     "output_type": "stream",
     "text": [
      "/anaconda/lib/python3.6/site-packages/sklearn/utils/validation.py:526: DataConversionWarning: A column-vector y was passed when a 1d array was expected. Please change the shape of y to (n_samples, ), for example using ravel().\n",
      "  y = column_or_1d(y, warn=True)\n"
     ]
    }
   ],
   "source": [
    "# SVM 模型\n",
    "from sklearn import svm\n",
    "SVM = svm.SVC(C=1.0,kernel='poly')\n",
    "SVM.fit(df_train, target_train)\n",
    "score = SVM.score(df_train, target_train)\n",
    "print(score)\n",
    "predict_SVM = SVM.predict(df_test)\n",
    "accuracy_SVM = accuracy_score(target_test, predict_SVM)\n",
    "print(accuracy_SVM)\n",
    "print(recall_score(target_test, predict_SVM, average='binary'))\n",
    "print(precision_score(target_test, predict_SVM, average='binary'))"
   ]
  },
  {
   "cell_type": "code",
   "execution_count": null,
   "metadata": {
    "collapsed": true
   },
   "outputs": [],
   "source": [
    "# 测试一下随机森林算法\n",
    "from sklearn.ensemble import RandomForestClassifier\n",
    "RFC = RandomForestClassifier(n_estimators=10)\n",
    "RFC.fit(df_train, target_train)\n",
    "score = RFC.score(df_train, target_train)\n",
    "print(score)\n",
    "predict_RFC = RFC.predict(df_test)\n",
    "accuracy_RFC = accuracy_score(target_test, predict_RFC)\n",
    "print(accuracy_RFC)\n",
    "print(recall_score(target_test, predict_RFC, average='binary'))\n",
    "print(precision_score(target_test, predict_RFC, average='binary'))"
   ]
  },
  {
   "cell_type": "code",
   "execution_count": null,
   "metadata": {
    "collapsed": true
   },
   "outputs": [],
   "source": []
  }
 ],
 "metadata": {
  "kernelspec": {
   "display_name": "Python 3",
   "language": "python",
   "name": "python3"
  },
  "language_info": {
   "codemirror_mode": {
    "name": "ipython",
    "version": 3
   },
   "file_extension": ".py",
   "mimetype": "text/x-python",
   "name": "python",
   "nbconvert_exporter": "python",
   "pygments_lexer": "ipython3",
   "version": "3.6.0"
  }
 },
 "nbformat": 4,
 "nbformat_minor": 2
}
