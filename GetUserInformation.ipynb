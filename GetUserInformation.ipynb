{
 "cells": [
  {
   "cell_type": "code",
   "execution_count": 1,
   "metadata": {
    "collapsed": true
   },
   "outputs": [],
   "source": [
    "import pandas as pd\n",
    "import numpy as np\n",
    "import json\n",
    "import csv\n",
    "import requests"
   ]
  },
  {
   "cell_type": "code",
   "execution_count": 2,
   "metadata": {
    "collapsed": true
   },
   "outputs": [],
   "source": [
    "cs_url = 'http://portrait.service.octinn.com/user/'"
   ]
  },
  {
   "cell_type": "code",
   "execution_count": 3,
   "metadata": {
    "collapsed": false
   },
   "outputs": [
    {
     "data": {
      "text/html": [
       "<div>\n",
       "<table border=\"1\" class=\"dataframe\">\n",
       "  <thead>\n",
       "    <tr style=\"text-align: right;\">\n",
       "      <th></th>\n",
       "      <th>uid</th>\n",
       "      <th>phone</th>\n",
       "    </tr>\n",
       "  </thead>\n",
       "  <tbody>\n",
       "    <tr>\n",
       "      <th>0</th>\n",
       "      <td>1000</td>\n",
       "      <td>13466642767</td>\n",
       "    </tr>\n",
       "    <tr>\n",
       "      <th>1</th>\n",
       "      <td>1001</td>\n",
       "      <td>13488675630</td>\n",
       "    </tr>\n",
       "    <tr>\n",
       "      <th>2</th>\n",
       "      <td>2160</td>\n",
       "      <td>18502217778</td>\n",
       "    </tr>\n",
       "    <tr>\n",
       "      <th>3</th>\n",
       "      <td>5206</td>\n",
       "      <td>13601091103</td>\n",
       "    </tr>\n",
       "    <tr>\n",
       "      <th>4</th>\n",
       "      <td>5558</td>\n",
       "      <td>13981880284</td>\n",
       "    </tr>\n",
       "  </tbody>\n",
       "</table>\n",
       "</div>"
      ],
      "text/plain": [
       "    uid        phone\n",
       "0  1000  13466642767\n",
       "1  1001  13488675630\n",
       "2  2160  18502217778\n",
       "3  5206  13601091103\n",
       "4  5558  13981880284"
      ]
     },
     "execution_count": 3,
     "metadata": {},
     "output_type": "execute_result"
    }
   ],
   "source": [
    "data = pd.read_excel('/Users/pein/Desktop/高消费用户2.xlsx')\n",
    "data.head()"
   ]
  },
  {
   "cell_type": "code",
   "execution_count": 4,
   "metadata": {
    "collapsed": false
   },
   "outputs": [],
   "source": [
    "def get_url(phone):\n",
    "    url = cs_url+'phone:'+str(phone)\n",
    "    return url"
   ]
  },
  {
   "cell_type": "code",
   "execution_count": 5,
   "metadata": {
    "collapsed": false
   },
   "outputs": [
    {
     "name": "stdout",
     "output_type": "stream",
     "text": [
      "100\n"
     ]
    }
   ],
   "source": [
    "data_copy = data.iloc[:150,:]\n",
    "organizationList = []\n",
    "titleList = []\n",
    "i = 1\n",
    "import time\n",
    "for phone in data_copy.phone:\n",
    "    url = get_url(phone)\n",
    "    r = requests.get(url,timeout=100)\n",
    "    i +=1\n",
    "    try:\n",
    "        organization = r.json()['organization']\n",
    "        if organization== []:\n",
    "            organization = ['null'] \n",
    "        organizationList.append(organization)\n",
    "        title = r.json()['title']\n",
    "        if title == []:\n",
    "            title = ['null']\n",
    "        titleList.append(title)   \n",
    "    except KeyError:\n",
    "        print('keyError')\n",
    "    if i%100 == 0:\n",
    "        print(i)\n",
    "    time.sleep(1)"
   ]
  },
  {
   "cell_type": "code",
   "execution_count": 6,
   "metadata": {
    "collapsed": false
   },
   "outputs": [
    {
     "name": "stdout",
     "output_type": "stream",
     "text": [
      "[['经理', '产品', '老公'], ['null'], ['null'], ['null'], ['科长', '哥', '总', '生产'], ['null'], ['null'], ['null'], ['哥'], ['null'], ['null'], ['null'], ['姐', '部长'], ['大哥', '哥', '爸爸', '爸', '老板'], ['妈', '丫头'], ['null'], ['姐'], ['null'], ['null'], ['null'], ['null'], ['先生', '哥', '小舅'], ['哥哥'], ['姐'], ['null'], ['老师', '客户', '总', '老公'], ['客户', '哥'], ['总', '同事', '经理'], ['null'], ['经理'], ['null'], ['null'], ['null'], ['null'], ['执行'], ['哥', '爸'], ['null'], ['姐'], ['null'], ['null'], ['QC', '客户'], ['妈妈', '阿姨', '妈', '参谋'], ['null'], ['null'], ['null'], ['客户'], ['null'], ['财务'], ['null'], ['先生'], ['null'], ['老板', '创始人', '总', '老公', 'CEO'], ['null'], ['党员'], ['总'], ['公公', '公务员'], ['null'], ['null'], ['null'], ['null'], ['经理', '老婆', '姐姐'], ['经理', '业务'], ['null'], ['哥'], ['哥'], ['同学'], ['姐姐'], ['null'], ['null'], ['班长'], ['null'], ['明星', '先生', '哥', '经纪人', '总'], ['null'], ['经理'], ['null'], ['null'], ['编辑'], ['null'], ['代表'], ['姐'], ['null'], ['null'], ['null'], ['姐姐'], ['null'], ['科长'], ['妈妈', '同事', '学生', '姐'], ['总'], ['null'], ['null'], ['爸', '总'], ['姐'], ['null'], ['null'], ['总'], ['教练', '爸', '总'], ['姐'], ['null'], ['null'], ['老师'], ['姐'], ['null'], ['null'], ['null'], ['姐'], ['null'], ['null'], ['大哥', '爸'], ['妈', '租', '客户', '妈妈', '姐'], ['null'], ['null'], ['null'], ['null'], ['同学', '叔'], ['null'], ['null'], ['null'], ['null'], ['同学', '业主', '女士'], ['null'], ['null'], ['null'], ['null'], ['市场'], ['姐'], ['姐', '姨', '客户', '老板', '总'], ['null'], ['销售', '姐', '经理'], ['null'], ['null'], ['姐'], ['姐'], ['经理', '姐'], ['null'], ['姐'], ['null'], ['品牌', '总监'], ['null'], ['妹', '姐'], ['客户', '总', '老公', '哥'], ['null'], ['老婆'], ['先生', '大姐'], ['总', '书记'], ['经理', '数据'], ['经理'], ['姐'], ['null'], ['哥'], ['null']]\n"
     ]
    }
   ],
   "source": [
    "print(titleList)"
   ]
  },
  {
   "cell_type": "code",
   "execution_count": null,
   "metadata": {
    "collapsed": true
   },
   "outputs": [],
   "source": [
    "with open('/Users/pein/Desktop/titleList.csv','w',newline='') as fp:\n",
    "    a = csv.writer(fp,delimiter=' ')\n",
    "    a.writerows(titleList)"
   ]
  },
  {
   "cell_type": "code",
   "execution_count": null,
   "metadata": {
    "collapsed": true
   },
   "outputs": [],
   "source": [
    "with open('/Users/pein/Desktop/organizationList.csv','w',newline='') as fp:\n",
    "    a = csv.writer(fp,delimiter=' ')\n",
    "    a.writerows(organizationList)"
   ]
  },
  {
   "cell_type": "code",
   "execution_count": null,
   "metadata": {
    "collapsed": true
   },
   "outputs": [],
   "source": []
  }
 ],
 "metadata": {
  "kernelspec": {
   "display_name": "Python 3",
   "language": "python",
   "name": "python3"
  },
  "language_info": {
   "codemirror_mode": {
    "name": "ipython",
    "version": 3
   },
   "file_extension": ".py",
   "mimetype": "text/x-python",
   "name": "python",
   "nbconvert_exporter": "python",
   "pygments_lexer": "ipython3",
   "version": "3.6.0"
  }
 },
 "nbformat": 4,
 "nbformat_minor": 2
}
