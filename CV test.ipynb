{
 "cells": [
  {
   "cell_type": "code",
   "execution_count": 1,
   "metadata": {
    "collapsed": true
   },
   "outputs": [],
   "source": [
    "import numpy as np\n",
    "from sklearn.model_selection import cross_val_score\n",
    "from sklearn import datasets, svm"
   ]
  },
  {
   "cell_type": "code",
   "execution_count": 4,
   "metadata": {
    "collapsed": false
   },
   "outputs": [],
   "source": [
    "digits = datasets.load_digits()\n",
    "X = digits.data\n",
    "Y = digits.target"
   ]
  },
  {
   "cell_type": "code",
   "execution_count": 7,
   "metadata": {
    "collapsed": true
   },
   "outputs": [],
   "source": [
    "svc = svm.SVC()\n",
    "C_s = np.logspace(-10, 0,10)\n",
    "\n",
    "scores = list()\n",
    "scores_std = list()\n"
   ]
  },
  {
   "cell_type": "code",
   "execution_count": 8,
   "metadata": {
    "collapsed": false
   },
   "outputs": [],
   "source": [
    "for C in C_s:\n",
    "    svc.C = C\n",
    "    this_scores = cross_val_score(svc, X, Y, n_jobs=1)\n",
    "    scores.append(this_scores)\n",
    "    scores_std.append(np.std(this_scores))\n"
   ]
  },
  {
   "cell_type": "code",
   "execution_count": 9,
   "metadata": {
    "collapsed": false
   },
   "outputs": [
    {
     "data": {
      "text/plain": [
       "[array([ 0.1013289 ,  0.10183639,  0.12919463]),\n",
       " array([ 0.1013289 ,  0.10183639,  0.12919463]),\n",
       " array([ 0.1013289 ,  0.10183639,  0.12919463]),\n",
       " array([ 0.1013289 ,  0.10183639,  0.12919463]),\n",
       " array([ 0.1013289 ,  0.10183639,  0.12919463]),\n",
       " array([ 0.1013289 ,  0.10183639,  0.12919463]),\n",
       " array([ 0.1013289 ,  0.10183639,  0.12919463]),\n",
       " array([ 0.1013289 ,  0.10183639,  0.12919463]),\n",
       " array([ 0.1013289 ,  0.10183639,  0.12919463]),\n",
       " array([ 0.39368771,  0.41068447,  0.45973154])]"
      ]
     },
     "execution_count": 9,
     "metadata": {},
     "output_type": "execute_result"
    }
   ],
   "source": [
    "scores"
   ]
  },
  {
   "cell_type": "code",
   "execution_count": null,
   "metadata": {
    "collapsed": true
   },
   "outputs": [],
   "source": []
  }
 ],
 "metadata": {
  "kernelspec": {
   "display_name": "Python 3",
   "language": "python",
   "name": "python3"
  },
  "language_info": {
   "codemirror_mode": {
    "name": "ipython",
    "version": 3
   },
   "file_extension": ".py",
   "mimetype": "text/x-python",
   "name": "python",
   "nbconvert_exporter": "python",
   "pygments_lexer": "ipython3",
   "version": "3.6.0"
  }
 },
 "nbformat": 4,
 "nbformat_minor": 2
}
