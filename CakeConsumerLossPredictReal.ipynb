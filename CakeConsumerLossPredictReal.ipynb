{
 "cells": [
  {
   "cell_type": "code",
   "execution_count": null,
   "metadata": {
    "collapsed": true
   },
   "outputs": [],
   "source": [
    "import numpy as np\n",
    "import pandas as pd\n",
    "import matplotlib.pyplot as plt\n",
    "import matplotlib\n",
    "% matplotlib inline"
   ]
  },
  {
   "cell_type": "code",
   "execution_count": null,
   "metadata": {
    "collapsed": true
   },
   "outputs": [],
   "source": [
    "data = pd.read_excel('/Users/pein/Desktop/12月份和部分11月份的蛋糕消费用户信息.xlsx')"
   ]
  },
  {
   "cell_type": "code",
   "execution_count": null,
   "metadata": {
    "collapsed": false
   },
   "outputs": [],
   "source": [
    "data.info()"
   ]
  },
  {
   "cell_type": "code",
   "execution_count": null,
   "metadata": {
    "collapsed": false
   },
   "outputs": [],
   "source": [
    "train_data = data.iloc[:,:-1]\n",
    "train_target = data.iloc[:,-1:]"
   ]
  },
  {
   "cell_type": "code",
   "execution_count": null,
   "metadata": {
    "collapsed": false
   },
   "outputs": [],
   "source": [
    "train_data = train_data.drop(['uid'],1)\n",
    "train_data['jude_value'] = train_data.jude_value.astype(float)\n",
    "train_data['provinceId'] = train_data.provinceId.astype('category')"
   ]
  },
  {
   "cell_type": "code",
   "execution_count": null,
   "metadata": {
    "collapsed": false
   },
   "outputs": [],
   "source": [
    "# 数据的预处理 age\n",
    "train_data['Age'] = 2017-train_data.birthYear\n",
    "mask_age_lower = train_data['Age']<10\n",
    "mask_age_high = train_data['Age']>10\n",
    "train_data['Age_right'] = 1\n",
    "train_data['Age_right'][mask_age_lower] = 0\n",
    "train_data['Age_right'][mask_age_high] = 0\n",
    "train_data['Age'][mask_age_lower] = 0\n",
    "train_data['Age'][mask_age_lower] = 0"
   ]
  },
  {
   "cell_type": "code",
   "execution_count": null,
   "metadata": {
    "collapsed": false
   },
   "outputs": [],
   "source": [
    "# 性别数据的处理\n",
    "mask_gender_error = train_data['gender'] == -1\n",
    "train_data['gender_right'] = 1\n",
    "train_data['gender_right'][mask_gender_error] = 0\n"
   ]
  },
  {
   "cell_type": "code",
   "execution_count": null,
   "metadata": {
    "collapsed": false
   },
   "outputs": [],
   "source": [
    "# 去除birthYear列，然后去数据进行标准化\n",
    "train_data = train_data.drop(['birthYear'],1)\n",
    "train_data.iloc[:,1:] = train_data.iloc[:,1:].apply(lambda x:(x-np.mean(x))/np.std(x))\n",
    "train_data.head()"
   ]
  },
  {
   "cell_type": "code",
   "execution_count": null,
   "metadata": {
    "collapsed": true
   },
   "outputs": [],
   "source": [
    "# 采用随机森林算法\n",
    "#调用准确率 召回率 精确率 3个指标来综合评价模型的效果 \n",
    "from sklearn.ensemble import RandomForestClassifier\n",
    "from sklearn.metrics import accuracy_score\n",
    "from sklearn.metrics import recall_score\n",
    "from sklearn.metrics import precision_score"
   ]
  },
  {
   "cell_type": "code",
   "execution_count": null,
   "metadata": {
    "collapsed": false
   },
   "outputs": [],
   "source": [
    "RFC = RandomForestClassifier(n_estimators=20)\n",
    "RFC.fit(train_data, train_target)\n",
    "score = RFC.score(train_data, train_target)\n",
    "score\n",
    "# 模型的拟合效果"
   ]
  },
  {
   "cell_type": "code",
   "execution_count": null,
   "metadata": {
    "collapsed": false
   },
   "outputs": [],
   "source": [
    "#测试准确程度\n",
    "predict = RFC.predict(train_data)\n",
    "accuracy_score(train_target, predict)"
   ]
  },
  {
   "cell_type": "code",
   "execution_count": null,
   "metadata": {
    "collapsed": false
   },
   "outputs": [],
   "source": [
    "# 测试召回率和精确度\n",
    "recall_score(train_target, predict,average='binary')"
   ]
  },
  {
   "cell_type": "code",
   "execution_count": null,
   "metadata": {
    "collapsed": false
   },
   "outputs": [],
   "source": [
    "precision_score(train_target, predict,average='binary')"
   ]
  },
  {
   "cell_type": "code",
   "execution_count": null,
   "metadata": {
    "collapsed": false
   },
   "outputs": [],
   "source": [
    "# 为了防止过分拟合，将数据集划分成测试集和训练集\n",
    "# 将train_data train_target 划分成7:3的比例\n",
    "# 测试模型的一个泛化效果\n",
    "# 将训练数据集随机打乱\n",
    "data1 = train_data.iloc[:,:]\n",
    "data1['Loss_or_not'] = train_target\n",
    "data2 = data1.sample(frac=1)\n",
    "train_data0= data2.iloc[:,:-1]\n",
    "train_target0 = data2.iloc[:,-1:]"
   ]
  },
  {
   "cell_type": "code",
   "execution_count": null,
   "metadata": {
    "collapsed": true
   },
   "outputs": [],
   "source": [
    "train_data1 = train_data0.iloc[:18000,:]\n",
    "train_data2 = train_data0.iloc[18000:,:]\n",
    "train_target1 = train_target0.iloc[:18000]\n",
    "train_target2 = train_target0.iloc[18000:]"
   ]
  },
  {
   "cell_type": "code",
   "execution_count": null,
   "metadata": {
    "collapsed": false
   },
   "outputs": [],
   "source": [
    "# 建立新的随机森林训练模型\n",
    "RFC2 = RandomForestClassifier(n_estimators=20)\n",
    "RFC2.fit(train_data1, train_target1)\n",
    "score = RFC2.score(train_data1, train_target1)\n",
    "print(score)\n",
    "predict2 = RFC2.predict(train_data2)\n",
    "accuracy_result = accuracy_score(train_target2, predict2)\n",
    "print(accuracy_result)\n",
    "recall_result = recall_score(train_target2, predict2,average='binary')\n",
    "print(recall_result)\n",
    "precision_result = precision_score(train_target2, predict2,average='binary')\n",
    "print(precision_result)"
   ]
  },
  {
   "cell_type": "code",
   "execution_count": null,
   "metadata": {
    "collapsed": false
   },
   "outputs": [],
   "source": [
    "#np.savetxt('/Users/pein/Desktop/predcit2.csv', predict2, delimiter=',')"
   ]
  },
  {
   "cell_type": "code",
   "execution_count": null,
   "metadata": {
    "collapsed": false
   },
   "outputs": [],
   "source": [
    "# 随机森林模型的效果不是太好，接下来使用LR模型测试一下模型的泛化能力\n",
    "from sklearn.linear_model import LogisticRegression\n",
    "LR = LogisticRegression()\n",
    "LR.fit(train_data1,train_target1)\n",
    "LR_score = LR.score(train_data1,train_target1)\n",
    "print(LR_score)\n",
    "LR_predict = LR.predict(train_data2)\n",
    "accuracy_result_LR = accuracy_score(train_target2, LR_predict)\n",
    "print(accuracy_result_LR)\n",
    "recall_result_LR = recall_score(train_target2, LR_predict,average='binary')\n",
    "print(recall_result_LR)\n",
    "precision_result_LR = precision_score(train_target2, LR_predict,average='binary')\n",
    "print(precision_result_LR)"
   ]
  },
  {
   "cell_type": "code",
   "execution_count": null,
   "metadata": {
    "collapsed": false
   },
   "outputs": [],
   "source": [
    "# LR模型的效果不太好，重新测试SVM模型的效果\n",
    "from sklearn import svm\n",
    "SVM = svm.SVC(kernel='poly', C=0.1)\n",
    "SVM.fit(train_data1, train_target1)\n",
    "SVM_score = SVM.score(train_data1, train_target1)\n",
    "print(SVM_score)\n",
    "SVM_predict = SVM.predict(train_data2)\n",
    "accuracy_result_SVM = accuracy_score(train_target2, SVM_predict)\n",
    "print(accuracy_result_SVM)\n",
    "recall_result_SVM = recall_score(train_target2,SVM_predict, average='binary')\n",
    "print(recall_result_SVM)\n",
    "precision_SVM = precision_score(train_target2, SVM_predict, average='binary')\n",
    "print(precision_SVM)"
   ]
  },
  {
   "cell_type": "code",
   "execution_count": null,
   "metadata": {
    "collapsed": false
   },
   "outputs": [],
   "source": [
    "train_target2['Loss_or_not'].value_counts()"
   ]
  },
  {
   "cell_type": "code",
   "execution_count": null,
   "metadata": {
    "collapsed": false
   },
   "outputs": [],
   "source": [
    "# 采用LR模型进行建模预测\n",
    "#from sklearn.linear_model import LogisticRegression\n",
    "#from sklearn.metrics import accuracy_score\n",
    "#from sklearn import svm\n",
    "# LR模型的效果\n",
    "#LR = LogisticRegression()\n",
    "#LR.fit(train_data,train_target)\n",
    "#score = LR.score(train_data,train_target)\n",
    "#score"
   ]
  },
  {
   "cell_type": "code",
   "execution_count": null,
   "metadata": {
    "collapsed": true
   },
   "outputs": [],
   "source": [
    "# 接下来导入我们需要的测试数据集\n",
    "data1 = pd.read_excel('/Users/pein/Desktop/415515蛋糕用户测试集(1).xlsx')"
   ]
  },
  {
   "cell_type": "code",
   "execution_count": null,
   "metadata": {
    "collapsed": true
   },
   "outputs": [],
   "source": [
    "test_data = data1.iloc[:,:]"
   ]
  },
  {
   "cell_type": "code",
   "execution_count": null,
   "metadata": {
    "collapsed": false
   },
   "outputs": [],
   "source": [
    "test_data.head()"
   ]
  },
  {
   "cell_type": "code",
   "execution_count": null,
   "metadata": {
    "collapsed": false
   },
   "outputs": [],
   "source": [
    "test_data['provinceId'] = test_data.provinceId.astype('category')\n",
    "test_data['jude_value'] = test_data.jude_value.astype(float)\n",
    "test_data = test_data.drop(['uid'],1)"
   ]
  },
  {
   "cell_type": "code",
   "execution_count": null,
   "metadata": {
    "collapsed": false
   },
   "outputs": [],
   "source": [
    "# 测试数据集处理年龄和性别\n",
    "test_data['Age'] = 2017 - test_data.birthYear\n",
    "mask_age_lower1 = test_data['Age']<10\n",
    "mask_age_high1 = test_data['Age']>90\n",
    "test_data['Age_right'] = 1\n",
    "test_data['Age_right'][mask_age_lower1] = 0\n",
    "test_data['Age_right'][mask_age_high1] = 0\n",
    "test_data['Age'][mask_age_lower1] = 0\n",
    "test_data['Age'][mask_age_high1] = 0\n",
    "mask_gender_error1 = test_data['gender'] ==-1\n",
    "test_data['gender_right'] = 1\n",
    "test_data['gender_right'][mask_gender_error1] = 0"
   ]
  },
  {
   "cell_type": "code",
   "execution_count": null,
   "metadata": {
    "collapsed": false
   },
   "outputs": [],
   "source": [
    "test_data.info()"
   ]
  },
  {
   "cell_type": "code",
   "execution_count": null,
   "metadata": {
    "collapsed": false
   },
   "outputs": [],
   "source": [
    "test_data = test_data.drop(['birthYear'],1)\n",
    "test_data.iloc[:,1:] = test_data.iloc[:,1:].apply(lambda x: (x-np.mean(x))/np.std(x))"
   ]
  },
  {
   "cell_type": "code",
   "execution_count": null,
   "metadata": {
    "collapsed": false
   },
   "outputs": [],
   "source": [
    "test_data.head()"
   ]
  },
  {
   "cell_type": "code",
   "execution_count": null,
   "metadata": {
    "collapsed": true
   },
   "outputs": [],
   "source": [
    "predict = LR.predict(test_data)"
   ]
  },
  {
   "cell_type": "code",
   "execution_count": null,
   "metadata": {
    "collapsed": true
   },
   "outputs": [],
   "source": [
    "data1['result'] = predict"
   ]
  },
  {
   "cell_type": "code",
   "execution_count": null,
   "metadata": {
    "collapsed": false
   },
   "outputs": [],
   "source": [
    "data1.describe()"
   ]
  },
  {
   "cell_type": "code",
   "execution_count": null,
   "metadata": {
    "collapsed": true
   },
   "outputs": [],
   "source": [
    "data1.to_csv('/Users/pein/Desktop/415515蛋糕用户测试集预测结果.csv')"
   ]
  },
  {
   "cell_type": "code",
   "execution_count": null,
   "metadata": {
    "collapsed": true
   },
   "outputs": [],
   "source": []
  }
 ],
 "metadata": {
  "kernelspec": {
   "display_name": "Python 3",
   "language": "python",
   "name": "python3"
  },
  "language_info": {
   "codemirror_mode": {
    "name": "ipython",
    "version": 3
   },
   "file_extension": ".py",
   "mimetype": "text/x-python",
   "name": "python",
   "nbconvert_exporter": "python",
   "pygments_lexer": "ipython3",
   "version": "3.6.0"
  }
 },
 "nbformat": 4,
 "nbformat_minor": 2
}
