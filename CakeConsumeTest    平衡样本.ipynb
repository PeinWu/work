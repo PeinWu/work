{
 "cells": [
  {
   "cell_type": "code",
   "execution_count": 16,
   "metadata": {
    "collapsed": true
   },
   "outputs": [],
   "source": [
    "import numpy as np\n",
    "import pandas as pd\n",
    "import matplotlib.pyplot as plt\n",
    "import matplotlib\n",
    "% matplotlib inline"
   ]
  },
  {
   "cell_type": "code",
   "execution_count": 17,
   "metadata": {
    "collapsed": true
   },
   "outputs": [],
   "source": [
    "data = pd.read_excel('/Users/pein/Desktop/12月份和1月份部分平衡样本.xlsx')"
   ]
  },
  {
   "cell_type": "code",
   "execution_count": 18,
   "metadata": {
    "collapsed": false
   },
   "outputs": [
    {
     "name": "stdout",
     "output_type": "stream",
     "text": [
      "<class 'pandas.core.frame.DataFrame'>\n",
      "RangeIndex: 20723 entries, 0 to 20722\n",
      "Data columns (total 17 columns):\n",
      "uid                   20723 non-null int64\n",
      "provinceId            20723 non-null int64\n",
      "gender                20723 non-null int64\n",
      "birthYear             20723 non-null int64\n",
      "createOn              20723 non-null int64\n",
      "orderNum              20723 non-null int64\n",
      "Finaltime             20723 non-null int64\n",
      "totalFee              20723 non-null float64\n",
      "SingtotalFee          20723 non-null float64\n",
      "jude_value            20723 non-null float64\n",
      "register_channelId    20723 non-null int64\n",
      "cunpon_use            20723 non-null int64\n",
      "jifen_use             20723 non-null int64\n",
      "cancel_order          20723 non-null int64\n",
      "GoodsView             20723 non-null int64\n",
      "ActiveDays            20723 non-null int64\n",
      "Loss_or_not           20723 non-null int64\n",
      "dtypes: float64(3), int64(14)\n",
      "memory usage: 2.7 MB\n"
     ]
    }
   ],
   "source": [
    "data.info()"
   ]
  },
  {
   "cell_type": "code",
   "execution_count": 19,
   "metadata": {
    "collapsed": true
   },
   "outputs": [],
   "source": [
    "data1 = data.sample(frac=1) # 数据的随机化"
   ]
  },
  {
   "cell_type": "code",
   "execution_count": 20,
   "metadata": {
    "collapsed": false
   },
   "outputs": [],
   "source": [
    "# 基本的数据处理，转化格式。去除uid列\n",
    "data1['provinceId'] = data1.provinceId.astype('category')\n",
    "data1['jude_value'] = data1.jude_value.astype(float)\n",
    "data1 = data1.drop(['uid'],1)"
   ]
  },
  {
   "cell_type": "code",
   "execution_count": 21,
   "metadata": {
    "collapsed": false
   },
   "outputs": [
    {
     "name": "stderr",
     "output_type": "stream",
     "text": [
      "/anaconda/lib/python3.6/site-packages/ipykernel/__main__.py:6: SettingWithCopyWarning: \n",
      "A value is trying to be set on a copy of a slice from a DataFrame\n",
      "\n",
      "See the caveats in the documentation: http://pandas.pydata.org/pandas-docs/stable/indexing.html#indexing-view-versus-copy\n",
      "/anaconda/lib/python3.6/site-packages/ipykernel/__main__.py:7: SettingWithCopyWarning: \n",
      "A value is trying to be set on a copy of a slice from a DataFrame\n",
      "\n",
      "See the caveats in the documentation: http://pandas.pydata.org/pandas-docs/stable/indexing.html#indexing-view-versus-copy\n",
      "/anaconda/lib/python3.6/site-packages/ipykernel/__main__.py:8: SettingWithCopyWarning: \n",
      "A value is trying to be set on a copy of a slice from a DataFrame\n",
      "\n",
      "See the caveats in the documentation: http://pandas.pydata.org/pandas-docs/stable/indexing.html#indexing-view-versus-copy\n",
      "/anaconda/lib/python3.6/site-packages/ipykernel/__main__.py:9: SettingWithCopyWarning: \n",
      "A value is trying to be set on a copy of a slice from a DataFrame\n",
      "\n",
      "See the caveats in the documentation: http://pandas.pydata.org/pandas-docs/stable/indexing.html#indexing-view-versus-copy\n",
      "/anaconda/lib/python3.6/site-packages/ipykernel/__main__.py:13: SettingWithCopyWarning: \n",
      "A value is trying to be set on a copy of a slice from a DataFrame\n",
      "\n",
      "See the caveats in the documentation: http://pandas.pydata.org/pandas-docs/stable/indexing.html#indexing-view-versus-copy\n"
     ]
    }
   ],
   "source": [
    "#处理出生年龄\n",
    "data1['Age'] = 2017-data1.birthYear\n",
    "mask_age_lower = data1.Age<10\n",
    "mask_age_high = data1.Age>90\n",
    "data1['Age_right'] =1\n",
    "data1['Age_right'][mask_age_lower] = 0\n",
    "data1['Age_right'][mask_age_high] = 0\n",
    "data1['Age'][mask_age_lower] = 0\n",
    "data1['Age'][mask_age_high] = 0\n",
    "# 处理性别数据\n",
    "mask_gender_error = data1['gender']==-1\n",
    "data1['gender_right'] = 1\n",
    "data1['gender_right'][mask_gender_error] =0"
   ]
  },
  {
   "cell_type": "code",
   "execution_count": 22,
   "metadata": {
    "collapsed": false
   },
   "outputs": [
    {
     "data": {
      "text/html": [
       "<div>\n",
       "<table border=\"1\" class=\"dataframe\">\n",
       "  <thead>\n",
       "    <tr style=\"text-align: right;\">\n",
       "      <th></th>\n",
       "      <th>provinceId</th>\n",
       "      <th>gender</th>\n",
       "      <th>birthYear</th>\n",
       "      <th>createOn</th>\n",
       "      <th>orderNum</th>\n",
       "      <th>Finaltime</th>\n",
       "      <th>totalFee</th>\n",
       "      <th>SingtotalFee</th>\n",
       "      <th>jude_value</th>\n",
       "      <th>register_channelId</th>\n",
       "      <th>cunpon_use</th>\n",
       "      <th>jifen_use</th>\n",
       "      <th>cancel_order</th>\n",
       "      <th>GoodsView</th>\n",
       "      <th>ActiveDays</th>\n",
       "      <th>Loss_or_not</th>\n",
       "      <th>Age</th>\n",
       "      <th>Age_right</th>\n",
       "      <th>gender_right</th>\n",
       "    </tr>\n",
       "  </thead>\n",
       "  <tbody>\n",
       "    <tr>\n",
       "      <th>12663</th>\n",
       "      <td>440000</td>\n",
       "      <td>1</td>\n",
       "      <td>1991</td>\n",
       "      <td>411</td>\n",
       "      <td>1</td>\n",
       "      <td>22</td>\n",
       "      <td>278.0</td>\n",
       "      <td>278.0</td>\n",
       "      <td>5.00</td>\n",
       "      <td>0</td>\n",
       "      <td>0</td>\n",
       "      <td>0</td>\n",
       "      <td>0</td>\n",
       "      <td>3</td>\n",
       "      <td>18</td>\n",
       "      <td>1</td>\n",
       "      <td>26</td>\n",
       "      <td>1</td>\n",
       "      <td>1</td>\n",
       "    </tr>\n",
       "    <tr>\n",
       "      <th>15503</th>\n",
       "      <td>310000</td>\n",
       "      <td>0</td>\n",
       "      <td>1986</td>\n",
       "      <td>108</td>\n",
       "      <td>2</td>\n",
       "      <td>9</td>\n",
       "      <td>448.0</td>\n",
       "      <td>269.0</td>\n",
       "      <td>2.50</td>\n",
       "      <td>0</td>\n",
       "      <td>0</td>\n",
       "      <td>0</td>\n",
       "      <td>1</td>\n",
       "      <td>44</td>\n",
       "      <td>3</td>\n",
       "      <td>1</td>\n",
       "      <td>31</td>\n",
       "      <td>1</td>\n",
       "      <td>1</td>\n",
       "    </tr>\n",
       "    <tr>\n",
       "      <th>9181</th>\n",
       "      <td>330000</td>\n",
       "      <td>0</td>\n",
       "      <td>1995</td>\n",
       "      <td>14</td>\n",
       "      <td>2</td>\n",
       "      <td>11</td>\n",
       "      <td>326.0</td>\n",
       "      <td>188.0</td>\n",
       "      <td>2.50</td>\n",
       "      <td>1</td>\n",
       "      <td>1</td>\n",
       "      <td>0</td>\n",
       "      <td>1</td>\n",
       "      <td>1</td>\n",
       "      <td>1</td>\n",
       "      <td>0</td>\n",
       "      <td>22</td>\n",
       "      <td>1</td>\n",
       "      <td>1</td>\n",
       "    </tr>\n",
       "    <tr>\n",
       "      <th>4144</th>\n",
       "      <td>320000</td>\n",
       "      <td>-1</td>\n",
       "      <td>0</td>\n",
       "      <td>16</td>\n",
       "      <td>2</td>\n",
       "      <td>14</td>\n",
       "      <td>286.0</td>\n",
       "      <td>158.0</td>\n",
       "      <td>4.75</td>\n",
       "      <td>0</td>\n",
       "      <td>0</td>\n",
       "      <td>0</td>\n",
       "      <td>0</td>\n",
       "      <td>3</td>\n",
       "      <td>2</td>\n",
       "      <td>0</td>\n",
       "      <td>0</td>\n",
       "      <td>0</td>\n",
       "      <td>0</td>\n",
       "    </tr>\n",
       "    <tr>\n",
       "      <th>3491</th>\n",
       "      <td>110000</td>\n",
       "      <td>0</td>\n",
       "      <td>1977</td>\n",
       "      <td>29</td>\n",
       "      <td>1</td>\n",
       "      <td>29</td>\n",
       "      <td>759.0</td>\n",
       "      <td>759.0</td>\n",
       "      <td>2.50</td>\n",
       "      <td>1</td>\n",
       "      <td>0</td>\n",
       "      <td>0</td>\n",
       "      <td>0</td>\n",
       "      <td>3</td>\n",
       "      <td>2</td>\n",
       "      <td>0</td>\n",
       "      <td>40</td>\n",
       "      <td>1</td>\n",
       "      <td>1</td>\n",
       "    </tr>\n",
       "  </tbody>\n",
       "</table>\n",
       "</div>"
      ],
      "text/plain": [
       "      provinceId  gender  birthYear  createOn  orderNum  Finaltime  totalFee  \\\n",
       "12663     440000       1       1991       411         1         22     278.0   \n",
       "15503     310000       0       1986       108         2          9     448.0   \n",
       "9181      330000       0       1995        14         2         11     326.0   \n",
       "4144      320000      -1          0        16         2         14     286.0   \n",
       "3491      110000       0       1977        29         1         29     759.0   \n",
       "\n",
       "       SingtotalFee  jude_value  register_channelId  cunpon_use  jifen_use  \\\n",
       "12663         278.0        5.00                   0           0          0   \n",
       "15503         269.0        2.50                   0           0          0   \n",
       "9181          188.0        2.50                   1           1          0   \n",
       "4144          158.0        4.75                   0           0          0   \n",
       "3491          759.0        2.50                   1           0          0   \n",
       "\n",
       "       cancel_order  GoodsView  ActiveDays  Loss_or_not  Age  Age_right  \\\n",
       "12663             0          3          18            1   26          1   \n",
       "15503             1         44           3            1   31          1   \n",
       "9181              1          1           1            0   22          1   \n",
       "4144              0          3           2            0    0          0   \n",
       "3491              0          3           2            0   40          1   \n",
       "\n",
       "       gender_right  \n",
       "12663             1  \n",
       "15503             1  \n",
       "9181              1  \n",
       "4144              0  \n",
       "3491              1  "
      ]
     },
     "execution_count": 22,
     "metadata": {},
     "output_type": "execute_result"
    }
   ],
   "source": [
    "data1.head()"
   ]
  },
  {
   "cell_type": "code",
   "execution_count": 23,
   "metadata": {
    "collapsed": true
   },
   "outputs": [],
   "source": [
    "data1 = data1.drop(['birthYear'], 1)"
   ]
  },
  {
   "cell_type": "code",
   "execution_count": 41,
   "metadata": {
    "collapsed": false
   },
   "outputs": [
    {
     "name": "stdout",
     "output_type": "stream",
     "text": [
      "<class 'pandas.core.frame.DataFrame'>\n",
      "Int64Index: 20723 entries, 12663 to 16125\n",
      "Data columns (total 18 columns):\n",
      "provinceId            20723 non-null category\n",
      "gender                20723 non-null int64\n",
      "createOn              20723 non-null int64\n",
      "orderNum              20723 non-null int64\n",
      "Finaltime             20723 non-null int64\n",
      "totalFee              20723 non-null float64\n",
      "SingtotalFee          20723 non-null float64\n",
      "jude_value            20723 non-null float64\n",
      "register_channelId    20723 non-null int64\n",
      "cunpon_use            20723 non-null int64\n",
      "jifen_use             20723 non-null int64\n",
      "cancel_order          20723 non-null int64\n",
      "GoodsView             20723 non-null int64\n",
      "ActiveDays            20723 non-null int64\n",
      "Age                   20723 non-null int64\n",
      "Age_right             20723 non-null int64\n",
      "gender_right          20723 non-null int64\n",
      "Loss_or_not1          20723 non-null int64\n",
      "dtypes: category(1), float64(3), int64(14)\n",
      "memory usage: 2.9 MB\n"
     ]
    }
   ],
   "source": [
    "# 将数据切分成两分\n",
    "data1['Loss_or_not1'] = data1.Loss_or_not\n",
    "data2 = data1.drop(['Loss_or_not'],1)\n",
    "data2.info()"
   ]
  },
  {
   "cell_type": "code",
   "execution_count": 75,
   "metadata": {
    "collapsed": false
   },
   "outputs": [
    {
     "name": "stdout",
     "output_type": "stream",
     "text": [
      "<class 'pandas.core.frame.DataFrame'>\n",
      "Int64Index: 20723 entries, 12663 to 16125\n",
      "Data columns (total 17 columns):\n",
      "provinceId            20723 non-null category\n",
      "gender                20723 non-null int64\n",
      "createOn              20723 non-null int64\n",
      "orderNum              20723 non-null int64\n",
      "Finaltime             20723 non-null int64\n",
      "totalFee              20723 non-null float64\n",
      "SingtotalFee          20723 non-null float64\n",
      "jude_value            20723 non-null float64\n",
      "register_channelId    20723 non-null int64\n",
      "cunpon_use            20723 non-null int64\n",
      "jifen_use             20723 non-null int64\n",
      "cancel_order          20723 non-null int64\n",
      "GoodsView             20723 non-null int64\n",
      "ActiveDays            20723 non-null int64\n",
      "Age                   20723 non-null int64\n",
      "Age_right             20723 non-null int64\n",
      "gender_right          20723 non-null int64\n",
      "dtypes: category(1), float64(3), int64(13)\n",
      "memory usage: 2.7 MB\n"
     ]
    }
   ],
   "source": [
    "df = data2.iloc[:,:-1]\n",
    "target = data2.iloc[:,-1:]\n",
    "df.info()"
   ]
  },
  {
   "cell_type": "code",
   "execution_count": 76,
   "metadata": {
    "collapsed": false
   },
   "outputs": [
    {
     "data": {
      "text/html": [
       "<div>\n",
       "<table border=\"1\" class=\"dataframe\">\n",
       "  <thead>\n",
       "    <tr style=\"text-align: right;\">\n",
       "      <th></th>\n",
       "      <th>gender</th>\n",
       "      <th>createOn</th>\n",
       "      <th>orderNum</th>\n",
       "      <th>Finaltime</th>\n",
       "      <th>totalFee</th>\n",
       "      <th>SingtotalFee</th>\n",
       "      <th>jude_value</th>\n",
       "      <th>register_channelId</th>\n",
       "      <th>cunpon_use</th>\n",
       "      <th>jifen_use</th>\n",
       "      <th>cancel_order</th>\n",
       "      <th>GoodsView</th>\n",
       "      <th>ActiveDays</th>\n",
       "      <th>Age</th>\n",
       "      <th>Age_right</th>\n",
       "      <th>gender_right</th>\n",
       "      <th>province</th>\n",
       "    </tr>\n",
       "  </thead>\n",
       "  <tbody>\n",
       "    <tr>\n",
       "      <th>12663</th>\n",
       "      <td>1.574905</td>\n",
       "      <td>0.282560</td>\n",
       "      <td>-0.329729</td>\n",
       "      <td>0.789124</td>\n",
       "      <td>-0.066701</td>\n",
       "      <td>0.160425</td>\n",
       "      <td>1.980870</td>\n",
       "      <td>-0.651729</td>\n",
       "      <td>-0.530035</td>\n",
       "      <td>-0.14065</td>\n",
       "      <td>-0.275204</td>\n",
       "      <td>-0.517841</td>\n",
       "      <td>2.839775</td>\n",
       "      <td>0.273947</td>\n",
       "      <td>0.622383</td>\n",
       "      <td>0.473176</td>\n",
       "      <td>440000</td>\n",
       "    </tr>\n",
       "    <tr>\n",
       "      <th>15503</th>\n",
       "      <td>-0.033768</td>\n",
       "      <td>-0.525072</td>\n",
       "      <td>1.738361</td>\n",
       "      <td>-0.666747</td>\n",
       "      <td>0.594607</td>\n",
       "      <td>0.111049</td>\n",
       "      <td>-0.517929</td>\n",
       "      <td>-0.651729</td>\n",
       "      <td>-0.530035</td>\n",
       "      <td>-0.14065</td>\n",
       "      <td>3.633671</td>\n",
       "      <td>1.793620</td>\n",
       "      <td>-0.150442</td>\n",
       "      <td>0.605901</td>\n",
       "      <td>0.622383</td>\n",
       "      <td>0.473176</td>\n",
       "      <td>310000</td>\n",
       "    </tr>\n",
       "    <tr>\n",
       "      <th>9181</th>\n",
       "      <td>-0.033768</td>\n",
       "      <td>-0.775624</td>\n",
       "      <td>1.738361</td>\n",
       "      <td>-0.442767</td>\n",
       "      <td>0.120021</td>\n",
       "      <td>-0.333335</td>\n",
       "      <td>-0.517929</td>\n",
       "      <td>1.534380</td>\n",
       "      <td>1.886668</td>\n",
       "      <td>-0.14065</td>\n",
       "      <td>3.633671</td>\n",
       "      <td>-0.630595</td>\n",
       "      <td>-0.549137</td>\n",
       "      <td>0.008384</td>\n",
       "      <td>0.622383</td>\n",
       "      <td>0.473176</td>\n",
       "      <td>330000</td>\n",
       "    </tr>\n",
       "    <tr>\n",
       "      <th>4144</th>\n",
       "      <td>-1.642441</td>\n",
       "      <td>-0.770293</td>\n",
       "      <td>1.738361</td>\n",
       "      <td>-0.106797</td>\n",
       "      <td>-0.035581</td>\n",
       "      <td>-0.497921</td>\n",
       "      <td>1.730990</td>\n",
       "      <td>-0.651729</td>\n",
       "      <td>-0.530035</td>\n",
       "      <td>-0.14065</td>\n",
       "      <td>-0.275204</td>\n",
       "      <td>-0.517841</td>\n",
       "      <td>-0.349789</td>\n",
       "      <td>-1.452213</td>\n",
       "      <td>-1.606728</td>\n",
       "      <td>-2.113378</td>\n",
       "      <td>320000</td>\n",
       "    </tr>\n",
       "    <tr>\n",
       "      <th>3491</th>\n",
       "      <td>-0.033768</td>\n",
       "      <td>-0.735642</td>\n",
       "      <td>-0.329729</td>\n",
       "      <td>1.573054</td>\n",
       "      <td>1.804411</td>\n",
       "      <td>2.799296</td>\n",
       "      <td>-0.517929</td>\n",
       "      <td>1.534380</td>\n",
       "      <td>-0.530035</td>\n",
       "      <td>-0.14065</td>\n",
       "      <td>-0.275204</td>\n",
       "      <td>-0.517841</td>\n",
       "      <td>-0.349789</td>\n",
       "      <td>1.203418</td>\n",
       "      <td>0.622383</td>\n",
       "      <td>0.473176</td>\n",
       "      <td>110000</td>\n",
       "    </tr>\n",
       "  </tbody>\n",
       "</table>\n",
       "</div>"
      ],
      "text/plain": [
       "         gender  createOn  orderNum  Finaltime  totalFee  SingtotalFee  \\\n",
       "12663  1.574905  0.282560 -0.329729   0.789124 -0.066701      0.160425   \n",
       "15503 -0.033768 -0.525072  1.738361  -0.666747  0.594607      0.111049   \n",
       "9181  -0.033768 -0.775624  1.738361  -0.442767  0.120021     -0.333335   \n",
       "4144  -1.642441 -0.770293  1.738361  -0.106797 -0.035581     -0.497921   \n",
       "3491  -0.033768 -0.735642 -0.329729   1.573054  1.804411      2.799296   \n",
       "\n",
       "       jude_value  register_channelId  cunpon_use  jifen_use  cancel_order  \\\n",
       "12663    1.980870           -0.651729   -0.530035   -0.14065     -0.275204   \n",
       "15503   -0.517929           -0.651729   -0.530035   -0.14065      3.633671   \n",
       "9181    -0.517929            1.534380    1.886668   -0.14065      3.633671   \n",
       "4144     1.730990           -0.651729   -0.530035   -0.14065     -0.275204   \n",
       "3491    -0.517929            1.534380   -0.530035   -0.14065     -0.275204   \n",
       "\n",
       "       GoodsView  ActiveDays       Age  Age_right  gender_right province  \n",
       "12663  -0.517841    2.839775  0.273947   0.622383      0.473176   440000  \n",
       "15503   1.793620   -0.150442  0.605901   0.622383      0.473176   310000  \n",
       "9181   -0.630595   -0.549137  0.008384   0.622383      0.473176   330000  \n",
       "4144   -0.517841   -0.349789 -1.452213  -1.606728     -2.113378   320000  \n",
       "3491   -0.517841   -0.349789  1.203418   0.622383      0.473176   110000  "
      ]
     },
     "execution_count": 76,
     "metadata": {},
     "output_type": "execute_result"
    }
   ],
   "source": [
    "# 数据集的归一化\n",
    "df1 = df.iloc[:,1:].apply(lambda x:(x-np.mean(x))/np.std(x))\n",
    "df1['province'] = df['provinceId']\n",
    "df1.head()"
   ]
  },
  {
   "cell_type": "code",
   "execution_count": 77,
   "metadata": {
    "collapsed": true
   },
   "outputs": [],
   "source": [
    "# 将数据划分成训练集和测试集\n",
    "df_train = df1.iloc[:14000,:]\n",
    "df_test = df1.iloc[14000:,:]\n",
    "target_train = target.iloc[:14000]\n",
    "target_test = target.iloc[14000:]\n"
   ]
  },
  {
   "cell_type": "code",
   "execution_count": 78,
   "metadata": {
    "collapsed": false
   },
   "outputs": [
    {
     "name": "stdout",
     "output_type": "stream",
     "text": [
      "0.513928571429\n",
      "0.518369775398\n",
      "1.0\n",
      "0.518369775398\n"
     ]
    },
    {
     "name": "stderr",
     "output_type": "stream",
     "text": [
      "/anaconda/lib/python3.6/site-packages/sklearn/utils/validation.py:526: DataConversionWarning: A column-vector y was passed when a 1d array was expected. Please change the shape of y to (n_samples, ), for example using ravel().\n",
      "  y = column_or_1d(y, warn=True)\n"
     ]
    }
   ],
   "source": [
    "# LR模型\n",
    "from sklearn.linear_model import LogisticRegression\n",
    "from sklearn.metrics import accuracy_score\n",
    "from sklearn.metrics import recall_score\n",
    "from sklearn.metrics import precision_score\n",
    "# LR 模型的训练\n",
    "LR = LogisticRegression()\n",
    "LR.fit(df_train, target_train)\n",
    "score = LR.score(df_train, target_train)\n",
    "print(score)\n",
    "predict_LR = LR.predict(df_test)\n",
    "accuracy_LR = accuracy_score(target_test, predict_LR)\n",
    "print(accuracy_LR)\n",
    "print(recall_score(target_test, predict_LR, average='binary'))\n",
    "print(precision_score(target_test, predict_LR, average='binary'))"
   ]
  },
  {
   "cell_type": "code",
   "execution_count": 79,
   "metadata": {
    "collapsed": false
   },
   "outputs": [
    {
     "name": "stderr",
     "output_type": "stream",
     "text": [
      "/anaconda/lib/python3.6/site-packages/sklearn/utils/validation.py:526: DataConversionWarning: A column-vector y was passed when a 1d array was expected. Please change the shape of y to (n_samples, ), for example using ravel().\n",
      "  y = column_or_1d(y, warn=True)\n"
     ]
    },
    {
     "name": "stdout",
     "output_type": "stream",
     "text": [
      "0.755357142857\n",
      "0.697456492637\n",
      "0.78106169297\n",
      "0.681692962685\n"
     ]
    }
   ],
   "source": [
    "# SVM 模型\n",
    "from sklearn import svm\n",
    "SVM = svm.SVC(C=1.0)\n",
    "SVM.fit(df_train, target_train)\n",
    "score = SVM.score(df_train, target_train)\n",
    "print(score)\n",
    "predict_SVM = SVM.predict(df_test)\n",
    "accuracy_SVM = accuracy_score(target_test, predict_SVM)\n",
    "print(accuracy_SVM)\n",
    "print(recall_score(target_test, predict_SVM, average='binary'))\n",
    "print(precision_score(target_test, predict_SVM, average='binary'))"
   ]
  },
  {
   "cell_type": "code",
   "execution_count": 80,
   "metadata": {
    "collapsed": false
   },
   "outputs": [
    {
     "name": "stderr",
     "output_type": "stream",
     "text": [
      "/anaconda/lib/python3.6/site-packages/ipykernel/__main__.py:4: DataConversionWarning: A column-vector y was passed when a 1d array was expected. Please change the shape of y to (n_samples,), for example using ravel().\n"
     ]
    },
    {
     "name": "stdout",
     "output_type": "stream",
     "text": [
      "0.999214285714\n",
      "0.762903465715\n",
      "0.835007173601\n",
      "0.74064647493\n",
      "(<14000x154308 sparse matrix of type '<class 'numpy.int64'>'\n",
      "\twith 6340654 stored elements in Compressed Sparse Row format>, array([     0,   5075,  10158,  15275,  20520,  25641,  30930,  35929,\n",
      "        41162,  46355,  51654,  56959,  62006,  67081,  72054,  77179,\n",
      "        82262,  87289,  92510,  97677, 103186, 108261, 113372, 118617,\n",
      "       123666, 128673, 133836, 138769, 143954, 149139, 154308]))\n"
     ]
    }
   ],
   "source": [
    "# 测试一下随机森林算法\n",
    "from sklearn.ensemble import RandomForestClassifier\n",
    "RFC = RandomForestClassifier(n_estimators=30)\n",
    "RFC.fit(df_train, target_train)\n",
    "score = RFC.score(df_train, target_train)\n",
    "print(score)\n",
    "predict_RFC = RFC.predict(df_test)\n",
    "accuracy_RFC = accuracy_score(target_test, predict_RFC)\n",
    "print(accuracy_RFC)\n",
    "print(recall_score(target_test, predict_RFC, average='binary'))\n",
    "print(precision_score(target_test, predict_RFC, average='binary'))\n",
    "print(RFC.decision_path(df_train))"
   ]
  },
  {
   "cell_type": "code",
   "execution_count": 81,
   "metadata": {
    "collapsed": false
   },
   "outputs": [
    {
     "name": "stdout",
     "output_type": "stream",
     "text": [
      "0.999785714286\n",
      "0.699241410085\n",
      "0.69612625538\n",
      "0.715845382119\n"
     ]
    }
   ],
   "source": [
    "# 测试决策树算法\n",
    "from sklearn import tree\n",
    "TR = tree.DecisionTreeClassifier()\n",
    "TR.fit(df_train, target_train)\n",
    "print(TR.score(df_train, target_train))\n",
    "predict_TR = TR.predict(df_test)\n",
    "print(accuracy_score(target_test, predict_TR))\n",
    "print(recall_score(target_test, predict_TR, average='binary'))\n",
    "print(precision_score(target_test, predict_TR, average='binary'))"
   ]
  },
  {
   "cell_type": "code",
   "execution_count": 82,
   "metadata": {
    "collapsed": true
   },
   "outputs": [],
   "source": [
    "# 带入真实场景，测试随机森林算法的效果\n",
    "data_415 = pd.read_excel('/Users/pein/Desktop/415515蛋糕用户测试集.xlsx')"
   ]
  },
  {
   "cell_type": "code",
   "execution_count": 83,
   "metadata": {
    "collapsed": false
   },
   "outputs": [],
   "source": [
    "data_415['provinceId'] = data_415.provinceId.astype('category')\n",
    "data_415['jude_value'] = data_415.jude_value.astype(float)\n",
    "data_415 = data_415.drop(['uid'],1)"
   ]
  },
  {
   "cell_type": "code",
   "execution_count": 84,
   "metadata": {
    "collapsed": false
   },
   "outputs": [
    {
     "name": "stderr",
     "output_type": "stream",
     "text": [
      "/anaconda/lib/python3.6/site-packages/ipykernel/__main__.py:6: SettingWithCopyWarning: \n",
      "A value is trying to be set on a copy of a slice from a DataFrame\n",
      "\n",
      "See the caveats in the documentation: http://pandas.pydata.org/pandas-docs/stable/indexing.html#indexing-view-versus-copy\n",
      "/anaconda/lib/python3.6/site-packages/ipykernel/__main__.py:7: SettingWithCopyWarning: \n",
      "A value is trying to be set on a copy of a slice from a DataFrame\n",
      "\n",
      "See the caveats in the documentation: http://pandas.pydata.org/pandas-docs/stable/indexing.html#indexing-view-versus-copy\n",
      "/anaconda/lib/python3.6/site-packages/ipykernel/__main__.py:8: SettingWithCopyWarning: \n",
      "A value is trying to be set on a copy of a slice from a DataFrame\n",
      "\n",
      "See the caveats in the documentation: http://pandas.pydata.org/pandas-docs/stable/indexing.html#indexing-view-versus-copy\n",
      "/anaconda/lib/python3.6/site-packages/ipykernel/__main__.py:9: SettingWithCopyWarning: \n",
      "A value is trying to be set on a copy of a slice from a DataFrame\n",
      "\n",
      "See the caveats in the documentation: http://pandas.pydata.org/pandas-docs/stable/indexing.html#indexing-view-versus-copy\n",
      "/anaconda/lib/python3.6/site-packages/ipykernel/__main__.py:13: SettingWithCopyWarning: \n",
      "A value is trying to be set on a copy of a slice from a DataFrame\n",
      "\n",
      "See the caveats in the documentation: http://pandas.pydata.org/pandas-docs/stable/indexing.html#indexing-view-versus-copy\n"
     ]
    }
   ],
   "source": [
    "#处理出生年龄\n",
    "data_415['Age'] = 2017-data_415.birthYear\n",
    "mask_age_lower = data_415['Age']<10\n",
    "mask_age_high = data_415['Age']>90\n",
    "data_415['Age_right'] =1\n",
    "data_415['Age_right'][mask_age_lower] = 0\n",
    "data_415['Age_right'][mask_age_high] = 0\n",
    "data_415['Age'][mask_age_lower] = 0\n",
    "data_415['Age'][mask_age_high] = 0\n",
    "# 处理性别数据\n",
    "mask_gender_error = data_415['gender']==-1\n",
    "data_415['gender_right'] = 1\n",
    "data_415['gender_right'][mask_gender_error] =0"
   ]
  },
  {
   "cell_type": "code",
   "execution_count": 85,
   "metadata": {
    "collapsed": false
   },
   "outputs": [],
   "source": [
    "data_415 = data_415.drop(['birthYear'], 1)\n"
   ]
  },
  {
   "cell_type": "code",
   "execution_count": 86,
   "metadata": {
    "collapsed": false
   },
   "outputs": [
    {
     "data": {
      "text/html": [
       "<div>\n",
       "<table border=\"1\" class=\"dataframe\">\n",
       "  <thead>\n",
       "    <tr style=\"text-align: right;\">\n",
       "      <th></th>\n",
       "      <th>provinceId</th>\n",
       "      <th>gender</th>\n",
       "      <th>createOn</th>\n",
       "      <th>orderNum</th>\n",
       "      <th>Finaltime</th>\n",
       "      <th>totalFee</th>\n",
       "      <th>SingtotalFee</th>\n",
       "      <th>register_channelId</th>\n",
       "      <th>jude_value</th>\n",
       "      <th>GoodsView</th>\n",
       "      <th>ActiveDays</th>\n",
       "      <th>cunpon_use</th>\n",
       "      <th>jifen_use</th>\n",
       "      <th>cancel_order</th>\n",
       "      <th>Age</th>\n",
       "      <th>Age_right</th>\n",
       "      <th>gender_right</th>\n",
       "    </tr>\n",
       "  </thead>\n",
       "  <tbody>\n",
       "    <tr>\n",
       "      <th>0</th>\n",
       "      <td>110000</td>\n",
       "      <td>1</td>\n",
       "      <td>1800</td>\n",
       "      <td>1</td>\n",
       "      <td>4</td>\n",
       "      <td>19.0</td>\n",
       "      <td>19.0</td>\n",
       "      <td>0</td>\n",
       "      <td>4.0</td>\n",
       "      <td>191</td>\n",
       "      <td>25</td>\n",
       "      <td>0</td>\n",
       "      <td>0</td>\n",
       "      <td>0</td>\n",
       "      <td>30</td>\n",
       "      <td>1</td>\n",
       "      <td>1</td>\n",
       "    </tr>\n",
       "    <tr>\n",
       "      <th>1</th>\n",
       "      <td>110000</td>\n",
       "      <td>1</td>\n",
       "      <td>1344</td>\n",
       "      <td>1</td>\n",
       "      <td>28</td>\n",
       "      <td>303.0</td>\n",
       "      <td>303.0</td>\n",
       "      <td>1</td>\n",
       "      <td>2.5</td>\n",
       "      <td>4</td>\n",
       "      <td>5</td>\n",
       "      <td>0</td>\n",
       "      <td>0</td>\n",
       "      <td>0</td>\n",
       "      <td>33</td>\n",
       "      <td>1</td>\n",
       "      <td>1</td>\n",
       "    </tr>\n",
       "    <tr>\n",
       "      <th>2</th>\n",
       "      <td>440000</td>\n",
       "      <td>1</td>\n",
       "      <td>1707</td>\n",
       "      <td>1</td>\n",
       "      <td>18</td>\n",
       "      <td>233.0</td>\n",
       "      <td>233.0</td>\n",
       "      <td>1</td>\n",
       "      <td>2.5</td>\n",
       "      <td>11</td>\n",
       "      <td>2</td>\n",
       "      <td>0</td>\n",
       "      <td>0</td>\n",
       "      <td>0</td>\n",
       "      <td>45</td>\n",
       "      <td>1</td>\n",
       "      <td>1</td>\n",
       "    </tr>\n",
       "    <tr>\n",
       "      <th>3</th>\n",
       "      <td>420000</td>\n",
       "      <td>0</td>\n",
       "      <td>1343</td>\n",
       "      <td>1</td>\n",
       "      <td>13</td>\n",
       "      <td>134.0</td>\n",
       "      <td>134.0</td>\n",
       "      <td>1</td>\n",
       "      <td>2.5</td>\n",
       "      <td>1</td>\n",
       "      <td>1</td>\n",
       "      <td>0</td>\n",
       "      <td>0</td>\n",
       "      <td>0</td>\n",
       "      <td>21</td>\n",
       "      <td>1</td>\n",
       "      <td>1</td>\n",
       "    </tr>\n",
       "    <tr>\n",
       "      <th>4</th>\n",
       "      <td>310000</td>\n",
       "      <td>0</td>\n",
       "      <td>1343</td>\n",
       "      <td>1</td>\n",
       "      <td>16</td>\n",
       "      <td>248.0</td>\n",
       "      <td>248.0</td>\n",
       "      <td>1</td>\n",
       "      <td>5.0</td>\n",
       "      <td>76</td>\n",
       "      <td>2</td>\n",
       "      <td>0</td>\n",
       "      <td>0</td>\n",
       "      <td>0</td>\n",
       "      <td>30</td>\n",
       "      <td>1</td>\n",
       "      <td>1</td>\n",
       "    </tr>\n",
       "  </tbody>\n",
       "</table>\n",
       "</div>"
      ],
      "text/plain": [
       "  provinceId  gender  createOn  orderNum  Finaltime  totalFee  SingtotalFee  \\\n",
       "0     110000       1      1800         1          4      19.0          19.0   \n",
       "1     110000       1      1344         1         28     303.0         303.0   \n",
       "2     440000       1      1707         1         18     233.0         233.0   \n",
       "3     420000       0      1343         1         13     134.0         134.0   \n",
       "4     310000       0      1343         1         16     248.0         248.0   \n",
       "\n",
       "   register_channelId  jude_value  GoodsView  ActiveDays  cunpon_use  \\\n",
       "0                   0         4.0        191          25           0   \n",
       "1                   1         2.5          4           5           0   \n",
       "2                   1         2.5         11           2           0   \n",
       "3                   1         2.5          1           1           0   \n",
       "4                   1         5.0         76           2           0   \n",
       "\n",
       "   jifen_use  cancel_order  Age  Age_right  gender_right  \n",
       "0          0             0   30          1             1  \n",
       "1          0             0   33          1             1  \n",
       "2          0             0   45          1             1  \n",
       "3          0             0   21          1             1  \n",
       "4          0             0   30          1             1  "
      ]
     },
     "execution_count": 86,
     "metadata": {},
     "output_type": "execute_result"
    }
   ],
   "source": [
    "data_415.head()"
   ]
  },
  {
   "cell_type": "code",
   "execution_count": 87,
   "metadata": {
    "collapsed": false
   },
   "outputs": [
    {
     "data": {
      "text/html": [
       "<div>\n",
       "<table border=\"1\" class=\"dataframe\">\n",
       "  <thead>\n",
       "    <tr style=\"text-align: right;\">\n",
       "      <th></th>\n",
       "      <th>gender</th>\n",
       "      <th>createOn</th>\n",
       "      <th>orderNum</th>\n",
       "      <th>Finaltime</th>\n",
       "      <th>totalFee</th>\n",
       "      <th>SingtotalFee</th>\n",
       "      <th>register_channelId</th>\n",
       "      <th>jude_value</th>\n",
       "      <th>GoodsView</th>\n",
       "      <th>ActiveDays</th>\n",
       "      <th>cunpon_use</th>\n",
       "      <th>jifen_use</th>\n",
       "      <th>cancel_order</th>\n",
       "      <th>Age</th>\n",
       "      <th>Age_right</th>\n",
       "      <th>gender_right</th>\n",
       "      <th>province</th>\n",
       "    </tr>\n",
       "  </thead>\n",
       "  <tbody>\n",
       "    <tr>\n",
       "      <th>0</th>\n",
       "      <td>1.547959</td>\n",
       "      <td>3.834760</td>\n",
       "      <td>-0.228219</td>\n",
       "      <td>-1.019285</td>\n",
       "      <td>-1.116291</td>\n",
       "      <td>-1.258061</td>\n",
       "      <td>-1.785238</td>\n",
       "      <td>1.449629</td>\n",
       "      <td>9.404941</td>\n",
       "      <td>5.474314</td>\n",
       "      <td>-0.379958</td>\n",
       "      <td>-0.095419</td>\n",
       "      <td>-0.273795</td>\n",
       "      <td>0.649538</td>\n",
       "      <td>0.70437</td>\n",
       "      <td>0.521438</td>\n",
       "      <td>110000</td>\n",
       "    </tr>\n",
       "    <tr>\n",
       "      <th>1</th>\n",
       "      <td>1.547959</td>\n",
       "      <td>2.676557</td>\n",
       "      <td>-0.228219</td>\n",
       "      <td>1.589558</td>\n",
       "      <td>0.113248</td>\n",
       "      <td>0.286274</td>\n",
       "      <td>0.560150</td>\n",
       "      <td>-0.385340</td>\n",
       "      <td>-0.553542</td>\n",
       "      <td>0.473200</td>\n",
       "      <td>-0.379958</td>\n",
       "      <td>-0.095419</td>\n",
       "      <td>-0.273795</td>\n",
       "      <td>0.844056</td>\n",
       "      <td>0.70437</td>\n",
       "      <td>0.521438</td>\n",
       "      <td>110000</td>\n",
       "    </tr>\n",
       "    <tr>\n",
       "      <th>2</th>\n",
       "      <td>1.547959</td>\n",
       "      <td>3.598547</td>\n",
       "      <td>-0.228219</td>\n",
       "      <td>0.502540</td>\n",
       "      <td>-0.189808</td>\n",
       "      <td>-0.094372</td>\n",
       "      <td>0.560150</td>\n",
       "      <td>-0.385340</td>\n",
       "      <td>-0.180765</td>\n",
       "      <td>-0.276967</td>\n",
       "      <td>-0.379958</td>\n",
       "      <td>-0.095419</td>\n",
       "      <td>-0.273795</td>\n",
       "      <td>1.622127</td>\n",
       "      <td>0.70437</td>\n",
       "      <td>0.521438</td>\n",
       "      <td>440000</td>\n",
       "    </tr>\n",
       "    <tr>\n",
       "      <th>3</th>\n",
       "      <td>0.008535</td>\n",
       "      <td>2.674017</td>\n",
       "      <td>-0.228219</td>\n",
       "      <td>-0.040968</td>\n",
       "      <td>-0.618414</td>\n",
       "      <td>-0.632714</td>\n",
       "      <td>0.560150</td>\n",
       "      <td>-0.385340</td>\n",
       "      <td>-0.713304</td>\n",
       "      <td>-0.527022</td>\n",
       "      <td>-0.379958</td>\n",
       "      <td>-0.095419</td>\n",
       "      <td>-0.273795</td>\n",
       "      <td>0.065985</td>\n",
       "      <td>0.70437</td>\n",
       "      <td>0.521438</td>\n",
       "      <td>420000</td>\n",
       "    </tr>\n",
       "    <tr>\n",
       "      <th>4</th>\n",
       "      <td>0.008535</td>\n",
       "      <td>2.674017</td>\n",
       "      <td>-0.228219</td>\n",
       "      <td>0.285137</td>\n",
       "      <td>-0.124867</td>\n",
       "      <td>-0.012805</td>\n",
       "      <td>0.560150</td>\n",
       "      <td>2.672941</td>\n",
       "      <td>3.280740</td>\n",
       "      <td>-0.276967</td>\n",
       "      <td>-0.379958</td>\n",
       "      <td>-0.095419</td>\n",
       "      <td>-0.273795</td>\n",
       "      <td>0.649538</td>\n",
       "      <td>0.70437</td>\n",
       "      <td>0.521438</td>\n",
       "      <td>310000</td>\n",
       "    </tr>\n",
       "  </tbody>\n",
       "</table>\n",
       "</div>"
      ],
      "text/plain": [
       "     gender  createOn  orderNum  Finaltime  totalFee  SingtotalFee  \\\n",
       "0  1.547959  3.834760 -0.228219  -1.019285 -1.116291     -1.258061   \n",
       "1  1.547959  2.676557 -0.228219   1.589558  0.113248      0.286274   \n",
       "2  1.547959  3.598547 -0.228219   0.502540 -0.189808     -0.094372   \n",
       "3  0.008535  2.674017 -0.228219  -0.040968 -0.618414     -0.632714   \n",
       "4  0.008535  2.674017 -0.228219   0.285137 -0.124867     -0.012805   \n",
       "\n",
       "   register_channelId  jude_value  GoodsView  ActiveDays  cunpon_use  \\\n",
       "0           -1.785238    1.449629   9.404941    5.474314   -0.379958   \n",
       "1            0.560150   -0.385340  -0.553542    0.473200   -0.379958   \n",
       "2            0.560150   -0.385340  -0.180765   -0.276967   -0.379958   \n",
       "3            0.560150   -0.385340  -0.713304   -0.527022   -0.379958   \n",
       "4            0.560150    2.672941   3.280740   -0.276967   -0.379958   \n",
       "\n",
       "   jifen_use  cancel_order       Age  Age_right  gender_right province  \n",
       "0  -0.095419     -0.273795  0.649538    0.70437      0.521438   110000  \n",
       "1  -0.095419     -0.273795  0.844056    0.70437      0.521438   110000  \n",
       "2  -0.095419     -0.273795  1.622127    0.70437      0.521438   440000  \n",
       "3  -0.095419     -0.273795  0.065985    0.70437      0.521438   420000  \n",
       "4  -0.095419     -0.273795  0.649538    0.70437      0.521438   310000  "
      ]
     },
     "execution_count": 87,
     "metadata": {},
     "output_type": "execute_result"
    }
   ],
   "source": [
    "data_515 = data_415.iloc[:,1:].apply(lambda x:(x-np.mean(x))/np.std(x))\n",
    "data_515['province'] = data_415['provinceId']\n",
    "data_515.head()"
   ]
  },
  {
   "cell_type": "code",
   "execution_count": 88,
   "metadata": {
    "collapsed": false
   },
   "outputs": [
    {
     "name": "stderr",
     "output_type": "stream",
     "text": [
      "/anaconda/lib/python3.6/site-packages/ipykernel/__main__.py:4: DataConversionWarning: A column-vector y was passed when a 1d array was expected. Please change the shape of y to (n_samples,), for example using ravel().\n"
     ]
    },
    {
     "name": "stdout",
     "output_type": "stream",
     "text": [
      "0.998986633209\n"
     ]
    }
   ],
   "source": [
    "# 测试一下随机森林算法\n",
    "from sklearn.ensemble import RandomForestClassifier\n",
    "RFC = RandomForestClassifier(n_estimators=30)\n",
    "RFC.fit(df1, target)\n",
    "score = RFC.score(df1, target)\n",
    "print(score)\n",
    "predict_RFC_real = RFC.predict(data_515)\n"
   ]
  },
  {
   "cell_type": "code",
   "execution_count": 90,
   "metadata": {
    "collapsed": false
   },
   "outputs": [],
   "source": [
    "data_515['Loss_or_not'] = predict_RFC_real"
   ]
  },
  {
   "cell_type": "code",
   "execution_count": 91,
   "metadata": {
    "collapsed": true
   },
   "outputs": [],
   "source": [
    "data_515.to_csv('/Users/pein/Desktop/415515.csv')"
   ]
  },
  {
   "cell_type": "code",
   "execution_count": 6,
   "metadata": {
    "collapsed": false
   },
   "outputs": [
    {
     "data": {
      "text/html": [
       "<div>\n",
       "<table border=\"1\" class=\"dataframe\">\n",
       "  <thead>\n",
       "    <tr style=\"text-align: right;\">\n",
       "      <th></th>\n",
       "      <th>A</th>\n",
       "      <th>B</th>\n",
       "    </tr>\n",
       "  </thead>\n",
       "  <tbody>\n",
       "    <tr>\n",
       "      <th>0</th>\n",
       "      <td>a</td>\n",
       "      <td>a</td>\n",
       "    </tr>\n",
       "    <tr>\n",
       "      <th>1</th>\n",
       "      <td>b</td>\n",
       "      <td>b</td>\n",
       "    </tr>\n",
       "    <tr>\n",
       "      <th>2</th>\n",
       "      <td>c</td>\n",
       "      <td>c</td>\n",
       "    </tr>\n",
       "  </tbody>\n",
       "</table>\n",
       "</div>"
      ],
      "text/plain": [
       "   A  B\n",
       "0  a  a\n",
       "1  b  b\n",
       "2  c  c"
      ]
     },
     "execution_count": 6,
     "metadata": {},
     "output_type": "execute_result"
    }
   ],
   "source": [
    "import pandas as pd\n",
    "a = pd.DataFrame({'A':['a','b','c'],'B':['a','b','c']})\n",
    "a"
   ]
  },
  {
   "cell_type": "code",
   "execution_count": 8,
   "metadata": {
    "collapsed": false
   },
   "outputs": [
    {
     "data": {
      "text/html": [
       "<div>\n",
       "<table border=\"1\" class=\"dataframe\">\n",
       "  <thead>\n",
       "    <tr style=\"text-align: right;\">\n",
       "      <th></th>\n",
       "      <th>A_a</th>\n",
       "      <th>A_b</th>\n",
       "      <th>A_c</th>\n",
       "      <th>B_a</th>\n",
       "      <th>B_b</th>\n",
       "      <th>B_c</th>\n",
       "    </tr>\n",
       "  </thead>\n",
       "  <tbody>\n",
       "    <tr>\n",
       "      <th>0</th>\n",
       "      <td>1</td>\n",
       "      <td>0</td>\n",
       "      <td>0</td>\n",
       "      <td>1</td>\n",
       "      <td>0</td>\n",
       "      <td>0</td>\n",
       "    </tr>\n",
       "    <tr>\n",
       "      <th>1</th>\n",
       "      <td>0</td>\n",
       "      <td>1</td>\n",
       "      <td>0</td>\n",
       "      <td>0</td>\n",
       "      <td>1</td>\n",
       "      <td>0</td>\n",
       "    </tr>\n",
       "    <tr>\n",
       "      <th>2</th>\n",
       "      <td>0</td>\n",
       "      <td>0</td>\n",
       "      <td>1</td>\n",
       "      <td>0</td>\n",
       "      <td>0</td>\n",
       "      <td>1</td>\n",
       "    </tr>\n",
       "  </tbody>\n",
       "</table>\n",
       "</div>"
      ],
      "text/plain": [
       "   A_a  A_b  A_c  B_a  B_b  B_c\n",
       "0    1    0    0    1    0    0\n",
       "1    0    1    0    0    1    0\n",
       "2    0    0    1    0    0    1"
      ]
     },
     "execution_count": 8,
     "metadata": {},
     "output_type": "execute_result"
    }
   ],
   "source": [
    "pd.get_dummies(a)"
   ]
  },
  {
   "cell_type": "code",
   "execution_count": null,
   "metadata": {
    "collapsed": true
   },
   "outputs": [],
   "source": []
  }
 ],
 "metadata": {
  "kernelspec": {
   "display_name": "Python 3",
   "language": "python",
   "name": "python3"
  },
  "language_info": {
   "codemirror_mode": {
    "name": "ipython",
    "version": 3
   },
   "file_extension": ".py",
   "mimetype": "text/x-python",
   "name": "python",
   "nbconvert_exporter": "python",
   "pygments_lexer": "ipython3",
   "version": "3.6.0"
  }
 },
 "nbformat": 4,
 "nbformat_minor": 2
}
